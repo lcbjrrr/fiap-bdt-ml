{
  "nbformat": 4,
  "nbformat_minor": 0,
  "metadata": {
    "colab": {
      "name": "Trabalho_FInal_ML_IA.ipynb",
      "provenance": [],
      "collapsed_sections": [],
      "include_colab_link": true
    },
    "kernelspec": {
      "name": "python3",
      "display_name": "Python 3"
    }
  },
  "cells": [
    {
      "cell_type": "markdown",
      "metadata": {
        "id": "view-in-github",
        "colab_type": "text"
      },
      "source": [
        "<a href=\"https://colab.research.google.com/github/lcbjrrr/fiap-bdt-ml/blob/master/Trabalho_FInal_ML_IA.ipynb\" target=\"_parent\"><img src=\"https://colab.research.google.com/assets/colab-badge.svg\" alt=\"Open In Colab\"/></a>"
      ]
    },
    {
      "cell_type": "code",
      "metadata": {
        "id": "_POtkrNG-zK3",
        "colab_type": "code",
        "outputId": "26c918e5-8c84-49c2-fe72-163f0ca15877",
        "colab": {
          "base_uri": "https://localhost:8080/",
          "height": 128
        }
      },
      "source": [
        "# Acessar Google drive\n",
        "from google.colab import drive\n",
        "drive.mount('/content/drive')"
      ],
      "execution_count": 0,
      "outputs": [
        {
          "output_type": "stream",
          "text": [
            "Go to this URL in a browser: https://accounts.google.com/o/oauth2/auth?client_id=947318989803-6bn6qk8qdgf4n4g3pfee6491hc0brc4i.apps.googleusercontent.com&redirect_uri=urn%3aietf%3awg%3aoauth%3a2.0%3aoob&response_type=code&scope=email%20https%3a%2f%2fwww.googleapis.com%2fauth%2fdocs.test%20https%3a%2f%2fwww.googleapis.com%2fauth%2fdrive%20https%3a%2f%2fwww.googleapis.com%2fauth%2fdrive.photos.readonly%20https%3a%2f%2fwww.googleapis.com%2fauth%2fpeopleapi.readonly\n",
            "\n",
            "Enter your authorization code:\n",
            "··········\n",
            "Mounted at /content/drive\n"
          ],
          "name": "stdout"
        }
      ]
    },
    {
      "cell_type": "code",
      "metadata": {
        "id": "Mz5Bnp3i_8nv",
        "colab_type": "code",
        "outputId": "ebd104ee-045b-4929-9cf3-23d2f7bb7cb0",
        "colab": {
          "base_uri": "https://localhost:8080/",
          "height": 1000
        }
      },
      "source": [
        "# importar dados\n",
        "import pandas as pd\n",
        "MArvelDC= pd.read_csv(\"/content/drive/My Drive/PROJ/dados/marvel-vs-dc.csv\")\n",
        "MArvelDC\n"
      ],
      "execution_count": 0,
      "outputs": [
        {
          "output_type": "execute_result",
          "data": {
            "text/html": [
              "<div>\n",
              "<style scoped>\n",
              "    .dataframe tbody tr th:only-of-type {\n",
              "        vertical-align: middle;\n",
              "    }\n",
              "\n",
              "    .dataframe tbody tr th {\n",
              "        vertical-align: top;\n",
              "    }\n",
              "\n",
              "    .dataframe thead th {\n",
              "        text-align: right;\n",
              "    }\n",
              "</style>\n",
              "<table border=\"1\" class=\"dataframe\">\n",
              "  <thead>\n",
              "    <tr style=\"text-align: right;\">\n",
              "      <th></th>\n",
              "      <th>Original Title</th>\n",
              "      <th>Company</th>\n",
              "      <th>Rate</th>\n",
              "      <th>Metascore</th>\n",
              "      <th>Minutes</th>\n",
              "      <th>Release</th>\n",
              "      <th>Budget</th>\n",
              "      <th>OpeningWeekendUSA</th>\n",
              "      <th>GrossUSA</th>\n",
              "      <th>GrossWorldwide</th>\n",
              "    </tr>\n",
              "  </thead>\n",
              "  <tbody>\n",
              "    <tr>\n",
              "      <th>0</th>\n",
              "      <td>Iron Man</td>\n",
              "      <td>Marvel</td>\n",
              "      <td>7.9</td>\n",
              "      <td>79</td>\n",
              "      <td>126</td>\n",
              "      <td>2008</td>\n",
              "      <td>140000000</td>\n",
              "      <td>98618668</td>\n",
              "      <td>318604126</td>\n",
              "      <td>585366247</td>\n",
              "    </tr>\n",
              "    <tr>\n",
              "      <th>1</th>\n",
              "      <td>The Incredible Hulk</td>\n",
              "      <td>Marvel</td>\n",
              "      <td>6.7</td>\n",
              "      <td>61</td>\n",
              "      <td>112</td>\n",
              "      <td>2008</td>\n",
              "      <td>150000000</td>\n",
              "      <td>55414050</td>\n",
              "      <td>134806913</td>\n",
              "      <td>263427551</td>\n",
              "    </tr>\n",
              "    <tr>\n",
              "      <th>2</th>\n",
              "      <td>Iron Man 2</td>\n",
              "      <td>Marvel</td>\n",
              "      <td>7.0</td>\n",
              "      <td>57</td>\n",
              "      <td>124</td>\n",
              "      <td>2010</td>\n",
              "      <td>200000000</td>\n",
              "      <td>128122480</td>\n",
              "      <td>312433331</td>\n",
              "      <td>623933331</td>\n",
              "    </tr>\n",
              "    <tr>\n",
              "      <th>3</th>\n",
              "      <td>Thor</td>\n",
              "      <td>Marvel</td>\n",
              "      <td>7.0</td>\n",
              "      <td>57</td>\n",
              "      <td>115</td>\n",
              "      <td>2011</td>\n",
              "      <td>150000000</td>\n",
              "      <td>65723338</td>\n",
              "      <td>181030624</td>\n",
              "      <td>449326618</td>\n",
              "    </tr>\n",
              "    <tr>\n",
              "      <th>4</th>\n",
              "      <td>Captain America: The First Avenger</td>\n",
              "      <td>Marvel</td>\n",
              "      <td>6.9</td>\n",
              "      <td>66</td>\n",
              "      <td>124</td>\n",
              "      <td>2011</td>\n",
              "      <td>140000000</td>\n",
              "      <td>65058524</td>\n",
              "      <td>176654505</td>\n",
              "      <td>370569774</td>\n",
              "    </tr>\n",
              "    <tr>\n",
              "      <th>5</th>\n",
              "      <td>The Avengers</td>\n",
              "      <td>Marvel</td>\n",
              "      <td>8.0</td>\n",
              "      <td>69</td>\n",
              "      <td>143</td>\n",
              "      <td>2012</td>\n",
              "      <td>220000000</td>\n",
              "      <td>207438708</td>\n",
              "      <td>623357910</td>\n",
              "      <td>1518812988</td>\n",
              "    </tr>\n",
              "    <tr>\n",
              "      <th>6</th>\n",
              "      <td>Iron Man Three</td>\n",
              "      <td>Marvel</td>\n",
              "      <td>7.2</td>\n",
              "      <td>62</td>\n",
              "      <td>130</td>\n",
              "      <td>2013</td>\n",
              "      <td>200000000</td>\n",
              "      <td>174144585</td>\n",
              "      <td>409013994</td>\n",
              "      <td>1214811252</td>\n",
              "    </tr>\n",
              "    <tr>\n",
              "      <th>7</th>\n",
              "      <td>Thor: The Dark World</td>\n",
              "      <td>Marvel</td>\n",
              "      <td>6.9</td>\n",
              "      <td>54</td>\n",
              "      <td>112</td>\n",
              "      <td>2013</td>\n",
              "      <td>170000000</td>\n",
              "      <td>85737841</td>\n",
              "      <td>206362140</td>\n",
              "      <td>644783140</td>\n",
              "    </tr>\n",
              "    <tr>\n",
              "      <th>8</th>\n",
              "      <td>Captain America: The Winter Soldier</td>\n",
              "      <td>Marvel</td>\n",
              "      <td>7.7</td>\n",
              "      <td>70</td>\n",
              "      <td>136</td>\n",
              "      <td>2014</td>\n",
              "      <td>170000000</td>\n",
              "      <td>95023721</td>\n",
              "      <td>259766572</td>\n",
              "      <td>714421503</td>\n",
              "    </tr>\n",
              "    <tr>\n",
              "      <th>9</th>\n",
              "      <td>Guardians of the Galaxy</td>\n",
              "      <td>Marvel</td>\n",
              "      <td>8.0</td>\n",
              "      <td>76</td>\n",
              "      <td>121</td>\n",
              "      <td>2014</td>\n",
              "      <td>170000000</td>\n",
              "      <td>94320883</td>\n",
              "      <td>333176600</td>\n",
              "      <td>772776600</td>\n",
              "    </tr>\n",
              "    <tr>\n",
              "      <th>10</th>\n",
              "      <td>Avengers: Age of Ultron</td>\n",
              "      <td>Marvel</td>\n",
              "      <td>7.3</td>\n",
              "      <td>66</td>\n",
              "      <td>141</td>\n",
              "      <td>2015</td>\n",
              "      <td>250000000</td>\n",
              "      <td>191271109</td>\n",
              "      <td>459005868</td>\n",
              "      <td>1402805868</td>\n",
              "    </tr>\n",
              "    <tr>\n",
              "      <th>11</th>\n",
              "      <td>Ant-Man</td>\n",
              "      <td>Marvel</td>\n",
              "      <td>7.3</td>\n",
              "      <td>64</td>\n",
              "      <td>117</td>\n",
              "      <td>2015</td>\n",
              "      <td>130000000</td>\n",
              "      <td>57225526</td>\n",
              "      <td>180202163</td>\n",
              "      <td>519311965</td>\n",
              "    </tr>\n",
              "    <tr>\n",
              "      <th>12</th>\n",
              "      <td>Captain America: Civil War</td>\n",
              "      <td>Marvel</td>\n",
              "      <td>7.8</td>\n",
              "      <td>75</td>\n",
              "      <td>147</td>\n",
              "      <td>2016</td>\n",
              "      <td>250000000</td>\n",
              "      <td>179139142</td>\n",
              "      <td>408084349</td>\n",
              "      <td>1153296293</td>\n",
              "    </tr>\n",
              "    <tr>\n",
              "      <th>13</th>\n",
              "      <td>Doctor Strange</td>\n",
              "      <td>Marvel</td>\n",
              "      <td>7.5</td>\n",
              "      <td>72</td>\n",
              "      <td>115</td>\n",
              "      <td>2016</td>\n",
              "      <td>165000000</td>\n",
              "      <td>85058311</td>\n",
              "      <td>232641920</td>\n",
              "      <td>677718395</td>\n",
              "    </tr>\n",
              "    <tr>\n",
              "      <th>14</th>\n",
              "      <td>Guardians of the Galaxy Vol. 2</td>\n",
              "      <td>Marvel</td>\n",
              "      <td>7.6</td>\n",
              "      <td>67</td>\n",
              "      <td>136</td>\n",
              "      <td>2017</td>\n",
              "      <td>200000000</td>\n",
              "      <td>146510104</td>\n",
              "      <td>389813101</td>\n",
              "      <td>863756051</td>\n",
              "    </tr>\n",
              "    <tr>\n",
              "      <th>15</th>\n",
              "      <td>Spider-Man: Homecoming</td>\n",
              "      <td>Marvel</td>\n",
              "      <td>7.4</td>\n",
              "      <td>73</td>\n",
              "      <td>133</td>\n",
              "      <td>2017</td>\n",
              "      <td>175000000</td>\n",
              "      <td>117027503</td>\n",
              "      <td>334201140</td>\n",
              "      <td>880166924</td>\n",
              "    </tr>\n",
              "    <tr>\n",
              "      <th>16</th>\n",
              "      <td>Thor:Ragnarok</td>\n",
              "      <td>Marvel</td>\n",
              "      <td>7.9</td>\n",
              "      <td>74</td>\n",
              "      <td>130</td>\n",
              "      <td>2017</td>\n",
              "      <td>180000000</td>\n",
              "      <td>122744989</td>\n",
              "      <td>315058289</td>\n",
              "      <td>853977126</td>\n",
              "    </tr>\n",
              "    <tr>\n",
              "      <th>17</th>\n",
              "      <td>Black Panther</td>\n",
              "      <td>Marvel</td>\n",
              "      <td>7.3</td>\n",
              "      <td>88</td>\n",
              "      <td>134</td>\n",
              "      <td>2018</td>\n",
              "      <td>200000000</td>\n",
              "      <td>202003951</td>\n",
              "      <td>700059566</td>\n",
              "      <td>1346913161</td>\n",
              "    </tr>\n",
              "    <tr>\n",
              "      <th>18</th>\n",
              "      <td>Avengers: Infinity War</td>\n",
              "      <td>Marvel</td>\n",
              "      <td>8.5</td>\n",
              "      <td>68</td>\n",
              "      <td>149</td>\n",
              "      <td>2018</td>\n",
              "      <td>321000000</td>\n",
              "      <td>257698183</td>\n",
              "      <td>678815482</td>\n",
              "      <td>2048359754</td>\n",
              "    </tr>\n",
              "    <tr>\n",
              "      <th>19</th>\n",
              "      <td>Ant-Man and the Wasp</td>\n",
              "      <td>Marvel</td>\n",
              "      <td>7.1</td>\n",
              "      <td>70</td>\n",
              "      <td>118</td>\n",
              "      <td>2018</td>\n",
              "      <td>162000000</td>\n",
              "      <td>75812205</td>\n",
              "      <td>216648740</td>\n",
              "      <td>622674139</td>\n",
              "    </tr>\n",
              "    <tr>\n",
              "      <th>20</th>\n",
              "      <td>Captain Marve</td>\n",
              "      <td>Marvel</td>\n",
              "      <td>6.9</td>\n",
              "      <td>64</td>\n",
              "      <td>123</td>\n",
              "      <td>2019</td>\n",
              "      <td>175000000</td>\n",
              "      <td>153433423</td>\n",
              "      <td>426829839</td>\n",
              "      <td>1128274794</td>\n",
              "    </tr>\n",
              "    <tr>\n",
              "      <th>21</th>\n",
              "      <td>Avengers: Endgame</td>\n",
              "      <td>Marvel</td>\n",
              "      <td>8.5</td>\n",
              "      <td>78</td>\n",
              "      <td>181</td>\n",
              "      <td>2019</td>\n",
              "      <td>356000000</td>\n",
              "      <td>357115007</td>\n",
              "      <td>858373000</td>\n",
              "      <td>2797800564</td>\n",
              "    </tr>\n",
              "    <tr>\n",
              "      <th>22</th>\n",
              "      <td>Spider-Man: Far from Home</td>\n",
              "      <td>Marvel</td>\n",
              "      <td>7.6</td>\n",
              "      <td>69</td>\n",
              "      <td>129</td>\n",
              "      <td>2019</td>\n",
              "      <td>160000000</td>\n",
              "      <td>92579212</td>\n",
              "      <td>390532085</td>\n",
              "      <td>1131927996</td>\n",
              "    </tr>\n",
              "    <tr>\n",
              "      <th>23</th>\n",
              "      <td>Catwoman</td>\n",
              "      <td>DC</td>\n",
              "      <td>3.3</td>\n",
              "      <td>27</td>\n",
              "      <td>104</td>\n",
              "      <td>2004</td>\n",
              "      <td>100000000</td>\n",
              "      <td>16728411</td>\n",
              "      <td>40202379</td>\n",
              "      <td>82102379</td>\n",
              "    </tr>\n",
              "    <tr>\n",
              "      <th>24</th>\n",
              "      <td>Batman Begins</td>\n",
              "      <td>DC</td>\n",
              "      <td>8.2</td>\n",
              "      <td>70</td>\n",
              "      <td>140</td>\n",
              "      <td>2005</td>\n",
              "      <td>150000000</td>\n",
              "      <td>48745440</td>\n",
              "      <td>206852432</td>\n",
              "      <td>373413297</td>\n",
              "    </tr>\n",
              "    <tr>\n",
              "      <th>25</th>\n",
              "      <td>Superman Returns</td>\n",
              "      <td>DC</td>\n",
              "      <td>6.0</td>\n",
              "      <td>72</td>\n",
              "      <td>154</td>\n",
              "      <td>2006</td>\n",
              "      <td>270000000</td>\n",
              "      <td>52535096</td>\n",
              "      <td>200081192</td>\n",
              "      <td>391081192</td>\n",
              "    </tr>\n",
              "    <tr>\n",
              "      <th>26</th>\n",
              "      <td>The Dark Knight</td>\n",
              "      <td>DC</td>\n",
              "      <td>9.0</td>\n",
              "      <td>84</td>\n",
              "      <td>152</td>\n",
              "      <td>2008</td>\n",
              "      <td>185000000</td>\n",
              "      <td>158411483</td>\n",
              "      <td>535234033</td>\n",
              "      <td>1004934033</td>\n",
              "    </tr>\n",
              "    <tr>\n",
              "      <th>27</th>\n",
              "      <td>Watchmen</td>\n",
              "      <td>DC</td>\n",
              "      <td>7.6</td>\n",
              "      <td>56</td>\n",
              "      <td>162</td>\n",
              "      <td>2009</td>\n",
              "      <td>130000000</td>\n",
              "      <td>55214334</td>\n",
              "      <td>107509799</td>\n",
              "      <td>185258983</td>\n",
              "    </tr>\n",
              "    <tr>\n",
              "      <th>28</th>\n",
              "      <td>Jonah Hex</td>\n",
              "      <td>DC</td>\n",
              "      <td>4.7</td>\n",
              "      <td>33</td>\n",
              "      <td>81</td>\n",
              "      <td>2010</td>\n",
              "      <td>47000000</td>\n",
              "      <td>5379365</td>\n",
              "      <td>10547117</td>\n",
              "      <td>10903312</td>\n",
              "    </tr>\n",
              "    <tr>\n",
              "      <th>29</th>\n",
              "      <td>Green Lantern</td>\n",
              "      <td>DC</td>\n",
              "      <td>5.5</td>\n",
              "      <td>39</td>\n",
              "      <td>114</td>\n",
              "      <td>2011</td>\n",
              "      <td>200000000</td>\n",
              "      <td>53174303</td>\n",
              "      <td>116601172</td>\n",
              "      <td>219851172</td>\n",
              "    </tr>\n",
              "    <tr>\n",
              "      <th>30</th>\n",
              "      <td>The Dark Knight Rises</td>\n",
              "      <td>DC</td>\n",
              "      <td>8.4</td>\n",
              "      <td>78</td>\n",
              "      <td>164</td>\n",
              "      <td>2012</td>\n",
              "      <td>250000000</td>\n",
              "      <td>160887295</td>\n",
              "      <td>448139099</td>\n",
              "      <td>1081041287</td>\n",
              "    </tr>\n",
              "    <tr>\n",
              "      <th>31</th>\n",
              "      <td>Man of Steel</td>\n",
              "      <td>DC</td>\n",
              "      <td>7.1</td>\n",
              "      <td>55</td>\n",
              "      <td>143</td>\n",
              "      <td>2013</td>\n",
              "      <td>225000000</td>\n",
              "      <td>116619362</td>\n",
              "      <td>291045518</td>\n",
              "      <td>668045518</td>\n",
              "    </tr>\n",
              "    <tr>\n",
              "      <th>32</th>\n",
              "      <td>Batman v Superman: Dawn of Justice</td>\n",
              "      <td>DC</td>\n",
              "      <td>6.5</td>\n",
              "      <td>44</td>\n",
              "      <td>151</td>\n",
              "      <td>2016</td>\n",
              "      <td>250000000</td>\n",
              "      <td>166007347</td>\n",
              "      <td>330360194</td>\n",
              "      <td>873634919</td>\n",
              "    </tr>\n",
              "    <tr>\n",
              "      <th>33</th>\n",
              "      <td>Suicide Squad</td>\n",
              "      <td>DC</td>\n",
              "      <td>6.0</td>\n",
              "      <td>40</td>\n",
              "      <td>123</td>\n",
              "      <td>2016</td>\n",
              "      <td>175000000</td>\n",
              "      <td>133682248</td>\n",
              "      <td>325100054</td>\n",
              "      <td>746846894</td>\n",
              "    </tr>\n",
              "    <tr>\n",
              "      <th>34</th>\n",
              "      <td>Wonder Woman</td>\n",
              "      <td>DC</td>\n",
              "      <td>7.4</td>\n",
              "      <td>76</td>\n",
              "      <td>141</td>\n",
              "      <td>2017</td>\n",
              "      <td>149000000</td>\n",
              "      <td>103251471</td>\n",
              "      <td>412563408</td>\n",
              "      <td>821847012</td>\n",
              "    </tr>\n",
              "    <tr>\n",
              "      <th>35</th>\n",
              "      <td>Justice League</td>\n",
              "      <td>DC</td>\n",
              "      <td>6.4</td>\n",
              "      <td>45</td>\n",
              "      <td>120</td>\n",
              "      <td>2017</td>\n",
              "      <td>300000000</td>\n",
              "      <td>93842239</td>\n",
              "      <td>229024295</td>\n",
              "      <td>657924295</td>\n",
              "    </tr>\n",
              "    <tr>\n",
              "      <th>36</th>\n",
              "      <td>Aquaman</td>\n",
              "      <td>DC</td>\n",
              "      <td>7.0</td>\n",
              "      <td>55</td>\n",
              "      <td>143</td>\n",
              "      <td>2018</td>\n",
              "      <td>160000000</td>\n",
              "      <td>67873522</td>\n",
              "      <td>335061807</td>\n",
              "      <td>1148161807</td>\n",
              "    </tr>\n",
              "    <tr>\n",
              "      <th>37</th>\n",
              "      <td>Shazam!</td>\n",
              "      <td>DC</td>\n",
              "      <td>7.1</td>\n",
              "      <td>71</td>\n",
              "      <td>132</td>\n",
              "      <td>2019</td>\n",
              "      <td>100000000</td>\n",
              "      <td>53505326</td>\n",
              "      <td>140371656</td>\n",
              "      <td>364571656</td>\n",
              "    </tr>\n",
              "    <tr>\n",
              "      <th>38</th>\n",
              "      <td>Joker</td>\n",
              "      <td>DC</td>\n",
              "      <td>8.7</td>\n",
              "      <td>59</td>\n",
              "      <td>122</td>\n",
              "      <td>2019</td>\n",
              "      <td>55000000</td>\n",
              "      <td>96202337</td>\n",
              "      <td>333204580</td>\n",
              "      <td>1060504580</td>\n",
              "    </tr>\n",
              "  </tbody>\n",
              "</table>\n",
              "</div>"
            ],
            "text/plain": [
              "                         Original Title Company  ...   GrossUSA  GrossWorldwide\n",
              "0                              Iron Man  Marvel  ...  318604126       585366247\n",
              "1                   The Incredible Hulk  Marvel  ...  134806913       263427551\n",
              "2                            Iron Man 2  Marvel  ...  312433331       623933331\n",
              "3                                  Thor  Marvel  ...  181030624       449326618\n",
              "4    Captain America: The First Avenger  Marvel  ...  176654505       370569774\n",
              "5                          The Avengers  Marvel  ...  623357910      1518812988\n",
              "6                        Iron Man Three  Marvel  ...  409013994      1214811252\n",
              "7                  Thor: The Dark World  Marvel  ...  206362140       644783140\n",
              "8   Captain America: The Winter Soldier  Marvel  ...  259766572       714421503\n",
              "9               Guardians of the Galaxy  Marvel  ...  333176600       772776600\n",
              "10             Avengers: Age of Ultron   Marvel  ...  459005868      1402805868\n",
              "11                              Ant-Man  Marvel  ...  180202163       519311965\n",
              "12           Captain America: Civil War  Marvel  ...  408084349      1153296293\n",
              "13                       Doctor Strange  Marvel  ...  232641920       677718395\n",
              "14       Guardians of the Galaxy Vol. 2  Marvel  ...  389813101       863756051\n",
              "15               Spider-Man: Homecoming  Marvel  ...  334201140       880166924\n",
              "16                        Thor:Ragnarok  Marvel  ...  315058289       853977126\n",
              "17                        Black Panther  Marvel  ...  700059566      1346913161\n",
              "18               Avengers: Infinity War  Marvel  ...  678815482      2048359754\n",
              "19                 Ant-Man and the Wasp  Marvel  ...  216648740       622674139\n",
              "20                        Captain Marve  Marvel  ...  426829839      1128274794\n",
              "21                    Avengers: Endgame  Marvel  ...  858373000      2797800564\n",
              "22            Spider-Man: Far from Home  Marvel  ...  390532085      1131927996\n",
              "23                             Catwoman      DC  ...   40202379        82102379\n",
              "24                        Batman Begins      DC  ...  206852432       373413297\n",
              "25                     Superman Returns      DC  ...  200081192       391081192\n",
              "26                      The Dark Knight      DC  ...  535234033      1004934033\n",
              "27                             Watchmen      DC  ...  107509799       185258983\n",
              "28                           Jonah Hex       DC  ...   10547117        10903312\n",
              "29                        Green Lantern      DC  ...  116601172       219851172\n",
              "30                The Dark Knight Rises      DC  ...  448139099      1081041287\n",
              "31                         Man of Steel      DC  ...  291045518       668045518\n",
              "32   Batman v Superman: Dawn of Justice      DC  ...  330360194       873634919\n",
              "33                       Suicide Squad       DC  ...  325100054       746846894\n",
              "34                         Wonder Woman      DC  ...  412563408       821847012\n",
              "35                       Justice League      DC  ...  229024295       657924295\n",
              "36                              Aquaman      DC  ...  335061807      1148161807\n",
              "37                              Shazam!      DC  ...  140371656       364571656\n",
              "38                                Joker      DC  ...  333204580      1060504580\n",
              "\n",
              "[39 rows x 10 columns]"
            ]
          },
          "metadata": {
            "tags": []
          },
          "execution_count": 7
        }
      ]
    },
    {
      "cell_type": "code",
      "metadata": {
        "id": "fbT1rjioer7Y",
        "colab_type": "code",
        "outputId": "b5cb6244-e533-4215-85ae-d62ee52fd8f1",
        "colab": {
          "base_uri": "https://localhost:8080/",
          "height": 287
        }
      },
      "source": [
        "# atraves dessa  matriz de correlação podemos afirmar que o lucro bruto(USD) tem um correção muito forte \n",
        "# com Budget (cpital investido no filme) e com o sucesso de bilheria no estreia do filme nos EUA  e no mundo\n",
        "MArvelDC.corr()"
      ],
      "execution_count": 0,
      "outputs": [
        {
          "output_type": "execute_result",
          "data": {
            "text/html": [
              "<div>\n",
              "<style scoped>\n",
              "    .dataframe tbody tr th:only-of-type {\n",
              "        vertical-align: middle;\n",
              "    }\n",
              "\n",
              "    .dataframe tbody tr th {\n",
              "        vertical-align: top;\n",
              "    }\n",
              "\n",
              "    .dataframe thead th {\n",
              "        text-align: right;\n",
              "    }\n",
              "</style>\n",
              "<table border=\"1\" class=\"dataframe\">\n",
              "  <thead>\n",
              "    <tr style=\"text-align: right;\">\n",
              "      <th></th>\n",
              "      <th>Rate</th>\n",
              "      <th>Metascore</th>\n",
              "      <th>Minutes</th>\n",
              "      <th>Release</th>\n",
              "      <th>Budget</th>\n",
              "      <th>OpeningWeekendUSA</th>\n",
              "      <th>GrossUSA</th>\n",
              "      <th>GrossWorldwide</th>\n",
              "    </tr>\n",
              "  </thead>\n",
              "  <tbody>\n",
              "    <tr>\n",
              "      <th>Rate</th>\n",
              "      <td>1.000000</td>\n",
              "      <td>0.252400</td>\n",
              "      <td>0.145552</td>\n",
              "      <td>0.351983</td>\n",
              "      <td>0.055983</td>\n",
              "      <td>0.185008</td>\n",
              "      <td>0.108177</td>\n",
              "      <td>0.187788</td>\n",
              "    </tr>\n",
              "    <tr>\n",
              "      <th>Metascore</th>\n",
              "      <td>0.252400</td>\n",
              "      <td>1.000000</td>\n",
              "      <td>0.509780</td>\n",
              "      <td>0.232213</td>\n",
              "      <td>0.242570</td>\n",
              "      <td>0.425888</td>\n",
              "      <td>0.575244</td>\n",
              "      <td>0.450119</td>\n",
              "    </tr>\n",
              "    <tr>\n",
              "      <th>Minutes</th>\n",
              "      <td>0.145552</td>\n",
              "      <td>0.509780</td>\n",
              "      <td>1.000000</td>\n",
              "      <td>0.138387</td>\n",
              "      <td>0.638160</td>\n",
              "      <td>0.637006</td>\n",
              "      <td>0.630699</td>\n",
              "      <td>0.603935</td>\n",
              "    </tr>\n",
              "    <tr>\n",
              "      <th>Release</th>\n",
              "      <td>0.351983</td>\n",
              "      <td>0.232213</td>\n",
              "      <td>0.138387</td>\n",
              "      <td>1.000000</td>\n",
              "      <td>0.204316</td>\n",
              "      <td>0.433480</td>\n",
              "      <td>0.449439</td>\n",
              "      <td>0.552735</td>\n",
              "    </tr>\n",
              "    <tr>\n",
              "      <th>Budget</th>\n",
              "      <td>0.055983</td>\n",
              "      <td>0.242570</td>\n",
              "      <td>0.638160</td>\n",
              "      <td>0.204316</td>\n",
              "      <td>1.000000</td>\n",
              "      <td>0.741009</td>\n",
              "      <td>0.631972</td>\n",
              "      <td>0.656332</td>\n",
              "    </tr>\n",
              "    <tr>\n",
              "      <th>OpeningWeekendUSA</th>\n",
              "      <td>0.185008</td>\n",
              "      <td>0.425888</td>\n",
              "      <td>0.637006</td>\n",
              "      <td>0.433480</td>\n",
              "      <td>0.741009</td>\n",
              "      <td>1.000000</td>\n",
              "      <td>0.935783</td>\n",
              "      <td>0.933075</td>\n",
              "    </tr>\n",
              "    <tr>\n",
              "      <th>GrossUSA</th>\n",
              "      <td>0.108177</td>\n",
              "      <td>0.575244</td>\n",
              "      <td>0.630699</td>\n",
              "      <td>0.449439</td>\n",
              "      <td>0.631972</td>\n",
              "      <td>0.935783</td>\n",
              "      <td>1.000000</td>\n",
              "      <td>0.939677</td>\n",
              "    </tr>\n",
              "    <tr>\n",
              "      <th>GrossWorldwide</th>\n",
              "      <td>0.187788</td>\n",
              "      <td>0.450119</td>\n",
              "      <td>0.603935</td>\n",
              "      <td>0.552735</td>\n",
              "      <td>0.656332</td>\n",
              "      <td>0.933075</td>\n",
              "      <td>0.939677</td>\n",
              "      <td>1.000000</td>\n",
              "    </tr>\n",
              "  </tbody>\n",
              "</table>\n",
              "</div>"
            ],
            "text/plain": [
              "                       Rate  Metascore  ...  GrossUSA  GrossWorldwide\n",
              "Rate               1.000000   0.252400  ...  0.108177        0.187788\n",
              "Metascore          0.252400   1.000000  ...  0.575244        0.450119\n",
              "Minutes            0.145552   0.509780  ...  0.630699        0.603935\n",
              "Release            0.351983   0.232213  ...  0.449439        0.552735\n",
              "Budget             0.055983   0.242570  ...  0.631972        0.656332\n",
              "OpeningWeekendUSA  0.185008   0.425888  ...  0.935783        0.933075\n",
              "GrossUSA           0.108177   0.575244  ...  1.000000        0.939677\n",
              "GrossWorldwide     0.187788   0.450119  ...  0.939677        1.000000\n",
              "\n",
              "[8 rows x 8 columns]"
            ]
          },
          "metadata": {
            "tags": []
          },
          "execution_count": 36
        }
      ]
    },
    {
      "cell_type": "code",
      "metadata": {
        "id": "RMj9DlhDddYZ",
        "colab_type": "code",
        "outputId": "a9941fbf-dfa2-41cb-e902-7f1fafa02824",
        "colab": {
          "base_uri": "https://localhost:8080/",
          "height": 490
        }
      },
      "source": [
        "mediaAvaliacaoTempoFilme= MArvelDC.groupby('Rate').mean()['Minutes']\n",
        "print(mediaAvaliacaoTempoFilme)"
      ],
      "execution_count": 0,
      "outputs": [
        {
          "output_type": "stream",
          "text": [
            "Rate\n",
            "3.3    104.000000\n",
            "4.7     81.000000\n",
            "5.5    114.000000\n",
            "6.0    138.500000\n",
            "6.4    120.000000\n",
            "6.5    151.000000\n",
            "6.7    112.000000\n",
            "6.9    119.666667\n",
            "7.0    127.333333\n",
            "7.1    131.000000\n",
            "7.2    130.000000\n",
            "7.3    130.666667\n",
            "7.4    137.000000\n",
            "7.5    115.000000\n",
            "7.6    142.333333\n",
            "7.7    136.000000\n",
            "7.8    147.000000\n",
            "7.9    128.000000\n",
            "8.0    132.000000\n",
            "8.2    140.000000\n",
            "8.4    164.000000\n",
            "8.5    165.000000\n",
            "8.7    122.000000\n",
            "9.0    152.000000\n",
            "Name: Minutes, dtype: float64\n"
          ],
          "name": "stdout"
        }
      ]
    },
    {
      "cell_type": "code",
      "metadata": {
        "id": "jWuKx7uFXhnF",
        "colab_type": "code",
        "outputId": "24160bf5-13c3-437c-b863-2ed101ac9fc7",
        "colab": {
          "base_uri": "https://localhost:8080/",
          "height": 303
        }
      },
      "source": [
        "# podemos perceber que nos maiores rates, tem uma duração maior e acaba agradando mais o publico desse tipo de filme\n",
        "mediaAvaliacaoTempoFilme.plot.bar()"
      ],
      "execution_count": 0,
      "outputs": [
        {
          "output_type": "execute_result",
          "data": {
            "text/plain": [
              "<matplotlib.axes._subplots.AxesSubplot at 0x7efd7a7f1da0>"
            ]
          },
          "metadata": {
            "tags": []
          },
          "execution_count": 30
        },
        {
          "output_type": "display_data",
          "data": {
            "image/png": "[encoded data removed]",
            "text/plain": [
              "<Figure size 432x288 with 1 Axes>"
            ]
          },
          "metadata": {
            "tags": []
          }
        }
      ]
    },
    {
      "cell_type": "code",
      "metadata": {
        "id": "tl0cOvMB-Scg",
        "colab_type": "code",
        "outputId": "98d62fb2-00c9-4786-ebf0-fac8712d01a5",
        "colab": {
          "base_uri": "https://localhost:8080/",
          "height": 290
        }
      },
      "source": [
        "#cosolidar dados  do Budget  da DC e devolver por ano\n",
        "#podemos afimar  que 2010  foi o ano em que a DC recebeu o menor vavalor de Budget \n",
        "mediaBudgetcaoDC  = MArvelDC[MArvelDC['Company'] == 'DC' ].groupby('Release').mean()['Budget']\n",
        "print(mediaBudgetcaoDC)"
      ],
      "execution_count": 0,
      "outputs": [
        {
          "output_type": "stream",
          "text": [
            "Release\n",
            "2004    100000000.0\n",
            "2005    150000000.0\n",
            "2006    270000000.0\n",
            "2008    185000000.0\n",
            "2009    130000000.0\n",
            "2010     47000000.0\n",
            "2011    200000000.0\n",
            "2012    250000000.0\n",
            "2013    225000000.0\n",
            "2016    212500000.0\n",
            "2017    224500000.0\n",
            "2018    160000000.0\n",
            "2019     77500000.0\n",
            "Name: Budget, dtype: float64\n"
          ],
          "name": "stdout"
        }
      ]
    },
    {
      "cell_type": "code",
      "metadata": {
        "id": "OzoDvBZQOXPV",
        "colab_type": "code",
        "outputId": "cab598dd-189a-4608-a7fe-f720274a4f24",
        "colab": {
          "base_uri": "https://localhost:8080/",
          "height": 325
        }
      },
      "source": [
        "#atraves desse grafico de barras, podemos afirmar que nos ultimos 15 anos \n",
        "#o investimento em filmes da DC tem ocilado bastante com uma queda nos ultimos 3 anos.\n",
        "mediaBudgetcaoDC.plot.bar()"
      ],
      "execution_count": 0,
      "outputs": [
        {
          "output_type": "execute_result",
          "data": {
            "text/plain": [
              "<matplotlib.axes._subplots.AxesSubplot at 0x7efd852f2438>"
            ]
          },
          "metadata": {
            "tags": []
          },
          "execution_count": 12
        },
        {
          "output_type": "display_data",
          "data": {
            "image/png": "[encoded data removed]",
            "text/plain": [
              "<Figure size 432x288 with 1 Axes>"
            ]
          },
          "metadata": {
            "tags": []
          }
        }
      ]
    },
    {
      "cell_type": "code",
      "metadata": {
        "id": "xweQyFGIEhWA",
        "colab_type": "code",
        "outputId": "f85e4588-f7c0-4de9-ffc2-c0c34e8ab094",
        "colab": {
          "base_uri": "https://localhost:8080/",
          "height": 254
        }
      },
      "source": [
        "#cosolidar de Budget da Marvel e Consolidar por ano\n",
        "#podemos afirmar que o investimento em filmes da Marvel não vem sofrendo ocialações significaivas\n",
        "# sendo que no ano de 2019 foi o ano com maior budget recebido nos ultomos 15 anos\n",
        "  = MArvelDC[MArvelDC['Company'] == 'Marvel' ].groupby('Release').mean()['Budget']\n",
        "print(mediaBudgetMarvel)"
      ],
      "execution_count": 0,
      "outputs": [
        {
          "output_type": "stream",
          "text": [
            "Release\n",
            "2008    1.450000e+08\n",
            "2010    2.000000e+08\n",
            "2011    1.450000e+08\n",
            "2012    2.200000e+08\n",
            "2013    1.850000e+08\n",
            "2014    1.700000e+08\n",
            "2015    1.900000e+08\n",
            "2016    2.075000e+08\n",
            "2017    1.850000e+08\n",
            "2018    2.276667e+08\n",
            "2019    2.303333e+08\n",
            "Name: Budget, dtype: float64\n"
          ],
          "name": "stdout"
        }
      ]
    },
    {
      "cell_type": "code",
      "metadata": {
        "id": "R7LE1tAF_DpX",
        "colab_type": "code",
        "outputId": "34403acb-352d-4467-f640-480228729b5e",
        "colab": {
          "base_uri": "https://localhost:8080/",
          "height": 325
        }
      },
      "source": [
        "#atraves desse grafico de barras, podemos verficar que nos ultimos anos o inverstimento em filmes da Marvel está subindo\n",
        "mediaBudgetMarvel.plot.bar()"
      ],
      "execution_count": 0,
      "outputs": [
        {
          "output_type": "execute_result",
          "data": {
            "text/plain": [
              "<matplotlib.axes._subplots.AxesSubplot at 0x7efd85269358>"
            ]
          },
          "metadata": {
            "tags": []
          },
          "execution_count": 15
        },
        {
          "output_type": "display_data",
          "data": {
            "image/png": "[encoded data removed]",
            "text/plain": [
              "<Figure size 432x288 with 1 Axes>"
            ]
          },
          "metadata": {
            "tags": []
          }
        }
      ]
    },
    {
      "cell_type": "code",
      "metadata": {
        "id": "gdW_CiqAEwn4",
        "colab_type": "code",
        "colab": {}
      },
      "source": [
        ""
      ],
      "execution_count": 0,
      "outputs": []
    },
    {
      "cell_type": "code",
      "metadata": {
        "id": "ouJYVXGLvcUI",
        "colab_type": "code",
        "outputId": "eb98f1ee-a7e2-4957-b4d2-9f236050c0c8",
        "colab": {
          "base_uri": "https://localhost:8080/",
          "height": 297
        }
      },
      "source": [
        "# Analisando o boxplot veirifcamos a variação de notas dadas aos filmes da Marvel \n",
        "# é menor sendo a mesma a detentoda das melhores avaliações\n",
        "# Nas avaliaçãoes da DC Conseguimos peceber uma distribuição maior contendo outlier para baixo\n",
        "#numa media geral os filmes da Marvel acabam agradando o publico do que os filmes da DC\n",
        "import seaborn as sns\n",
        "sns.boxplot(x='Rate' , y='Company', data=MArvelDC)"
      ],
      "execution_count": 0,
      "outputs": [
        {
          "output_type": "execute_result",
          "data": {
            "text/plain": [
              "<matplotlib.axes._subplots.AxesSubplot at 0x7efd7a770898>"
            ]
          },
          "metadata": {
            "tags": []
          },
          "execution_count": 21
        },
        {
          "output_type": "display_data",
          "data": {
            "image/png": "[encoded data removed]",
            "text/plain": [
              "<Figure size 432x288 with 1 Axes>"
            ]
          },
          "metadata": {
            "tags": []
          }
        }
      ]
    },
    {
      "cell_type": "code",
      "metadata": {
        "id": "tu3NBjiX6db4",
        "colab_type": "code",
        "outputId": "f4bf2882-2c9e-41da-a88a-f199f177a0a3",
        "colab": {
          "base_uri": "https://localhost:8080/",
          "height": 35
        }
      },
      "source": [
        "# atraves a regrassão linear vamos treinar o modelo o utilizando as variavies Budget e GrossUSA \n",
        "# poderemos obter os coeficientes para prever a bilheteria da primeira senana\n",
        "from sklearn.linear_model import LinearRegression\n",
        "reglin = LinearRegression()\n",
        "reglin.fit(MArvelDC[[ 'Budget','GrossUSA']], MArvelDC['OpeningWeekendUSA'])\n",
        "print(reglin.coef_, reglin.intercept_)"
      ],
      "execution_count": 0,
      "outputs": [
        {
          "output_type": "stream",
          "text": [
            "[0.26557729 0.29576365] -29393997.627610967\n"
          ],
          "name": "stdout"
        }
      ]
    },
    {
      "cell_type": "code",
      "metadata": {
        "id": "lUMuTQJK7tJq",
        "colab_type": "code",
        "outputId": "a60c3cac-48cd-4fa4-acae-2998436100cc",
        "colab": {
          "base_uri": "https://localhost:8080/",
          "height": 35
        }
      },
      "source": [
        "def prever_OpeningWeekendUSA(Budget, GrossUSA):\n",
        "    ownusa = Budget * 0.26557729  + GrossUSA * 0.29576365 - -29393997.627610967\n",
        "    return ownusa\n",
        "print(prever_OpeningWeekendUSA(140000000,318604126))"
      ],
      "execution_count": 0,
      "outputs": [
        {
          "output_type": "stream",
          "text": [
            "160806337.43843085\n"
          ],
          "name": "stdout"
        }
      ]
    },
    {
      "cell_type": "code",
      "metadata": {
        "id": "27r0LeNmC4oD",
        "colab_type": "code",
        "outputId": "a9510663-a61a-489e-f4e7-26ae2c121d8d",
        "colab": {
          "base_uri": "https://localhost:8080/",
          "height": 296
        }
      },
      "source": [
        "#visualização gráfica do regressão linear\n",
        "import seaborn as sns\n",
        "sns.regplot(x=\"Budget\", y=\"GrossUSA\", data=MArvelDC);"
      ],
      "execution_count": 0,
      "outputs": [
        {
          "output_type": "display_data",
          "data": {
            "image/png": "[encoded data removed]",
            "text/plain": [
              "<Figure size 432x288 with 1 Axes>"
            ]
          },
          "metadata": {
            "tags": []
          }
        }
      ]
    },
    {
      "cell_type": "markdown",
      "metadata": {
        "id": "sY6xkq5Ct4YQ",
        "colab_type": "text"
      },
      "source": [
        "kmeans"
      ]
    },
    {
      "cell_type": "code",
      "metadata": {
        "id": "UOBr1I-0d-BO",
        "colab_type": "code",
        "outputId": "f18f734b-c717-4f02-e0c0-a35d0267fe5a",
        "colab": {
          "base_uri": "https://localhost:8080/",
          "height": 1000
        }
      },
      "source": [
        "#Selecionar coluas mas relevantes para analise de Kmeans\n",
        "MArvelDC2= MArvelDC[['Budget','GrossUSA']]\n",
        "MArvelDC2"
      ],
      "execution_count": 0,
      "outputs": [
        {
          "output_type": "execute_result",
          "data": {
            "text/html": [
              "<div>\n",
              "<style scoped>\n",
              "    .dataframe tbody tr th:only-of-type {\n",
              "        vertical-align: middle;\n",
              "    }\n",
              "\n",
              "    .dataframe tbody tr th {\n",
              "        vertical-align: top;\n",
              "    }\n",
              "\n",
              "    .dataframe thead th {\n",
              "        text-align: right;\n",
              "    }\n",
              "</style>\n",
              "<table border=\"1\" class=\"dataframe\">\n",
              "  <thead>\n",
              "    <tr style=\"text-align: right;\">\n",
              "      <th></th>\n",
              "      <th>Budget</th>\n",
              "      <th>GrossUSA</th>\n",
              "    </tr>\n",
              "  </thead>\n",
              "  <tbody>\n",
              "    <tr>\n",
              "      <th>0</th>\n",
              "      <td>140000000</td>\n",
              "      <td>318604126</td>\n",
              "    </tr>\n",
              "    <tr>\n",
              "      <th>1</th>\n",
              "      <td>150000000</td>\n",
              "      <td>134806913</td>\n",
              "    </tr>\n",
              "    <tr>\n",
              "      <th>2</th>\n",
              "      <td>200000000</td>\n",
              "      <td>312433331</td>\n",
              "    </tr>\n",
              "    <tr>\n",
              "      <th>3</th>\n",
              "      <td>150000000</td>\n",
              "      <td>181030624</td>\n",
              "    </tr>\n",
              "    <tr>\n",
              "      <th>4</th>\n",
              "      <td>140000000</td>\n",
              "      <td>176654505</td>\n",
              "    </tr>\n",
              "    <tr>\n",
              "      <th>5</th>\n",
              "      <td>220000000</td>\n",
              "      <td>623357910</td>\n",
              "    </tr>\n",
              "    <tr>\n",
              "      <th>6</th>\n",
              "      <td>200000000</td>\n",
              "      <td>409013994</td>\n",
              "    </tr>\n",
              "    <tr>\n",
              "      <th>7</th>\n",
              "      <td>170000000</td>\n",
              "      <td>206362140</td>\n",
              "    </tr>\n",
              "    <tr>\n",
              "      <th>8</th>\n",
              "      <td>170000000</td>\n",
              "      <td>259766572</td>\n",
              "    </tr>\n",
              "    <tr>\n",
              "      <th>9</th>\n",
              "      <td>170000000</td>\n",
              "      <td>333176600</td>\n",
              "    </tr>\n",
              "    <tr>\n",
              "      <th>10</th>\n",
              "      <td>250000000</td>\n",
              "      <td>459005868</td>\n",
              "    </tr>\n",
              "    <tr>\n",
              "      <th>11</th>\n",
              "      <td>130000000</td>\n",
              "      <td>180202163</td>\n",
              "    </tr>\n",
              "    <tr>\n",
              "      <th>12</th>\n",
              "      <td>250000000</td>\n",
              "      <td>408084349</td>\n",
              "    </tr>\n",
              "    <tr>\n",
              "      <th>13</th>\n",
              "      <td>165000000</td>\n",
              "      <td>232641920</td>\n",
              "    </tr>\n",
              "    <tr>\n",
              "      <th>14</th>\n",
              "      <td>200000000</td>\n",
              "      <td>389813101</td>\n",
              "    </tr>\n",
              "    <tr>\n",
              "      <th>15</th>\n",
              "      <td>175000000</td>\n",
              "      <td>334201140</td>\n",
              "    </tr>\n",
              "    <tr>\n",
              "      <th>16</th>\n",
              "      <td>180000000</td>\n",
              "      <td>315058289</td>\n",
              "    </tr>\n",
              "    <tr>\n",
              "      <th>17</th>\n",
              "      <td>200000000</td>\n",
              "      <td>700059566</td>\n",
              "    </tr>\n",
              "    <tr>\n",
              "      <th>18</th>\n",
              "      <td>321000000</td>\n",
              "      <td>678815482</td>\n",
              "    </tr>\n",
              "    <tr>\n",
              "      <th>19</th>\n",
              "      <td>162000000</td>\n",
              "      <td>216648740</td>\n",
              "    </tr>\n",
              "    <tr>\n",
              "      <th>20</th>\n",
              "      <td>175000000</td>\n",
              "      <td>426829839</td>\n",
              "    </tr>\n",
              "    <tr>\n",
              "      <th>21</th>\n",
              "      <td>356000000</td>\n",
              "      <td>858373000</td>\n",
              "    </tr>\n",
              "    <tr>\n",
              "      <th>22</th>\n",
              "      <td>160000000</td>\n",
              "      <td>390532085</td>\n",
              "    </tr>\n",
              "    <tr>\n",
              "      <th>23</th>\n",
              "      <td>100000000</td>\n",
              "      <td>40202379</td>\n",
              "    </tr>\n",
              "    <tr>\n",
              "      <th>24</th>\n",
              "      <td>150000000</td>\n",
              "      <td>206852432</td>\n",
              "    </tr>\n",
              "    <tr>\n",
              "      <th>25</th>\n",
              "      <td>270000000</td>\n",
              "      <td>200081192</td>\n",
              "    </tr>\n",
              "    <tr>\n",
              "      <th>26</th>\n",
              "      <td>185000000</td>\n",
              "      <td>535234033</td>\n",
              "    </tr>\n",
              "    <tr>\n",
              "      <th>27</th>\n",
              "      <td>130000000</td>\n",
              "      <td>107509799</td>\n",
              "    </tr>\n",
              "    <tr>\n",
              "      <th>28</th>\n",
              "      <td>47000000</td>\n",
              "      <td>10547117</td>\n",
              "    </tr>\n",
              "    <tr>\n",
              "      <th>29</th>\n",
              "      <td>200000000</td>\n",
              "      <td>116601172</td>\n",
              "    </tr>\n",
              "    <tr>\n",
              "      <th>30</th>\n",
              "      <td>250000000</td>\n",
              "      <td>448139099</td>\n",
              "    </tr>\n",
              "    <tr>\n",
              "      <th>31</th>\n",
              "      <td>225000000</td>\n",
              "      <td>291045518</td>\n",
              "    </tr>\n",
              "    <tr>\n",
              "      <th>32</th>\n",
              "      <td>250000000</td>\n",
              "      <td>330360194</td>\n",
              "    </tr>\n",
              "    <tr>\n",
              "      <th>33</th>\n",
              "      <td>175000000</td>\n",
              "      <td>325100054</td>\n",
              "    </tr>\n",
              "    <tr>\n",
              "      <th>34</th>\n",
              "      <td>149000000</td>\n",
              "      <td>412563408</td>\n",
              "    </tr>\n",
              "    <tr>\n",
              "      <th>35</th>\n",
              "      <td>300000000</td>\n",
              "      <td>229024295</td>\n",
              "    </tr>\n",
              "    <tr>\n",
              "      <th>36</th>\n",
              "      <td>160000000</td>\n",
              "      <td>335061807</td>\n",
              "    </tr>\n",
              "    <tr>\n",
              "      <th>37</th>\n",
              "      <td>100000000</td>\n",
              "      <td>140371656</td>\n",
              "    </tr>\n",
              "    <tr>\n",
              "      <th>38</th>\n",
              "      <td>55000000</td>\n",
              "      <td>333204580</td>\n",
              "    </tr>\n",
              "  </tbody>\n",
              "</table>\n",
              "</div>"
            ],
            "text/plain": [
              "       Budget   GrossUSA\n",
              "0   140000000  318604126\n",
              "1   150000000  134806913\n",
              "2   200000000  312433331\n",
              "3   150000000  181030624\n",
              "4   140000000  176654505\n",
              "5   220000000  623357910\n",
              "6   200000000  409013994\n",
              "7   170000000  206362140\n",
              "8   170000000  259766572\n",
              "9   170000000  333176600\n",
              "10  250000000  459005868\n",
              "11  130000000  180202163\n",
              "12  250000000  408084349\n",
              "13  165000000  232641920\n",
              "14  200000000  389813101\n",
              "15  175000000  334201140\n",
              "16  180000000  315058289\n",
              "17  200000000  700059566\n",
              "18  321000000  678815482\n",
              "19  162000000  216648740\n",
              "20  175000000  426829839\n",
              "21  356000000  858373000\n",
              "22  160000000  390532085\n",
              "23  100000000   40202379\n",
              "24  150000000  206852432\n",
              "25  270000000  200081192\n",
              "26  185000000  535234033\n",
              "27  130000000  107509799\n",
              "28   47000000   10547117\n",
              "29  200000000  116601172\n",
              "30  250000000  448139099\n",
              "31  225000000  291045518\n",
              "32  250000000  330360194\n",
              "33  175000000  325100054\n",
              "34  149000000  412563408\n",
              "35  300000000  229024295\n",
              "36  160000000  335061807\n",
              "37  100000000  140371656\n",
              "38   55000000  333204580"
            ]
          },
          "metadata": {
            "tags": []
          },
          "execution_count": 36
        }
      ]
    },
    {
      "cell_type": "code",
      "metadata": {
        "id": "3pC352uluo-v",
        "colab_type": "code",
        "outputId": "c9007ef4-867a-483f-e596-5b318089cfff",
        "colab": {
          "base_uri": "https://localhost:8080/",
          "height": 72
        }
      },
      "source": [
        "from sklearn.cluster import KMeans\n",
        "\n",
        "k = KMeans(n_clusters=5) \n",
        "k.fit(MArvelDC2) "
      ],
      "execution_count": 0,
      "outputs": [
        {
          "output_type": "execute_result",
          "data": {
            "text/plain": [
              "KMeans(algorithm='auto', copy_x=True, init='k-means++', max_iter=300,\n",
              "       n_clusters=5, n_init=10, n_jobs=None, precompute_distances='auto',\n",
              "       random_state=None, tol=0.0001, verbose=0)"
            ]
          },
          "metadata": {
            "tags": []
          },
          "execution_count": 38
        }
      ]
    },
    {
      "cell_type": "code",
      "metadata": {
        "id": "-x2byXkKwZfJ",
        "colab_type": "code",
        "outputId": "8765934e-6000-44af-982f-ae0f3407c9a2",
        "colab": {
          "base_uri": "https://localhost:8080/",
          "height": 308
        }
      },
      "source": [
        "# Podemos afimar analisando o grafico abaixo que quando maior i investimento (Budget) maior\n",
        "# é o retorno bruto (GrossUSA) sedo que a  valor de investimento gira em media de USD 200.000.000,00\n",
        "# com retorno aproximado de 350.000.000,00.\n",
        "import seaborn as sns\n",
        "#as variaveis são as mais relevantes Budget GrossUSA\n",
        "sns.scatterplot(MArvelDC2['Budget'], MArvelDC2['GrossUSA'], hue=k.labels_,palette=sns.color_palette('Set1',5))"
      ],
      "execution_count": 0,
      "outputs": [
        {
          "output_type": "execute_result",
          "data": {
            "text/plain": [
              "<matplotlib.axes._subplots.AxesSubplot at 0x7efd71dd3860>"
            ]
          },
          "metadata": {
            "tags": []
          },
          "execution_count": 41
        },
        {
          "output_type": "display_data",
          "data": {
            "image/png": "[encoded data removed]",
            "text/plain": [
              "<Figure size 432x288 with 1 Axes>"
            ]
          },
          "metadata": {
            "tags": []
          }
        }
      ]
    },
    {
      "cell_type": "code",
      "metadata": {
        "id": "9AC5aMn6hxCA",
        "colab_type": "code",
        "outputId": "68279842-8a51-4ec5-d674-7f695d8bb08b",
        "colab": {
          "base_uri": "https://localhost:8080/",
          "height": 1000
        }
      },
      "source": [
        "#Selecionar coluas mas relevantes para analise de Kmeans\n",
        "MArvelDC3= MArvelDC[['Budget','GrossWorldwide']]\n",
        "MArvelDC3"
      ],
      "execution_count": 0,
      "outputs": [
        {
          "output_type": "execute_result",
          "data": {
            "text/html": [
              "<div>\n",
              "<style scoped>\n",
              "    .dataframe tbody tr th:only-of-type {\n",
              "        vertical-align: middle;\n",
              "    }\n",
              "\n",
              "    .dataframe tbody tr th {\n",
              "        vertical-align: top;\n",
              "    }\n",
              "\n",
              "    .dataframe thead th {\n",
              "        text-align: right;\n",
              "    }\n",
              "</style>\n",
              "<table border=\"1\" class=\"dataframe\">\n",
              "  <thead>\n",
              "    <tr style=\"text-align: right;\">\n",
              "      <th></th>\n",
              "      <th>Budget</th>\n",
              "      <th>GrossWorldwide</th>\n",
              "    </tr>\n",
              "  </thead>\n",
              "  <tbody>\n",
              "    <tr>\n",
              "      <th>0</th>\n",
              "      <td>140000000</td>\n",
              "      <td>585366247</td>\n",
              "    </tr>\n",
              "    <tr>\n",
              "      <th>1</th>\n",
              "      <td>150000000</td>\n",
              "      <td>263427551</td>\n",
              "    </tr>\n",
              "    <tr>\n",
              "      <th>2</th>\n",
              "      <td>200000000</td>\n",
              "      <td>623933331</td>\n",
              "    </tr>\n",
              "    <tr>\n",
              "      <th>3</th>\n",
              "      <td>150000000</td>\n",
              "      <td>449326618</td>\n",
              "    </tr>\n",
              "    <tr>\n",
              "      <th>4</th>\n",
              "      <td>140000000</td>\n",
              "      <td>370569774</td>\n",
              "    </tr>\n",
              "    <tr>\n",
              "      <th>5</th>\n",
              "      <td>220000000</td>\n",
              "      <td>1518812988</td>\n",
              "    </tr>\n",
              "    <tr>\n",
              "      <th>6</th>\n",
              "      <td>200000000</td>\n",
              "      <td>1214811252</td>\n",
              "    </tr>\n",
              "    <tr>\n",
              "      <th>7</th>\n",
              "      <td>170000000</td>\n",
              "      <td>644783140</td>\n",
              "    </tr>\n",
              "    <tr>\n",
              "      <th>8</th>\n",
              "      <td>170000000</td>\n",
              "      <td>714421503</td>\n",
              "    </tr>\n",
              "    <tr>\n",
              "      <th>9</th>\n",
              "      <td>170000000</td>\n",
              "      <td>772776600</td>\n",
              "    </tr>\n",
              "    <tr>\n",
              "      <th>10</th>\n",
              "      <td>250000000</td>\n",
              "      <td>1402805868</td>\n",
              "    </tr>\n",
              "    <tr>\n",
              "      <th>11</th>\n",
              "      <td>130000000</td>\n",
              "      <td>519311965</td>\n",
              "    </tr>\n",
              "    <tr>\n",
              "      <th>12</th>\n",
              "      <td>250000000</td>\n",
              "      <td>1153296293</td>\n",
              "    </tr>\n",
              "    <tr>\n",
              "      <th>13</th>\n",
              "      <td>165000000</td>\n",
              "      <td>677718395</td>\n",
              "    </tr>\n",
              "    <tr>\n",
              "      <th>14</th>\n",
              "      <td>200000000</td>\n",
              "      <td>863756051</td>\n",
              "    </tr>\n",
              "    <tr>\n",
              "      <th>15</th>\n",
              "      <td>175000000</td>\n",
              "      <td>880166924</td>\n",
              "    </tr>\n",
              "    <tr>\n",
              "      <th>16</th>\n",
              "      <td>180000000</td>\n",
              "      <td>853977126</td>\n",
              "    </tr>\n",
              "    <tr>\n",
              "      <th>17</th>\n",
              "      <td>200000000</td>\n",
              "      <td>1346913161</td>\n",
              "    </tr>\n",
              "    <tr>\n",
              "      <th>18</th>\n",
              "      <td>321000000</td>\n",
              "      <td>2048359754</td>\n",
              "    </tr>\n",
              "    <tr>\n",
              "      <th>19</th>\n",
              "      <td>162000000</td>\n",
              "      <td>622674139</td>\n",
              "    </tr>\n",
              "    <tr>\n",
              "      <th>20</th>\n",
              "      <td>175000000</td>\n",
              "      <td>1128274794</td>\n",
              "    </tr>\n",
              "    <tr>\n",
              "      <th>21</th>\n",
              "      <td>356000000</td>\n",
              "      <td>2797800564</td>\n",
              "    </tr>\n",
              "    <tr>\n",
              "      <th>22</th>\n",
              "      <td>160000000</td>\n",
              "      <td>1131927996</td>\n",
              "    </tr>\n",
              "    <tr>\n",
              "      <th>23</th>\n",
              "      <td>100000000</td>\n",
              "      <td>82102379</td>\n",
              "    </tr>\n",
              "    <tr>\n",
              "      <th>24</th>\n",
              "      <td>150000000</td>\n",
              "      <td>373413297</td>\n",
              "    </tr>\n",
              "    <tr>\n",
              "      <th>25</th>\n",
              "      <td>270000000</td>\n",
              "      <td>391081192</td>\n",
              "    </tr>\n",
              "    <tr>\n",
              "      <th>26</th>\n",
              "      <td>185000000</td>\n",
              "      <td>1004934033</td>\n",
              "    </tr>\n",
              "    <tr>\n",
              "      <th>27</th>\n",
              "      <td>130000000</td>\n",
              "      <td>185258983</td>\n",
              "    </tr>\n",
              "    <tr>\n",
              "      <th>28</th>\n",
              "      <td>47000000</td>\n",
              "      <td>10903312</td>\n",
              "    </tr>\n",
              "    <tr>\n",
              "      <th>29</th>\n",
              "      <td>200000000</td>\n",
              "      <td>219851172</td>\n",
              "    </tr>\n",
              "    <tr>\n",
              "      <th>30</th>\n",
              "      <td>250000000</td>\n",
              "      <td>1081041287</td>\n",
              "    </tr>\n",
              "    <tr>\n",
              "      <th>31</th>\n",
              "      <td>225000000</td>\n",
              "      <td>668045518</td>\n",
              "    </tr>\n",
              "    <tr>\n",
              "      <th>32</th>\n",
              "      <td>250000000</td>\n",
              "      <td>873634919</td>\n",
              "    </tr>\n",
              "    <tr>\n",
              "      <th>33</th>\n",
              "      <td>175000000</td>\n",
              "      <td>746846894</td>\n",
              "    </tr>\n",
              "    <tr>\n",
              "      <th>34</th>\n",
              "      <td>149000000</td>\n",
              "      <td>821847012</td>\n",
              "    </tr>\n",
              "    <tr>\n",
              "      <th>35</th>\n",
              "      <td>300000000</td>\n",
              "      <td>657924295</td>\n",
              "    </tr>\n",
              "    <tr>\n",
              "      <th>36</th>\n",
              "      <td>160000000</td>\n",
              "      <td>1148161807</td>\n",
              "    </tr>\n",
              "    <tr>\n",
              "      <th>37</th>\n",
              "      <td>100000000</td>\n",
              "      <td>364571656</td>\n",
              "    </tr>\n",
              "    <tr>\n",
              "      <th>38</th>\n",
              "      <td>55000000</td>\n",
              "      <td>1060504580</td>\n",
              "    </tr>\n",
              "  </tbody>\n",
              "</table>\n",
              "</div>"
            ],
            "text/plain": [
              "       Budget  GrossWorldwide\n",
              "0   140000000       585366247\n",
              "1   150000000       263427551\n",
              "2   200000000       623933331\n",
              "3   150000000       449326618\n",
              "4   140000000       370569774\n",
              "5   220000000      1518812988\n",
              "6   200000000      1214811252\n",
              "7   170000000       644783140\n",
              "8   170000000       714421503\n",
              "9   170000000       772776600\n",
              "10  250000000      1402805868\n",
              "11  130000000       519311965\n",
              "12  250000000      1153296293\n",
              "13  165000000       677718395\n",
              "14  200000000       863756051\n",
              "15  175000000       880166924\n",
              "16  180000000       853977126\n",
              "17  200000000      1346913161\n",
              "18  321000000      2048359754\n",
              "19  162000000       622674139\n",
              "20  175000000      1128274794\n",
              "21  356000000      2797800564\n",
              "22  160000000      1131927996\n",
              "23  100000000        82102379\n",
              "24  150000000       373413297\n",
              "25  270000000       391081192\n",
              "26  185000000      1004934033\n",
              "27  130000000       185258983\n",
              "28   47000000        10903312\n",
              "29  200000000       219851172\n",
              "30  250000000      1081041287\n",
              "31  225000000       668045518\n",
              "32  250000000       873634919\n",
              "33  175000000       746846894\n",
              "34  149000000       821847012\n",
              "35  300000000       657924295\n",
              "36  160000000      1148161807\n",
              "37  100000000       364571656\n",
              "38   55000000      1060504580"
            ]
          },
          "metadata": {
            "tags": []
          },
          "execution_count": 42
        }
      ]
    },
    {
      "cell_type": "code",
      "metadata": {
        "id": "gofWdoMeh7sV",
        "colab_type": "code",
        "outputId": "a15debcf-5d83-4151-dfd1-4bc4c6ade6b2",
        "colab": {
          "base_uri": "https://localhost:8080/",
          "height": 72
        }
      },
      "source": [
        "from sklearn.cluster import KMeans\n",
        "\n",
        "k = KMeans(n_clusters=5) \n",
        "k.fit(MArvelDC3) "
      ],
      "execution_count": 0,
      "outputs": [
        {
          "output_type": "execute_result",
          "data": {
            "text/plain": [
              "KMeans(algorithm='auto', copy_x=True, init='k-means++', max_iter=300,\n",
              "       n_clusters=5, n_init=10, n_jobs=None, precompute_distances='auto',\n",
              "       random_state=None, tol=0.0001, verbose=0)"
            ]
          },
          "metadata": {
            "tags": []
          },
          "execution_count": 45
        }
      ]
    },
    {
      "cell_type": "code",
      "metadata": {
        "id": "lHkSzD9GiAhS",
        "colab_type": "code",
        "outputId": "488f1416-1ed4-4fb9-d959-f7036db6a8a5",
        "colab": {
          "base_uri": "https://localhost:8080/",
          "height": 308
        }
      },
      "source": [
        "# Podemos afimar analisando o grafico abaixo que quando maior o investimento (Budget) maior\n",
        "# é o retorno bruto no mundo (GrossWorldwide) sedo que a  valor de investimento gira em media de USD 200.000.000,00\n",
        "# com retorno aproximado de USD 1.000.000.000,00.\n",
        "import seaborn as sns\n",
        "#as variaveis são as mais relevantes Budget GrossWorldwide\n",
        "sns.scatterplot(MArvelDC3['Budget'], MArvelDC3['GrossWorldwide'], hue=k.labels_,palette=sns.color_palette('Set1',5))"
      ],
      "execution_count": 0,
      "outputs": [
        {
          "output_type": "execute_result",
          "data": {
            "text/plain": [
              "<matplotlib.axes._subplots.AxesSubplot at 0x7efd746c3198>"
            ]
          },
          "metadata": {
            "tags": []
          },
          "execution_count": 46
        },
        {
          "output_type": "display_data",
          "data": {
            "image/png": "[encoded data removed]",
            "text/plain": [
              "<Figure size 432x288 with 1 Axes>"
            ]
          },
          "metadata": {
            "tags": []
          }
        }
      ]
    }
  ]
}