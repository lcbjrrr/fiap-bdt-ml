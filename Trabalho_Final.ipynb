{
  "nbformat": 4,
  "nbformat_minor": 0,
  "metadata": {
    "colab": {
      "name": "Trabalho_Final.ipynb",
      "provenance": [],
      "collapsed_sections": [],
      "include_colab_link": true
    },
    "kernelspec": {
      "name": "python3",
      "display_name": "Python 3"
    }
  },
  "cells": [
    {
      "cell_type": "markdown",
      "metadata": {
        "id": "view-in-github",
        "colab_type": "text"
      },
      "source": [
        "<a href=\"https://colab.research.google.com/github/lcbjrrr/fiap-bdt-ml/blob/master/Trabalho_Final.ipynb\" target=\"_parent\"><img src=\"https://colab.research.google.com/assets/colab-badge.svg\" alt=\"Open In Colab\"/></a>"
      ]
    },
    {
      "cell_type": "markdown",
      "metadata": {
        "id": "07qnZsVNc1jV",
        "colab_type": "text"
      },
      "source": [
        "**Trabalho Final da disciplina Big Data Mining & Inteligencia Artificial**\n",
        "\n",
        "Aline Aparecida da Silva RM: 334112\n",
        "\n",
        "Rodrigo Massahiro Sato RM: 304020"
      ]
    },
    {
      "cell_type": "markdown",
      "metadata": {
        "id": "3gx35fNCZmSv",
        "colab_type": "text"
      },
      "source": [
        "**Desempenho de Estudantes em Exames** ( Apenas colégios dos EUA )\n",
        "\n",
        "https://www.kaggle.com/spscientist/students-performance-in-exams\n",
        "\n",
        "A partir de uma base de desempenho de estudantes colegiais nos EUA em provas de Matemática, Escrita e Leitura, criamos 2 modelos de classificação para prever a aprovação dos alunos baseada nas seguintes variáveis: Sexo, Almoço, Preparação, Etnia e Grau de Escolaridade dos Pais.\n",
        "\n",
        "---\n",
        "\n",
        "Estrutura:\n",
        "\n",
        "Nota_Matemática\n",
        "\n",
        "Nota_Leitura\n",
        "\n",
        "Nota_Escrita\n",
        "\n",
        "Aprovado ( 0-Aluno reprovado/1-Aluno aprovado )\n",
        "\n",
        "Sexo ( 0-Masculino/1-Feminino )\n",
        "\n",
        "Almoco ( 0-Não almoça regularmente/1-Almoça regularmente )\n",
        "\n",
        "Preparacao( 0-Aluno não se preparou/1-Aluno se preparou )\n",
        "\n",
        "Etnia( 1-Grupo A/2-Grupo B/3-Grupo C/4-Grupo D/5-Grupo E )\n",
        "\n",
        "Grau_Escolaridade_Pais( 1-Colégio sem diploma/2-Colégio com diploma/3-Faculdade sem diploma/4-Faculdade com diploma/5-Bacharel/6-Mestrado )"
      ]
    },
    {
      "cell_type": "markdown",
      "metadata": {
        "id": "s2NI-0z6WuXZ",
        "colab_type": "text"
      },
      "source": [
        "**Supervisionado**\n",
        "\n",
        "**Algorítmos de Classificação: KNN e Árvore de Decisão**"
      ]
    },
    {
      "cell_type": "code",
      "metadata": {
        "id": "b6pf1tpdVOoM",
        "colab_type": "code",
        "colab": {}
      },
      "source": [
        "from google.colab import drive\n",
        "drive.mount('/content/drive')"
      ],
      "execution_count": 0,
      "outputs": []
    },
    {
      "cell_type": "markdown",
      "metadata": {
        "id": "PlI4KWgvgIeU",
        "colab_type": "text"
      },
      "source": [
        "**1 - KNN**"
      ]
    },
    {
      "cell_type": "code",
      "metadata": {
        "id": "syNCMhBaWtxk",
        "colab_type": "code",
        "outputId": "db88c2b3-7aa8-49d7-b9cd-4351cec1b56d",
        "colab": {
          "base_uri": "https://localhost:8080/",
          "height": 197
        }
      },
      "source": [
        "#Importa base de Estudantes\n",
        "import pandas as pd\n",
        "aprovado = pd.read_csv(\"/content/drive/My Drive/PROJ/Aprovado.csv\",delimiter=';')\n",
        "aprovado.head()"
      ],
      "execution_count": 0,
      "outputs": [
        {
          "output_type": "execute_result",
          "data": {
            "text/html": [
              "<div>\n",
              "<style scoped>\n",
              "    .dataframe tbody tr th:only-of-type {\n",
              "        vertical-align: middle;\n",
              "    }\n",
              "\n",
              "    .dataframe tbody tr th {\n",
              "        vertical-align: top;\n",
              "    }\n",
              "\n",
              "    .dataframe thead th {\n",
              "        text-align: right;\n",
              "    }\n",
              "</style>\n",
              "<table border=\"1\" class=\"dataframe\">\n",
              "  <thead>\n",
              "    <tr style=\"text-align: right;\">\n",
              "      <th></th>\n",
              "      <th>Nota_Matematica</th>\n",
              "      <th>Nota_Leitura</th>\n",
              "      <th>Nota_Escrita</th>\n",
              "      <th>Aprovado</th>\n",
              "      <th>Sexo</th>\n",
              "      <th>Almoco</th>\n",
              "      <th>Preparacao</th>\n",
              "      <th>Etnia</th>\n",
              "      <th>Grau_Escolaridade_Pais</th>\n",
              "    </tr>\n",
              "  </thead>\n",
              "  <tbody>\n",
              "    <tr>\n",
              "      <th>0</th>\n",
              "      <td>72</td>\n",
              "      <td>72</td>\n",
              "      <td>74</td>\n",
              "      <td>1</td>\n",
              "      <td>0</td>\n",
              "      <td>1</td>\n",
              "      <td>0</td>\n",
              "      <td>2</td>\n",
              "      <td>5</td>\n",
              "    </tr>\n",
              "    <tr>\n",
              "      <th>1</th>\n",
              "      <td>69</td>\n",
              "      <td>90</td>\n",
              "      <td>88</td>\n",
              "      <td>1</td>\n",
              "      <td>0</td>\n",
              "      <td>1</td>\n",
              "      <td>1</td>\n",
              "      <td>3</td>\n",
              "      <td>3</td>\n",
              "    </tr>\n",
              "    <tr>\n",
              "      <th>2</th>\n",
              "      <td>90</td>\n",
              "      <td>95</td>\n",
              "      <td>93</td>\n",
              "      <td>1</td>\n",
              "      <td>0</td>\n",
              "      <td>1</td>\n",
              "      <td>0</td>\n",
              "      <td>2</td>\n",
              "      <td>6</td>\n",
              "    </tr>\n",
              "    <tr>\n",
              "      <th>3</th>\n",
              "      <td>47</td>\n",
              "      <td>57</td>\n",
              "      <td>44</td>\n",
              "      <td>0</td>\n",
              "      <td>1</td>\n",
              "      <td>0</td>\n",
              "      <td>0</td>\n",
              "      <td>1</td>\n",
              "      <td>4</td>\n",
              "    </tr>\n",
              "    <tr>\n",
              "      <th>4</th>\n",
              "      <td>76</td>\n",
              "      <td>78</td>\n",
              "      <td>75</td>\n",
              "      <td>1</td>\n",
              "      <td>1</td>\n",
              "      <td>1</td>\n",
              "      <td>0</td>\n",
              "      <td>3</td>\n",
              "      <td>3</td>\n",
              "    </tr>\n",
              "  </tbody>\n",
              "</table>\n",
              "</div>"
            ],
            "text/plain": [
              "   Nota_Matematica  Nota_Leitura  ...  Etnia  Grau_Escolaridade_Pais\n",
              "0               72            72  ...      2                       5\n",
              "1               69            90  ...      3                       3\n",
              "2               90            95  ...      2                       6\n",
              "3               47            57  ...      1                       4\n",
              "4               76            78  ...      3                       3\n",
              "\n",
              "[5 rows x 9 columns]"
            ]
          },
          "metadata": {
            "tags": []
          },
          "execution_count": 12
        }
      ]
    },
    {
      "cell_type": "code",
      "metadata": {
        "id": "zN0av3SLcuzR",
        "colab_type": "code",
        "outputId": "1472d9c0-e3c2-4ad0-a178-5ea09040a4f1",
        "colab": {
          "base_uri": "https://localhost:8080/",
          "height": 70
        }
      },
      "source": [
        "#Importa Classificacao de Vizinhos da biblioteca sklearn\n",
        "from sklearn.neighbors import KNeighborsClassifier\n",
        "#Importa Divisão de Base para criar base treino e base teste\n",
        "from sklearn.model_selection import train_test_split\n",
        "\n",
        "#cria base de treino e base de teste\n",
        "treino_dados, teste_dados = train_test_split(aprovado, test_size=0.25) # 75% para treino e 25% para teste\n",
        "\n",
        "#Aplica Classificação e realiza treinamento do modelo utilizando base de treino\n",
        "kviz = KNeighborsClassifier(n_neighbors=2)\n",
        "kviz.fit(treino_dados[['Sexo',\t'Almoco',\t'Preparacao' ,'Etnia', 'Grau_Escolaridade_Pais']] , treino_dados['Aprovado'])"
      ],
      "execution_count": 0,
      "outputs": [
        {
          "output_type": "execute_result",
          "data": {
            "text/plain": [
              "KNeighborsClassifier(algorithm='auto', leaf_size=30, metric='minkowski',\n",
              "                     metric_params=None, n_jobs=None, n_neighbors=2, p=2,\n",
              "                     weights='uniform')"
            ]
          },
          "metadata": {
            "tags": []
          },
          "execution_count": 87
        }
      ]
    },
    {
      "cell_type": "code",
      "metadata": {
        "id": "Sh1BAZj9u9cy",
        "colab_type": "code",
        "outputId": "2a0927c3-c82c-40bb-d178-a177dcd0697b",
        "colab": {
          "base_uri": "https://localhost:8080/",
          "height": 34
        }
      },
      "source": [
        "#Cria DataFrame, testa 2 exemplos com o modelo criado e verifica o resultado\n",
        "novos_dados = pd.DataFrame({\n",
        "    'Sexo':[1,0],\n",
        "    'Almoco':[1,0],\n",
        "    'Preparacao':[1,0],\n",
        "    'Etnia':[3,2],\n",
        "    'Grau_Escolaridade_Pais':[4,4],\n",
        "})\n",
        "\n",
        "kviz.predict(novos_dados)"
      ],
      "execution_count": 0,
      "outputs": [
        {
          "output_type": "execute_result",
          "data": {
            "text/plain": [
              "array([1, 0])"
            ]
          },
          "metadata": {
            "tags": []
          },
          "execution_count": 75
        }
      ]
    },
    {
      "cell_type": "code",
      "metadata": {
        "id": "KE0n4vIx0sFm",
        "colab_type": "code",
        "outputId": "4e265969-8c6b-44e5-cb52-0b29e74654fc",
        "colab": {
          "base_uri": "https://localhost:8080/",
          "height": 230
        }
      },
      "source": [
        "#Utiliza base de teste para aplicação do modelo criado\n",
        "pred = kviz.predict(teste_dados[['Sexo',\t'Almoco',\t'Preparacao' ,'Etnia', 'Grau_Escolaridade_Pais']])\n",
        "pred\n"
      ],
      "execution_count": 0,
      "outputs": [
        {
          "output_type": "execute_result",
          "data": {
            "text/plain": [
              "array([1, 0, 1, 0, 1, 0, 1, 1, 1, 0, 1, 0, 1, 0, 1, 1, 1, 0, 0, 1, 1, 1,\n",
              "       1, 0, 0, 1, 0, 1, 1, 0, 0, 1, 1, 0, 0, 1, 0, 0, 1, 1, 0, 1, 0, 0,\n",
              "       0, 0, 0, 1, 0, 1, 0, 0, 0, 0, 0, 0, 1, 1, 0, 0, 1, 0, 1, 1, 0, 1,\n",
              "       1, 0, 1, 1, 0, 0, 1, 0, 1, 0, 1, 1, 0, 0, 0, 0, 0, 0, 0, 0, 1, 0,\n",
              "       0, 0, 1, 0, 0, 1, 0, 0, 1, 0, 0, 1, 1, 0, 0, 0, 0, 0, 0, 0, 0, 0,\n",
              "       0, 0, 1, 1, 1, 1, 0, 1, 0, 0, 0, 0, 1, 1, 0, 0, 1, 1, 0, 1, 1, 1,\n",
              "       1, 1, 1, 0, 0, 1, 1, 1, 0, 0, 0, 0, 1, 0, 1, 1, 0, 1, 1, 1, 0, 1,\n",
              "       0, 0, 0, 0, 1, 1, 1, 0, 1, 1, 1, 1, 0, 0, 0, 1, 0, 0, 1, 1, 0, 1,\n",
              "       0, 1, 0, 0, 0, 1, 0, 1, 1, 1, 1, 1, 0, 1, 1, 0, 0, 1, 0, 0, 1, 0,\n",
              "       1, 0, 1, 1, 0, 0, 0, 1, 0, 0, 1, 0, 0, 0, 0, 1, 1, 1, 0, 1, 0, 1,\n",
              "       0, 1, 0, 0, 0, 0, 0, 1, 0, 0, 1, 1, 0, 1, 0, 0, 1, 0, 0, 0, 1, 0,\n",
              "       1, 0, 1, 0, 1, 1, 0, 1])"
            ]
          },
          "metadata": {
            "tags": []
          },
          "execution_count": 80
        }
      ]
    },
    {
      "cell_type": "code",
      "metadata": {
        "id": "u26OJP-KsmaA",
        "colab_type": "code",
        "outputId": "d9a92834-0a84-4541-af65-5d636ed77caa",
        "colab": {
          "base_uri": "https://localhost:8080/",
          "height": 513
        }
      },
      "source": [
        "#Adiciona nova coluna (Previsao) para validar resultado do modelo\n",
        "teste_dados['Previsao']=kviz.predict(teste_dados[['Sexo',\t'Almoco',\t'Preparacao' ,'Etnia', 'Grau_Escolaridade_Pais']])\n",
        "teste_dados"
      ],
      "execution_count": 0,
      "outputs": [
        {
          "output_type": "stream",
          "text": [
            "/usr/local/lib/python3.6/dist-packages/ipykernel_launcher.py:1: SettingWithCopyWarning: \n",
            "A value is trying to be set on a copy of a slice from a DataFrame.\n",
            "Try using .loc[row_indexer,col_indexer] = value instead\n",
            "\n",
            "See the caveats in the documentation: http://pandas.pydata.org/pandas-docs/stable/user_guide/indexing.html#returning-a-view-versus-a-copy\n",
            "  \"\"\"Entry point for launching an IPython kernel.\n"
          ],
          "name": "stderr"
        },
        {
          "output_type": "execute_result",
          "data": {
            "text/html": [
              "<div>\n",
              "<style scoped>\n",
              "    .dataframe tbody tr th:only-of-type {\n",
              "        vertical-align: middle;\n",
              "    }\n",
              "\n",
              "    .dataframe tbody tr th {\n",
              "        vertical-align: top;\n",
              "    }\n",
              "\n",
              "    .dataframe thead th {\n",
              "        text-align: right;\n",
              "    }\n",
              "</style>\n",
              "<table border=\"1\" class=\"dataframe\">\n",
              "  <thead>\n",
              "    <tr style=\"text-align: right;\">\n",
              "      <th></th>\n",
              "      <th>Nota_Matematica</th>\n",
              "      <th>Nota_Leitura</th>\n",
              "      <th>Nota_Escrita</th>\n",
              "      <th>Aprovado</th>\n",
              "      <th>Sexo</th>\n",
              "      <th>Almoco</th>\n",
              "      <th>Preparacao</th>\n",
              "      <th>Etnia</th>\n",
              "      <th>Grau_Escolaridade_Pais</th>\n",
              "      <th>Verifica</th>\n",
              "      <th>Previsao</th>\n",
              "    </tr>\n",
              "  </thead>\n",
              "  <tbody>\n",
              "    <tr>\n",
              "      <th>725</th>\n",
              "      <td>81</td>\n",
              "      <td>74</td>\n",
              "      <td>71</td>\n",
              "      <td>1</td>\n",
              "      <td>1</td>\n",
              "      <td>1</td>\n",
              "      <td>1</td>\n",
              "      <td>5</td>\n",
              "      <td>3</td>\n",
              "      <td>1</td>\n",
              "      <td>1</td>\n",
              "    </tr>\n",
              "    <tr>\n",
              "      <th>392</th>\n",
              "      <td>76</td>\n",
              "      <td>67</td>\n",
              "      <td>67</td>\n",
              "      <td>0</td>\n",
              "      <td>1</td>\n",
              "      <td>1</td>\n",
              "      <td>0</td>\n",
              "      <td>5</td>\n",
              "      <td>3</td>\n",
              "      <td>0</td>\n",
              "      <td>0</td>\n",
              "    </tr>\n",
              "    <tr>\n",
              "      <th>670</th>\n",
              "      <td>66</td>\n",
              "      <td>76</td>\n",
              "      <td>68</td>\n",
              "      <td>0</td>\n",
              "      <td>0</td>\n",
              "      <td>0</td>\n",
              "      <td>0</td>\n",
              "      <td>3</td>\n",
              "      <td>2</td>\n",
              "      <td>0</td>\n",
              "      <td>0</td>\n",
              "    </tr>\n",
              "    <tr>\n",
              "      <th>635</th>\n",
              "      <td>71</td>\n",
              "      <td>74</td>\n",
              "      <td>64</td>\n",
              "      <td>0</td>\n",
              "      <td>1</td>\n",
              "      <td>1</td>\n",
              "      <td>0</td>\n",
              "      <td>1</td>\n",
              "      <td>2</td>\n",
              "      <td>0</td>\n",
              "      <td>0</td>\n",
              "    </tr>\n",
              "    <tr>\n",
              "      <th>206</th>\n",
              "      <td>82</td>\n",
              "      <td>62</td>\n",
              "      <td>62</td>\n",
              "      <td>0</td>\n",
              "      <td>1</td>\n",
              "      <td>1</td>\n",
              "      <td>0</td>\n",
              "      <td>5</td>\n",
              "      <td>5</td>\n",
              "      <td>0</td>\n",
              "      <td>0</td>\n",
              "    </tr>\n",
              "    <tr>\n",
              "      <th>...</th>\n",
              "      <td>...</td>\n",
              "      <td>...</td>\n",
              "      <td>...</td>\n",
              "      <td>...</td>\n",
              "      <td>...</td>\n",
              "      <td>...</td>\n",
              "      <td>...</td>\n",
              "      <td>...</td>\n",
              "      <td>...</td>\n",
              "      <td>...</td>\n",
              "      <td>...</td>\n",
              "    </tr>\n",
              "    <tr>\n",
              "      <th>428</th>\n",
              "      <td>65</td>\n",
              "      <td>59</td>\n",
              "      <td>53</td>\n",
              "      <td>0</td>\n",
              "      <td>1</td>\n",
              "      <td>0</td>\n",
              "      <td>0</td>\n",
              "      <td>1</td>\n",
              "      <td>1</td>\n",
              "      <td>0</td>\n",
              "      <td>0</td>\n",
              "    </tr>\n",
              "    <tr>\n",
              "      <th>70</th>\n",
              "      <td>58</td>\n",
              "      <td>63</td>\n",
              "      <td>73</td>\n",
              "      <td>0</td>\n",
              "      <td>0</td>\n",
              "      <td>0</td>\n",
              "      <td>1</td>\n",
              "      <td>4</td>\n",
              "      <td>3</td>\n",
              "      <td>1</td>\n",
              "      <td>1</td>\n",
              "    </tr>\n",
              "    <tr>\n",
              "      <th>935</th>\n",
              "      <td>70</td>\n",
              "      <td>63</td>\n",
              "      <td>58</td>\n",
              "      <td>0</td>\n",
              "      <td>1</td>\n",
              "      <td>0</td>\n",
              "      <td>0</td>\n",
              "      <td>4</td>\n",
              "      <td>3</td>\n",
              "      <td>0</td>\n",
              "      <td>0</td>\n",
              "    </tr>\n",
              "    <tr>\n",
              "      <th>203</th>\n",
              "      <td>57</td>\n",
              "      <td>69</td>\n",
              "      <td>68</td>\n",
              "      <td>0</td>\n",
              "      <td>0</td>\n",
              "      <td>1</td>\n",
              "      <td>0</td>\n",
              "      <td>2</td>\n",
              "      <td>4</td>\n",
              "      <td>0</td>\n",
              "      <td>0</td>\n",
              "    </tr>\n",
              "    <tr>\n",
              "      <th>692</th>\n",
              "      <td>66</td>\n",
              "      <td>74</td>\n",
              "      <td>81</td>\n",
              "      <td>1</td>\n",
              "      <td>0</td>\n",
              "      <td>0</td>\n",
              "      <td>1</td>\n",
              "      <td>3</td>\n",
              "      <td>5</td>\n",
              "      <td>0</td>\n",
              "      <td>0</td>\n",
              "    </tr>\n",
              "  </tbody>\n",
              "</table>\n",
              "<p>250 rows × 11 columns</p>\n",
              "</div>"
            ],
            "text/plain": [
              "     Nota_Matematica  Nota_Leitura  ...  Verifica  Previsao\n",
              "725               81            74  ...         1         1\n",
              "392               76            67  ...         0         0\n",
              "670               66            76  ...         0         0\n",
              "635               71            74  ...         0         0\n",
              "206               82            62  ...         0         0\n",
              "..               ...           ...  ...       ...       ...\n",
              "428               65            59  ...         0         0\n",
              "70                58            63  ...         1         1\n",
              "935               70            63  ...         0         0\n",
              "203               57            69  ...         0         0\n",
              "692               66            74  ...         0         0\n",
              "\n",
              "[250 rows x 11 columns]"
            ]
          },
          "metadata": {
            "tags": []
          },
          "execution_count": 90
        }
      ]
    },
    {
      "cell_type": "code",
      "metadata": {
        "id": "72sbcm7Hv6IZ",
        "colab_type": "code",
        "colab": {}
      },
      "source": [
        "#Exporta Excel\n",
        "#!pip install openpyxl\n",
        "#teste_dados.to_excel('/content/drive/My Drive/PROJ/Aprovado_Valida.xlsx', sheet_name='Plan1', index = False)\n",
        "teste_dados.to_excel('Aprovado_Valida.xlsx', sheet_name='Plan1', index = False)\n",
        "\n"
      ],
      "execution_count": 0,
      "outputs": []
    },
    {
      "cell_type": "markdown",
      "metadata": {
        "id": "Wtody4AKXrY3",
        "colab_type": "text"
      },
      "source": [
        "Análise: Após aplicar o algoritmo de Classificação KNN para prever a aprovação de estudantes de colégios dos EUA em provas de matemática, leitura e escrita, conseguimos os seguintes resultados:\n",
        "\n",
        "**Acurácia: 58%**\n",
        "\n",
        "**Precisão: 62%**\n",
        "\n",
        "**Revocação: 30%**"
      ]
    },
    {
      "cell_type": "markdown",
      "metadata": {
        "id": "meHCMsWqjYK6",
        "colab_type": "text"
      },
      "source": [
        "**2 - Árvore de Decisão**"
      ]
    },
    {
      "cell_type": "code",
      "metadata": {
        "id": "gKCu2oYpSWIn",
        "colab_type": "code",
        "outputId": "6e0c4462-ffed-47eb-cee3-92961e43927f",
        "colab": {
          "base_uri": "https://localhost:8080/",
          "height": 34
        }
      },
      "source": [
        "!pip install graphviz"
      ],
      "execution_count": 0,
      "outputs": [
        {
          "output_type": "stream",
          "text": [
            "Requirement already satisfied: graphviz in /usr/local/lib/python3.6/dist-packages (0.10.1)\n"
          ],
          "name": "stdout"
        }
      ]
    },
    {
      "cell_type": "code",
      "metadata": {
        "id": "yOoKfeDdSvw-",
        "colab_type": "code",
        "outputId": "643bc0f4-bc1c-4788-a1a1-9c9f2acf8e9a",
        "colab": {
          "base_uri": "https://localhost:8080/",
          "height": 105
        }
      },
      "source": [
        "!apt-get install graphviz"
      ],
      "execution_count": 0,
      "outputs": [
        {
          "output_type": "stream",
          "text": [
            "Reading package lists... Done\n",
            "Building dependency tree       \n",
            "Reading state information... Done\n",
            "graphviz is already the newest version (2.40.1-2).\n",
            "0 upgraded, 0 newly installed, 0 to remove and 25 not upgraded.\n"
          ],
          "name": "stdout"
        }
      ]
    },
    {
      "cell_type": "code",
      "metadata": {
        "id": "9whoyCxXTDgc",
        "colab_type": "code",
        "outputId": "963fb53f-6f85-49b2-ccb3-869ed6226c49",
        "colab": {
          "base_uri": "https://localhost:8080/",
          "height": 123
        }
      },
      "source": [
        "#Importa Classificacao de Arvore de Decisao da biblioteca sklearn\n",
        "from sklearn.tree import DecisionTreeClassifier\n",
        "desempenho = pd.read_csv('/content/drive/My Drive/PROJ/Aprovado.csv',delimiter=';')\n",
        "\n",
        "#Define quantidade de níveis da árvore e realiza treino da base\n",
        "arv = DecisionTreeClassifier (max_depth=2)\n",
        "arv.fit (desempenho [['Sexo','Almoco','Preparacao','Etnia','Grau_Escolaridade_Pais']],desempenho ['Aprovado'])"
      ],
      "execution_count": 0,
      "outputs": [
        {
          "output_type": "execute_result",
          "data": {
            "text/plain": [
              "DecisionTreeClassifier(ccp_alpha=0.0, class_weight=None, criterion='gini',\n",
              "                       max_depth=2, max_features=None, max_leaf_nodes=None,\n",
              "                       min_impurity_decrease=0.0, min_impurity_split=None,\n",
              "                       min_samples_leaf=1, min_samples_split=2,\n",
              "                       min_weight_fraction_leaf=0.0, presort='deprecated',\n",
              "                       random_state=None, splitter='best')"
            ]
          },
          "metadata": {
            "tags": []
          },
          "execution_count": 10
        }
      ]
    },
    {
      "cell_type": "code",
      "metadata": {
        "id": "PyexYO7bZXej",
        "colab_type": "code",
        "outputId": "05346e78-7009-4c01-e6c6-4d12e0d7cbc8",
        "colab": {
          "base_uri": "https://localhost:8080/",
          "height": 440
        }
      },
      "source": [
        "from sklearn.tree import export_graphviz\n",
        "from graphviz import Source\n",
        "dot_data = export_graphviz (arv,out_file=None,\n",
        "                            filled = True, rounded = True,\n",
        "                            feature_names = ['Sexo','Almoco','Preparacao','Etnia','Grau_Escolaridade_Pais'],\n",
        "                            class_names =  ['nao', 'sim'])\n",
        "grafico= Source (dot_data)\n",
        "grafico"
      ],
      "execution_count": 0,
      "outputs": [
        {
          "output_type": "execute_result",
          "data": {
            "text/plain": [
              "<graphviz.files.Source at 0x7ffad40ea400>"
            ],
            "image/svg+xml": "<?xml version=\"1.0\" encoding=\"UTF-8\" standalone=\"no\"?>\n<!DOCTYPE svg PUBLIC \"-//W3C//DTD SVG 1.1//EN\"\n \"http://www.w3.org/Graphics/SVG/1.1/DTD/svg11.dtd\">\n<!-- Generated by graphviz version 2.40.1 (20161225.0304)\n -->\n<!-- Title: Tree Pages: 1 -->\n<svg width=\"564pt\" height=\"314pt\"\n viewBox=\"0.00 0.00 564.00 314.00\" xmlns=\"http://www.w3.org/2000/svg\" xmlns:xlink=\"http://www.w3.org/1999/xlink\">\n<g id=\"graph0\" class=\"graph\" transform=\"scale(1 1) rotate(0) translate(4 310)\">\n<title>Tree</title>\n<polygon fill=\"#ffffff\" stroke=\"transparent\" points=\"-4,4 -4,-310 560,-310 560,4 -4,4\"/>\n<!-- 0 -->\n<g id=\"node1\" class=\"node\">\n<title>0</title>\n<path fill=\"#fae7d9\" stroke=\"#000000\" d=\"M327,-306C327,-306 219,-306 219,-306 213,-306 207,-300 207,-294 207,-294 207,-235 207,-235 207,-229 213,-223 219,-223 219,-223 327,-223 327,-223 333,-223 339,-229 339,-235 339,-235 339,-294 339,-294 339,-300 333,-306 327,-306\"/>\n<text text-anchor=\"middle\" x=\"273\" y=\"-290.8\" font-family=\"Helvetica,sans-Serif\" font-size=\"14.00\" fill=\"#000000\">Almoco &lt;= 0.5</text>\n<text text-anchor=\"middle\" x=\"273\" y=\"-275.8\" font-family=\"Helvetica,sans-Serif\" font-size=\"14.00\" fill=\"#000000\">gini = 0.494</text>\n<text text-anchor=\"middle\" x=\"273\" y=\"-260.8\" font-family=\"Helvetica,sans-Serif\" font-size=\"14.00\" fill=\"#000000\">samples = 1000</text>\n<text text-anchor=\"middle\" x=\"273\" y=\"-245.8\" font-family=\"Helvetica,sans-Serif\" font-size=\"14.00\" fill=\"#000000\">value = [553, 447]</text>\n<text text-anchor=\"middle\" x=\"273\" y=\"-230.8\" font-family=\"Helvetica,sans-Serif\" font-size=\"14.00\" fill=\"#000000\">class = nao</text>\n</g>\n<!-- 1 -->\n<g id=\"node2\" class=\"node\">\n<title>1</title>\n<path fill=\"#f0b58b\" stroke=\"#000000\" d=\"M252.5,-187C252.5,-187 139.5,-187 139.5,-187 133.5,-187 127.5,-181 127.5,-175 127.5,-175 127.5,-116 127.5,-116 127.5,-110 133.5,-104 139.5,-104 139.5,-104 252.5,-104 252.5,-104 258.5,-104 264.5,-110 264.5,-116 264.5,-116 264.5,-175 264.5,-175 264.5,-181 258.5,-187 252.5,-187\"/>\n<text text-anchor=\"middle\" x=\"196\" y=\"-171.8\" font-family=\"Helvetica,sans-Serif\" font-size=\"14.00\" fill=\"#000000\">Preparacao &lt;= 0.5</text>\n<text text-anchor=\"middle\" x=\"196\" y=\"-156.8\" font-family=\"Helvetica,sans-Serif\" font-size=\"14.00\" fill=\"#000000\">gini = 0.414</text>\n<text text-anchor=\"middle\" x=\"196\" y=\"-141.8\" font-family=\"Helvetica,sans-Serif\" font-size=\"14.00\" fill=\"#000000\">samples = 355</text>\n<text text-anchor=\"middle\" x=\"196\" y=\"-126.8\" font-family=\"Helvetica,sans-Serif\" font-size=\"14.00\" fill=\"#000000\">value = [251, 104]</text>\n<text text-anchor=\"middle\" x=\"196\" y=\"-111.8\" font-family=\"Helvetica,sans-Serif\" font-size=\"14.00\" fill=\"#000000\">class = nao</text>\n</g>\n<!-- 0&#45;&gt;1 -->\n<g id=\"edge1\" class=\"edge\">\n<title>0&#45;&gt;1</title>\n<path fill=\"none\" stroke=\"#000000\" d=\"M246.0691,-222.8796C240.4163,-214.1434 234.3967,-204.8404 228.5634,-195.8253\"/>\n<polygon fill=\"#000000\" stroke=\"#000000\" points=\"231.4169,-193.7924 223.0458,-187.2981 225.5399,-197.5952 231.4169,-193.7924\"/>\n<text text-anchor=\"middle\" x=\"217.8076\" y=\"-208.0431\" font-family=\"Helvetica,sans-Serif\" font-size=\"14.00\" fill=\"#000000\">True</text>\n</g>\n<!-- 4 -->\n<g id=\"node5\" class=\"node\">\n<title>4</title>\n<path fill=\"#e7f3fc\" stroke=\"#000000\" d=\"M407.5,-187C407.5,-187 294.5,-187 294.5,-187 288.5,-187 282.5,-181 282.5,-175 282.5,-175 282.5,-116 282.5,-116 282.5,-110 288.5,-104 294.5,-104 294.5,-104 407.5,-104 407.5,-104 413.5,-104 419.5,-110 419.5,-116 419.5,-116 419.5,-175 419.5,-175 419.5,-181 413.5,-187 407.5,-187\"/>\n<text text-anchor=\"middle\" x=\"351\" y=\"-171.8\" font-family=\"Helvetica,sans-Serif\" font-size=\"14.00\" fill=\"#000000\">Preparacao &lt;= 0.5</text>\n<text text-anchor=\"middle\" x=\"351\" y=\"-156.8\" font-family=\"Helvetica,sans-Serif\" font-size=\"14.00\" fill=\"#000000\">gini = 0.498</text>\n<text text-anchor=\"middle\" x=\"351\" y=\"-141.8\" font-family=\"Helvetica,sans-Serif\" font-size=\"14.00\" fill=\"#000000\">samples = 645</text>\n<text text-anchor=\"middle\" x=\"351\" y=\"-126.8\" font-family=\"Helvetica,sans-Serif\" font-size=\"14.00\" fill=\"#000000\">value = [302, 343]</text>\n<text text-anchor=\"middle\" x=\"351\" y=\"-111.8\" font-family=\"Helvetica,sans-Serif\" font-size=\"14.00\" fill=\"#000000\">class = sim</text>\n</g>\n<!-- 0&#45;&gt;4 -->\n<g id=\"edge4\" class=\"edge\">\n<title>0&#45;&gt;4</title>\n<path fill=\"none\" stroke=\"#000000\" d=\"M300.2806,-222.8796C306.0068,-214.1434 312.1046,-204.8404 318.0137,-195.8253\"/>\n<polygon fill=\"#000000\" stroke=\"#000000\" points=\"321.0482,-197.5803 323.6029,-187.2981 315.1937,-193.7429 321.0482,-197.5803\"/>\n<text text-anchor=\"middle\" x=\"328.6968\" y=\"-208.0736\" font-family=\"Helvetica,sans-Serif\" font-size=\"14.00\" fill=\"#000000\">False</text>\n</g>\n<!-- 2 -->\n<g id=\"node3\" class=\"node\">\n<title>2</title>\n<path fill=\"#eca26c\" stroke=\"#000000\" d=\"M112,-68C112,-68 12,-68 12,-68 6,-68 0,-62 0,-56 0,-56 0,-12 0,-12 0,-6 6,0 12,0 12,0 112,0 112,0 118,0 124,-6 124,-12 124,-12 124,-56 124,-56 124,-62 118,-68 112,-68\"/>\n<text text-anchor=\"middle\" x=\"62\" y=\"-52.8\" font-family=\"Helvetica,sans-Serif\" font-size=\"14.00\" fill=\"#000000\">gini = 0.326</text>\n<text text-anchor=\"middle\" x=\"62\" y=\"-37.8\" font-family=\"Helvetica,sans-Serif\" font-size=\"14.00\" fill=\"#000000\">samples = 224</text>\n<text text-anchor=\"middle\" x=\"62\" y=\"-22.8\" font-family=\"Helvetica,sans-Serif\" font-size=\"14.00\" fill=\"#000000\">value = [178, 46]</text>\n<text text-anchor=\"middle\" x=\"62\" y=\"-7.8\" font-family=\"Helvetica,sans-Serif\" font-size=\"14.00\" fill=\"#000000\">class = nao</text>\n</g>\n<!-- 1&#45;&gt;2 -->\n<g id=\"edge2\" class=\"edge\">\n<title>1&#45;&gt;2</title>\n<path fill=\"none\" stroke=\"#000000\" d=\"M146.1033,-103.9815C134.6162,-94.4232 122.4103,-84.2668 110.9633,-74.7419\"/>\n<polygon fill=\"#000000\" stroke=\"#000000\" points=\"113.1035,-71.9695 103.1779,-68.2637 108.6261,-77.3503 113.1035,-71.9695\"/>\n</g>\n<!-- 3 -->\n<g id=\"node4\" class=\"node\">\n<title>3</title>\n<path fill=\"#fae5d6\" stroke=\"#000000\" d=\"M246,-68C246,-68 154,-68 154,-68 148,-68 142,-62 142,-56 142,-56 142,-12 142,-12 142,-6 148,0 154,0 154,0 246,0 246,0 252,0 258,-6 258,-12 258,-12 258,-56 258,-56 258,-62 252,-68 246,-68\"/>\n<text text-anchor=\"middle\" x=\"200\" y=\"-52.8\" font-family=\"Helvetica,sans-Serif\" font-size=\"14.00\" fill=\"#000000\">gini = 0.493</text>\n<text text-anchor=\"middle\" x=\"200\" y=\"-37.8\" font-family=\"Helvetica,sans-Serif\" font-size=\"14.00\" fill=\"#000000\">samples = 131</text>\n<text text-anchor=\"middle\" x=\"200\" y=\"-22.8\" font-family=\"Helvetica,sans-Serif\" font-size=\"14.00\" fill=\"#000000\">value = [73, 58]</text>\n<text text-anchor=\"middle\" x=\"200\" y=\"-7.8\" font-family=\"Helvetica,sans-Serif\" font-size=\"14.00\" fill=\"#000000\">class = nao</text>\n</g>\n<!-- 1&#45;&gt;3 -->\n<g id=\"edge3\" class=\"edge\">\n<title>1&#45;&gt;3</title>\n<path fill=\"none\" stroke=\"#000000\" d=\"M197.4895,-103.9815C197.7895,-95.618 198.106,-86.7965 198.4093,-78.3409\"/>\n<polygon fill=\"#000000\" stroke=\"#000000\" points=\"201.91,-78.3828 198.7708,-68.2637 194.9145,-78.1317 201.91,-78.3828\"/>\n</g>\n<!-- 5 -->\n<g id=\"node6\" class=\"node\">\n<title>5</title>\n<path fill=\"#fae9dc\" stroke=\"#000000\" d=\"M402,-68C402,-68 294,-68 294,-68 288,-68 282,-62 282,-56 282,-56 282,-12 282,-12 282,-6 288,0 294,0 294,0 402,0 402,0 408,0 414,-6 414,-12 414,-12 414,-56 414,-56 414,-62 408,-68 402,-68\"/>\n<text text-anchor=\"middle\" x=\"348\" y=\"-52.8\" font-family=\"Helvetica,sans-Serif\" font-size=\"14.00\" fill=\"#000000\">gini = 0.495</text>\n<text text-anchor=\"middle\" x=\"348\" y=\"-37.8\" font-family=\"Helvetica,sans-Serif\" font-size=\"14.00\" fill=\"#000000\">samples = 418</text>\n<text text-anchor=\"middle\" x=\"348\" y=\"-22.8\" font-family=\"Helvetica,sans-Serif\" font-size=\"14.00\" fill=\"#000000\">value = [229, 189]</text>\n<text text-anchor=\"middle\" x=\"348\" y=\"-7.8\" font-family=\"Helvetica,sans-Serif\" font-size=\"14.00\" fill=\"#000000\">class = nao</text>\n</g>\n<!-- 4&#45;&gt;5 -->\n<g id=\"edge5\" class=\"edge\">\n<title>4&#45;&gt;5</title>\n<path fill=\"none\" stroke=\"#000000\" d=\"M349.8829,-103.9815C349.6579,-95.618 349.4205,-86.7965 349.193,-78.3409\"/>\n<polygon fill=\"#000000\" stroke=\"#000000\" points=\"352.6897,-78.1659 348.9219,-68.2637 345.6922,-78.3542 352.6897,-78.1659\"/>\n</g>\n<!-- 6 -->\n<g id=\"node7\" class=\"node\">\n<title>6</title>\n<path fill=\"#97cbf1\" stroke=\"#000000\" d=\"M544,-68C544,-68 444,-68 444,-68 438,-68 432,-62 432,-56 432,-56 432,-12 432,-12 432,-6 438,0 444,0 444,0 544,0 544,0 550,0 556,-6 556,-12 556,-12 556,-56 556,-56 556,-62 550,-68 544,-68\"/>\n<text text-anchor=\"middle\" x=\"494\" y=\"-52.8\" font-family=\"Helvetica,sans-Serif\" font-size=\"14.00\" fill=\"#000000\">gini = 0.436</text>\n<text text-anchor=\"middle\" x=\"494\" y=\"-37.8\" font-family=\"Helvetica,sans-Serif\" font-size=\"14.00\" fill=\"#000000\">samples = 227</text>\n<text text-anchor=\"middle\" x=\"494\" y=\"-22.8\" font-family=\"Helvetica,sans-Serif\" font-size=\"14.00\" fill=\"#000000\">value = [73, 154]</text>\n<text text-anchor=\"middle\" x=\"494\" y=\"-7.8\" font-family=\"Helvetica,sans-Serif\" font-size=\"14.00\" fill=\"#000000\">class = sim</text>\n</g>\n<!-- 4&#45;&gt;6 -->\n<g id=\"edge6\" class=\"edge\">\n<title>4&#45;&gt;6</title>\n<path fill=\"none\" stroke=\"#000000\" d=\"M404.2479,-103.9815C416.6244,-94.3313 429.7828,-84.0714 442.1003,-74.4673\"/>\n<polygon fill=\"#000000\" stroke=\"#000000\" points=\"444.3225,-77.1728 450.0565,-68.2637 440.0182,-71.6525 444.3225,-77.1728\"/>\n</g>\n</g>\n</svg>\n"
          },
          "metadata": {
            "tags": []
          },
          "execution_count": 11
        }
      ]
    },
    {
      "cell_type": "markdown",
      "metadata": {
        "id": "YW2td8mHZcZi",
        "colab_type": "text"
      },
      "source": [
        "**Análise:** Considerando a ávore de decisão é possivel verificar que tirando as notas que é um item diretamente relacionado com a aprovação, a variável com maior impacto na aprovação dos alunos é se alimentar de maneira adequada, na sequência temos a variável de preparação sendo que os que se preparam tem uma maior probabilidade de serem aprovados"
      ]
    }
  ]
}