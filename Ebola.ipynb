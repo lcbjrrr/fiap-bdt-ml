{
  "nbformat": 4,
  "nbformat_minor": 0,
  "metadata": {
    "colab": {
      "name": "Ebola.ipynb",
      "provenance": [],
      "include_colab_link": true
    },
    "kernelspec": {
      "name": "python3",
      "display_name": "Python 3"
    }
  },
  "cells": [
    {
      "cell_type": "markdown",
      "metadata": {
        "id": "view-in-github",
        "colab_type": "text"
      },
      "source": [
        "<a href=\"https://colab.research.google.com/github/lcbjrrr/fiap-bdt-ml/blob/master/Ebola.ipynb\" target=\"_parent\"><img src=\"https://colab.research.google.com/assets/colab-badge.svg\" alt=\"Open In Colab\"/></a>"
      ]
    },
    {
      "cell_type": "code",
      "metadata": {
        "id": "eBYOOLqwCLTp",
        "colab_type": "code",
        "outputId": "4cf4b082-937b-4a80-8b81-bdb61c070b0e",
        "colab": {
          "base_uri": "https://localhost:8080/",
          "height": 34
        }
      },
      "source": [
        "from google.colab import drive\n",
        "drive.mount('/content/drive')"
      ],
      "execution_count": 0,
      "outputs": [
        {
          "output_type": "stream",
          "text": [
            "Drive already mounted at /content/drive; to attempt to forcibly remount, call drive.mount(\"/content/drive\", force_remount=True).\n"
          ],
          "name": "stdout"
        }
      ]
    },
    {
      "cell_type": "code",
      "metadata": {
        "id": "zB_9S1yxCehr",
        "colab_type": "code",
        "outputId": "f2f8a8bf-a7e6-4172-f623-b8e988209ce4",
        "colab": {
          "base_uri": "https://localhost:8080/",
          "height": 359
        }
      },
      "source": [
        "import pandas as pd\n",
        "Ebola = pd.read_csv('/content/drive/My Drive/Trabalho_Final_Inteligencia/EBOLA _REGRESSAO.csv', sep=';')\n",
        "Ebola\n"
      ],
      "execution_count": 0,
      "outputs": [
        {
          "output_type": "execute_result",
          "data": {
            "text/html": [
              "<div>\n",
              "<style scoped>\n",
              "    .dataframe tbody tr th:only-of-type {\n",
              "        vertical-align: middle;\n",
              "    }\n",
              "\n",
              "    .dataframe tbody tr th {\n",
              "        vertical-align: top;\n",
              "    }\n",
              "\n",
              "    .dataframe thead th {\n",
              "        text-align: right;\n",
              "    }\n",
              "</style>\n",
              "<table border=\"1\" class=\"dataframe\">\n",
              "  <thead>\n",
              "    <tr style=\"text-align: right;\">\n",
              "      <th></th>\n",
              "      <th>Pais</th>\n",
              "      <th>Ano</th>\n",
              "      <th>Casos_Confirmados</th>\n",
              "      <th>Mortes_Confirmadas</th>\n",
              "      <th>Casos_Suspeitos</th>\n",
              "    </tr>\n",
              "  </thead>\n",
              "  <tbody>\n",
              "    <tr>\n",
              "      <th>0</th>\n",
              "      <td>Guinea</td>\n",
              "      <td>2016</td>\n",
              "      <td>3.351</td>\n",
              "      <td>2.083</td>\n",
              "      <td>0.000</td>\n",
              "    </tr>\n",
              "    <tr>\n",
              "      <th>1</th>\n",
              "      <td>Spain</td>\n",
              "      <td>2016</td>\n",
              "      <td>1.000</td>\n",
              "      <td>0.000</td>\n",
              "      <td>0.000</td>\n",
              "    </tr>\n",
              "    <tr>\n",
              "      <th>2</th>\n",
              "      <td>Sierra Leone</td>\n",
              "      <td>2016</td>\n",
              "      <td>8.704</td>\n",
              "      <td>3.589</td>\n",
              "      <td>5.131</td>\n",
              "    </tr>\n",
              "    <tr>\n",
              "      <th>3</th>\n",
              "      <td>Senegal</td>\n",
              "      <td>2016</td>\n",
              "      <td>1.000</td>\n",
              "      <td>0.000</td>\n",
              "      <td>0.000</td>\n",
              "    </tr>\n",
              "    <tr>\n",
              "      <th>4</th>\n",
              "      <td>Mali</td>\n",
              "      <td>2016</td>\n",
              "      <td>7.000</td>\n",
              "      <td>0.000</td>\n",
              "      <td>0.000</td>\n",
              "    </tr>\n",
              "    <tr>\n",
              "      <th>5</th>\n",
              "      <td>United Kingdom</td>\n",
              "      <td>2016</td>\n",
              "      <td>1.000</td>\n",
              "      <td>0.000</td>\n",
              "      <td>0.000</td>\n",
              "    </tr>\n",
              "    <tr>\n",
              "      <th>6</th>\n",
              "      <td>Liberia</td>\n",
              "      <td>2016</td>\n",
              "      <td>9.000</td>\n",
              "      <td>3.000</td>\n",
              "      <td>5.636</td>\n",
              "    </tr>\n",
              "    <tr>\n",
              "      <th>7</th>\n",
              "      <td>Italy</td>\n",
              "      <td>2016</td>\n",
              "      <td>3.151</td>\n",
              "      <td>0.000</td>\n",
              "      <td>0.000</td>\n",
              "    </tr>\n",
              "    <tr>\n",
              "      <th>8</th>\n",
              "      <td>Nigeria</td>\n",
              "      <td>2016</td>\n",
              "      <td>20.000</td>\n",
              "      <td>7.000</td>\n",
              "      <td>0.000</td>\n",
              "    </tr>\n",
              "    <tr>\n",
              "      <th>9</th>\n",
              "      <td>United States of America</td>\n",
              "      <td>2016</td>\n",
              "      <td>6.000</td>\n",
              "      <td>2.000</td>\n",
              "      <td>0.000</td>\n",
              "    </tr>\n",
              "  </tbody>\n",
              "</table>\n",
              "</div>"
            ],
            "text/plain": [
              "                       Pais   Ano  ...  Mortes_Confirmadas  Casos_Suspeitos\n",
              "0                    Guinea  2016  ...               2.083            0.000\n",
              "1                     Spain  2016  ...               0.000            0.000\n",
              "2              Sierra Leone  2016  ...               3.589            5.131\n",
              "3                   Senegal  2016  ...               0.000            0.000\n",
              "4                      Mali  2016  ...               0.000            0.000\n",
              "5            United Kingdom  2016  ...               0.000            0.000\n",
              "6                   Liberia  2016  ...               3.000            5.636\n",
              "7                     Italy  2016  ...               0.000            0.000\n",
              "8                   Nigeria  2016  ...               7.000            0.000\n",
              "9  United States of America  2016  ...               2.000            0.000\n",
              "\n",
              "[10 rows x 5 columns]"
            ]
          },
          "metadata": {
            "tags": []
          },
          "execution_count": 129
        }
      ]
    },
    {
      "cell_type": "markdown",
      "metadata": {
        "id": "1U4tPwukDLzV",
        "colab_type": "text"
      },
      "source": [
        "**Análises Exploratórias:**"
      ]
    },
    {
      "cell_type": "markdown",
      "metadata": {
        "id": "raaIh84nUrpA",
        "colab_type": "text"
      },
      "source": [
        "O arquivo escolhi foi o estudo da transição da doença Ebola, portanto o foco será na quantidade de casos confirmados por país afetado, considerando somente o ano de 2016 (último período disponilibizado na pesquisa). "
      ]
    },
    {
      "cell_type": "code",
      "metadata": {
        "id": "OiBt0hEdToQ4",
        "colab_type": "code",
        "outputId": "5dadb25a-8807-4d84-dc8b-6b7b38127ffa",
        "colab": {
          "base_uri": "https://localhost:8080/",
          "height": 221
        }
      },
      "source": [
        "casos_confir = Ebola.groupby('Pais').sum()['Casos_Confirmados']\n",
        "casos_confir"
      ],
      "execution_count": 0,
      "outputs": [
        {
          "output_type": "execute_result",
          "data": {
            "text/plain": [
              "Pais\n",
              "Guinea                       3.351\n",
              "Italy                        3.151\n",
              "Liberia                      9.000\n",
              "Mali                         7.000\n",
              "Nigeria                     20.000\n",
              "Senegal                      1.000\n",
              "Sierra Leone                 8.704\n",
              "Spain                        1.000\n",
              "United Kingdom               1.000\n",
              "United States of America     6.000\n",
              "Name: Casos_Confirmados, dtype: float64"
            ]
          },
          "metadata": {
            "tags": []
          },
          "execution_count": 130
        }
      ]
    },
    {
      "cell_type": "code",
      "metadata": {
        "id": "okA9JeDjUON9",
        "colab_type": "code",
        "colab": {}
      },
      "source": [
        "import seaborn as sns\n",
        "import matplotlib.pyplot as plt"
      ],
      "execution_count": 0,
      "outputs": []
    },
    {
      "cell_type": "code",
      "metadata": {
        "id": "6MuFP0mxUifS",
        "colab_type": "code",
        "outputId": "357c2a56-ae4b-4fa5-8fed-1ddf42980f98",
        "colab": {
          "base_uri": "https://localhost:8080/",
          "height": 514
        }
      },
      "source": [
        "sns.barplot(casos_confir.index, casos_confir.values)\n",
        "plt.rcParams['figure.figsize']=(22,7)\n",
        "plt.ylabel('QTDE DE CASOS CONFIRMADOS')\n",
        "plt.title('COMPARATIVO ENTRE PAÍSES')\n"
      ],
      "execution_count": 0,
      "outputs": [
        {
          "output_type": "execute_result",
          "data": {
            "text/plain": [
              "Text(0.5, 1.0, 'COMPARATIVO ENTRE PAÍSES')"
            ]
          },
          "metadata": {
            "tags": []
          },
          "execution_count": 132
        },
        {
          "output_type": "display_data",
          "data": {
            "image/png": "[encoded data removed]",
            "text/plain": [
              "<Figure size 1584x576 with 1 Axes>"
            ]
          },
          "metadata": {
            "tags": []
          }
        }
      ]
    },
    {
      "cell_type": "markdown",
      "metadata": {
        "id": "7qvWNBEFnsyI",
        "colab_type": "text"
      },
      "source": [
        "Na análise exploratória, podemos observar que a Nigériaé o país mais afetado com 20k casos confirmados, seguido da Liberia com 9k."
      ]
    },
    {
      "cell_type": "code",
      "metadata": {
        "id": "EplTiNiinP7h",
        "colab_type": "code",
        "outputId": "89f0a358-3e22-4ddd-868f-7a7a94bfcf3d",
        "colab": {
          "base_uri": "https://localhost:8080/",
          "height": 451
        }
      },
      "source": [
        "classes = [1.000,5.000,10.0000,15.000,20.000]\n",
        "sns.distplot(Ebola['Casos_Confirmados'], bins = classes)"
      ],
      "execution_count": 0,
      "outputs": [
        {
          "output_type": "execute_result",
          "data": {
            "text/plain": [
              "<matplotlib.axes._subplots.AxesSubplot at 0x7ffa3331d908>"
            ]
          },
          "metadata": {
            "tags": []
          },
          "execution_count": 133
        },
        {
          "output_type": "display_data",
          "data": {
            "image/png": "[encoded data removed]",
            "text/plain": [
              "<Figure size 1584x504 with 1 Axes>"
            ]
          },
          "metadata": {
            "tags": []
          }
        }
      ]
    },
    {
      "cell_type": "markdown",
      "metadata": {
        "id": "is5APyVNolEh",
        "colab_type": "text"
      },
      "source": [
        "Pelo histograma pode-se observar que a cursa está assimetrica, pois está direcionada para o lado esquerdo do gráfico. Os casos confirmados estão concentrados em média entre 1k e 5k. "
      ]
    },
    {
      "cell_type": "code",
      "metadata": {
        "id": "NWFU5K_fZn1W",
        "colab_type": "code",
        "outputId": "95cbd934-99a3-4292-cebc-29dcde1d5a8e",
        "colab": {
          "base_uri": "https://localhost:8080/",
          "height": 170
        }
      },
      "source": [
        "casos_confirm2 = Ebola['Casos_Confirmados'].describe()\n",
        "casos_confirm2"
      ],
      "execution_count": 0,
      "outputs": [
        {
          "output_type": "execute_result",
          "data": {
            "text/plain": [
              "count    10.000000\n",
              "mean      6.020600\n",
              "std       5.806523\n",
              "min       1.000000\n",
              "25%       1.537750\n",
              "50%       4.675500\n",
              "75%       8.278000\n",
              "max      20.000000\n",
              "Name: Casos_Confirmados, dtype: float64"
            ]
          },
          "metadata": {
            "tags": []
          },
          "execution_count": 134
        }
      ]
    },
    {
      "cell_type": "code",
      "metadata": {
        "id": "eBQFEi7ibkn-",
        "colab_type": "code",
        "outputId": "0be97261-0c33-4c7e-8f32-4d06d3b23e43",
        "colab": {
          "base_uri": "https://localhost:8080/",
          "height": 437
        }
      },
      "source": [
        "sns.boxplot(x='Casos_Confirmados' , data=Ebola)\n",
        "plt.ylabel('PAÍSES')\n",
        "plt.rcParams['figure.figsize']=(11,7)\n"
      ],
      "execution_count": 0,
      "outputs": [
        {
          "output_type": "display_data",
          "data": {
            "image/png": "[encoded data removed]",
            "text/plain": [
              "<Figure size 1584x504 with 1 Axes>"
            ]
          },
          "metadata": {
            "tags": []
          }
        }
      ]
    },
    {
      "cell_type": "markdown",
      "metadata": {
        "id": "hXmlC1HCgdkl",
        "colab_type": "text"
      },
      "source": [
        "A média de casos por país é de 6K e com outlier com 1k os países Espanha e Reino Unido. "
      ]
    },
    {
      "cell_type": "markdown",
      "metadata": {
        "id": "WbpPRxjYhbnZ",
        "colab_type": "text"
      },
      "source": [
        "**Regressão Linear:**"
      ]
    },
    {
      "cell_type": "markdown",
      "metadata": {
        "id": "g7JrM3F1qWIb",
        "colab_type": "text"
      },
      "source": [
        "Prever o número de mortes, a partir do número de casos suspeitos e casos confirmados"
      ]
    },
    {
      "cell_type": "code",
      "metadata": {
        "id": "ulN6IRdQ4ORm",
        "colab_type": "code",
        "colab": {}
      },
      "source": [
        "from sklearn.linear_model import LinearRegression"
      ],
      "execution_count": 0,
      "outputs": []
    },
    {
      "cell_type": "code",
      "metadata": {
        "id": "lxCxZzBy4TLZ",
        "colab_type": "code",
        "outputId": "243ce9a9-c035-4684-e98f-17c684f45bed",
        "colab": {
          "base_uri": "https://localhost:8080/",
          "height": 34
        }
      },
      "source": [
        "rl = LinearRegression()\n",
        "rl.fit(Ebola[['Casos_Confirmados' , 'Casos_Suspeitos']] , Ebola['Mortes_Confirmadas'])\n",
        "print(rl.coef_,rl.intercept_)"
      ],
      "execution_count": 0,
      "outputs": [
        {
          "output_type": "stream",
          "text": [
            "[0.35331054 0.11824807] -0.4872591128769186\n"
          ],
          "name": "stdout"
        }
      ]
    },
    {
      "cell_type": "markdown",
      "metadata": {
        "id": "agoz7Opj-cOG",
        "colab_type": "text"
      },
      "source": [
        "Considerando que este valor é assrtivo, visto que está menor que zero e a probalidade de ser número aleatório é baixo. "
      ]
    },
    {
      "cell_type": "code",
      "metadata": {
        "id": "PuXT8L1f4r1H",
        "colab_type": "code",
        "colab": {}
      },
      "source": [
        "def prever_mortes(confirmados, suspeitos):\n",
        "  mortes = confirmados * 0.353 + suspeitos * 0.118 - 0.487\n",
        "  return mortes"
      ],
      "execution_count": 0,
      "outputs": []
    },
    {
      "cell_type": "code",
      "metadata": {
        "id": "qT3Yul5e6kiP",
        "colab_type": "code",
        "outputId": "f355cc41-d260-4f6c-e3b5-6c8fcf20bc15",
        "colab": {
          "base_uri": "https://localhost:8080/",
          "height": 51
        }
      },
      "source": [
        "confirmados_suspeitos_fut = pd.DataFrame({\n",
        "    'Casos_Confirmados' : [10,20,30,40,50,60,70,80,90,100],\n",
        "    'Casos_Suspeitos' : [1,2,3,4,5,6,7,8,9,10]})\n",
        "mortes_fut = rl.predict(confirmados_suspeitos_fut)\n",
        "mortes_fut\n"
      ],
      "execution_count": 0,
      "outputs": [
        {
          "output_type": "execute_result",
          "data": {
            "text/plain": [
              "array([ 3.16409432,  6.81544775, 10.46680118, 14.11815461, 17.76950804,\n",
              "       21.42086147, 25.0722149 , 28.72356834, 32.37492177, 36.0262752 ])"
            ]
          },
          "metadata": {
            "tags": []
          },
          "execution_count": 140
        }
      ]
    },
    {
      "cell_type": "code",
      "metadata": {
        "id": "vEf1QjoK8B7q",
        "colab_type": "code",
        "outputId": "39f450ea-c790-4382-cd01-dd7de0fb7006",
        "colab": {
          "base_uri": "https://localhost:8080/",
          "height": 34
        }
      },
      "source": [
        "r2 = rl.score(Ebola[['Casos_Confirmados' ,'Casos_Suspeitos']] , Ebola['Mortes_Confirmadas'])\n",
        "r2"
      ],
      "execution_count": 0,
      "outputs": [
        {
          "output_type": "execute_result",
          "data": {
            "text/plain": [
              "0.8560514238611331"
            ]
          },
          "metadata": {
            "tags": []
          },
          "execution_count": 141
        }
      ]
    },
    {
      "cell_type": "markdown",
      "metadata": {
        "id": "N1ZO4DEk92zH",
        "colab_type": "text"
      },
      "source": [
        "Com a validação do r2, podemos concluir que a previsão foi assertiva por está muito próximo de zero. "
      ]
    },
    {
      "cell_type": "code",
      "metadata": {
        "id": "bHY-ChQnAJaD",
        "colab_type": "code",
        "outputId": "d59d7f04-2656-4919-dbd6-550befbf0abb",
        "colab": {
          "base_uri": "https://localhost:8080/",
          "height": 51
        }
      },
      "source": [
        "mortes_prev = rl.predict(Ebola[['Casos_Confirmados', 'Casos_Suspeitos']])\n",
        "mortes_prev"
      ],
      "execution_count": 0,
      "outputs": [
        {
          "output_type": "execute_result",
          "data": {
            "text/plain": [
              "array([ 0.69668449, -0.13394858,  3.19468666, -0.13394858,  1.98591464,\n",
              "       -0.13394858,  3.35898186,  0.62602238,  6.5789516 ,  1.6326041 ])"
            ]
          },
          "metadata": {
            "tags": []
          },
          "execution_count": 144
        }
      ]
    },
    {
      "cell_type": "markdown",
      "metadata": {
        "id": "3xUfLH4HBd3F",
        "colab_type": "text"
      },
      "source": [
        "Calculando os erros"
      ]
    },
    {
      "cell_type": "code",
      "metadata": {
        "id": "JS-IJpFE-Qt4",
        "colab_type": "code",
        "colab": {}
      },
      "source": [
        "from sklearn import metrics"
      ],
      "execution_count": 0,
      "outputs": []
    },
    {
      "cell_type": "code",
      "metadata": {
        "id": "e6b1r44H_Z0Q",
        "colab_type": "code",
        "outputId": "c14c9818-ad43-4eaf-b91f-b86e4e338f79",
        "colab": {
          "base_uri": "https://localhost:8080/",
          "height": 34
        }
      },
      "source": [
        "rr = metrics.r2_score(Ebola['Mortes_Confirmadas'] , mortes_prev)\n",
        "rr"
      ],
      "execution_count": 0,
      "outputs": [
        {
          "output_type": "execute_result",
          "data": {
            "text/plain": [
              "0.8560514238611331"
            ]
          },
          "metadata": {
            "tags": []
          },
          "execution_count": 145
        }
      ]
    },
    {
      "cell_type": "code",
      "metadata": {
        "id": "G43-B5RkAYEW",
        "colab_type": "code",
        "outputId": "adc1272f-e8d0-498d-aba7-5d29352863b3",
        "colab": {
          "base_uri": "https://localhost:8080/",
          "height": 34
        }
      },
      "source": [
        "err_quad = metrics.mean_squared_error(Ebola['Mortes_Confirmadas'] , mortes_prev)\n",
        "err_quad"
      ],
      "execution_count": 0,
      "outputs": [
        {
          "output_type": "execute_result",
          "data": {
            "text/plain": [
              "0.6908070806935525"
            ]
          },
          "metadata": {
            "tags": []
          },
          "execution_count": 146
        }
      ]
    },
    {
      "cell_type": "code",
      "metadata": {
        "id": "eD6jTY8oBHv1",
        "colab_type": "code",
        "outputId": "d54d0cbc-8b0f-43d7-8600-e6997f8a071c",
        "colab": {
          "base_uri": "https://localhost:8080/",
          "height": 34
        }
      },
      "source": [
        "import numpy as np\n",
        "\n",
        "err = np.sqrt(err_quad)\n",
        "err"
      ],
      "execution_count": 0,
      "outputs": [
        {
          "output_type": "execute_result",
          "data": {
            "text/plain": [
              "0.8311480498043369"
            ]
          },
          "metadata": {
            "tags": []
          },
          "execution_count": 147
        }
      ]
    },
    {
      "cell_type": "markdown",
      "metadata": {
        "id": "59J9V1mVADDw",
        "colab_type": "text"
      },
      "source": [
        "Probalidade de erro de 1% para mais ou para menos aproximadamente"
      ]
    },
    {
      "cell_type": "code",
      "metadata": {
        "id": "Lp3Fy8V7Bhhf",
        "colab_type": "code",
        "outputId": "ebcc8860-066e-4c42-ee8e-9b059e3fec1f",
        "colab": {
          "base_uri": "https://localhost:8080/",
          "height": 359
        }
      },
      "source": [
        "import statsmodels.api as sm\n",
        "\n",
        "Ebola[['Casos_Confirmados' , 'Casos_Suspeitos']]\n",
        "\n",
        "confirmados1_suspeitos1 = sm.add_constant(Ebola[['Casos_Confirmados' , 'Casos_Suspeitos']])\n",
        "confirmados1_suspeitos1\n"
      ],
      "execution_count": 0,
      "outputs": [
        {
          "output_type": "execute_result",
          "data": {
            "text/html": [
              "<div>\n",
              "<style scoped>\n",
              "    .dataframe tbody tr th:only-of-type {\n",
              "        vertical-align: middle;\n",
              "    }\n",
              "\n",
              "    .dataframe tbody tr th {\n",
              "        vertical-align: top;\n",
              "    }\n",
              "\n",
              "    .dataframe thead th {\n",
              "        text-align: right;\n",
              "    }\n",
              "</style>\n",
              "<table border=\"1\" class=\"dataframe\">\n",
              "  <thead>\n",
              "    <tr style=\"text-align: right;\">\n",
              "      <th></th>\n",
              "      <th>const</th>\n",
              "      <th>Casos_Confirmados</th>\n",
              "      <th>Casos_Suspeitos</th>\n",
              "    </tr>\n",
              "  </thead>\n",
              "  <tbody>\n",
              "    <tr>\n",
              "      <th>0</th>\n",
              "      <td>1.0</td>\n",
              "      <td>3.351</td>\n",
              "      <td>0.000</td>\n",
              "    </tr>\n",
              "    <tr>\n",
              "      <th>1</th>\n",
              "      <td>1.0</td>\n",
              "      <td>1.000</td>\n",
              "      <td>0.000</td>\n",
              "    </tr>\n",
              "    <tr>\n",
              "      <th>2</th>\n",
              "      <td>1.0</td>\n",
              "      <td>8.704</td>\n",
              "      <td>5.131</td>\n",
              "    </tr>\n",
              "    <tr>\n",
              "      <th>3</th>\n",
              "      <td>1.0</td>\n",
              "      <td>1.000</td>\n",
              "      <td>0.000</td>\n",
              "    </tr>\n",
              "    <tr>\n",
              "      <th>4</th>\n",
              "      <td>1.0</td>\n",
              "      <td>7.000</td>\n",
              "      <td>0.000</td>\n",
              "    </tr>\n",
              "    <tr>\n",
              "      <th>5</th>\n",
              "      <td>1.0</td>\n",
              "      <td>1.000</td>\n",
              "      <td>0.000</td>\n",
              "    </tr>\n",
              "    <tr>\n",
              "      <th>6</th>\n",
              "      <td>1.0</td>\n",
              "      <td>9.000</td>\n",
              "      <td>5.636</td>\n",
              "    </tr>\n",
              "    <tr>\n",
              "      <th>7</th>\n",
              "      <td>1.0</td>\n",
              "      <td>3.151</td>\n",
              "      <td>0.000</td>\n",
              "    </tr>\n",
              "    <tr>\n",
              "      <th>8</th>\n",
              "      <td>1.0</td>\n",
              "      <td>20.000</td>\n",
              "      <td>0.000</td>\n",
              "    </tr>\n",
              "    <tr>\n",
              "      <th>9</th>\n",
              "      <td>1.0</td>\n",
              "      <td>6.000</td>\n",
              "      <td>0.000</td>\n",
              "    </tr>\n",
              "  </tbody>\n",
              "</table>\n",
              "</div>"
            ],
            "text/plain": [
              "   const  Casos_Confirmados  Casos_Suspeitos\n",
              "0    1.0              3.351            0.000\n",
              "1    1.0              1.000            0.000\n",
              "2    1.0              8.704            5.131\n",
              "3    1.0              1.000            0.000\n",
              "4    1.0              7.000            0.000\n",
              "5    1.0              1.000            0.000\n",
              "6    1.0              9.000            5.636\n",
              "7    1.0              3.151            0.000\n",
              "8    1.0             20.000            0.000\n",
              "9    1.0              6.000            0.000"
            ]
          },
          "metadata": {
            "tags": []
          },
          "execution_count": 151
        }
      ]
    },
    {
      "cell_type": "code",
      "metadata": {
        "id": "suPL4EBEDcqP",
        "colab_type": "code",
        "colab": {}
      },
      "source": [
        ""
      ],
      "execution_count": 0,
      "outputs": []
    },
    {
      "cell_type": "code",
      "metadata": {
        "id": "YIFJ_MiKCyAf",
        "colab_type": "code",
        "outputId": "f960da67-3535-4bfc-ebfe-06cda720b0cb",
        "colab": {
          "base_uri": "https://localhost:8080/",
          "height": 499
        }
      },
      "source": [
        "rl1 = sm.OLS(Ebola['Mortes_Confirmadas'] , confirmados1_suspeitos1).fit()\n",
        "rl1.summary()\n"
      ],
      "execution_count": 0,
      "outputs": [
        {
          "output_type": "stream",
          "text": [
            "/usr/local/lib/python3.6/dist-packages/scipy/stats/stats.py:1535: UserWarning: kurtosistest only valid for n>=20 ... continuing anyway, n=10\n",
            "  \"anyway, n=%i\" % int(n))\n"
          ],
          "name": "stderr"
        },
        {
          "output_type": "execute_result",
          "data": {
            "text/html": [
              "<table class=\"simpletable\">\n",
              "<caption>OLS Regression Results</caption>\n",
              "<tr>\n",
              "  <th>Dep. Variable:</th>    <td>Mortes_Confirmadas</td> <th>  R-squared:         </th> <td>   0.856</td>\n",
              "</tr>\n",
              "<tr>\n",
              "  <th>Model:</th>                    <td>OLS</td>        <th>  Adj. R-squared:    </th> <td>   0.815</td>\n",
              "</tr>\n",
              "<tr>\n",
              "  <th>Method:</th>              <td>Least Squares</td>   <th>  F-statistic:       </th> <td>   20.81</td>\n",
              "</tr>\n",
              "<tr>\n",
              "  <th>Date:</th>              <td>Mon, 06 Apr 2020</td>  <th>  Prob (F-statistic):</th>  <td>0.00113</td>\n",
              "</tr>\n",
              "<tr>\n",
              "  <th>Time:</th>                  <td>01:11:21</td>      <th>  Log-Likelihood:    </th> <td> -12.340</td>\n",
              "</tr>\n",
              "<tr>\n",
              "  <th>No. Observations:</th>       <td>    10</td>       <th>  AIC:               </th> <td>   30.68</td>\n",
              "</tr>\n",
              "<tr>\n",
              "  <th>Df Residuals:</th>           <td>     7</td>       <th>  BIC:               </th> <td>   31.59</td>\n",
              "</tr>\n",
              "<tr>\n",
              "  <th>Df Model:</th>               <td>     2</td>       <th>                     </th>     <td> </td>   \n",
              "</tr>\n",
              "<tr>\n",
              "  <th>Covariance Type:</th>       <td>nonrobust</td>     <th>                     </th>     <td> </td>   \n",
              "</tr>\n",
              "</table>\n",
              "<table class=\"simpletable\">\n",
              "<tr>\n",
              "          <td></td>             <th>coef</th>     <th>std err</th>      <th>t</th>      <th>P>|t|</th>  <th>[0.025</th>    <th>0.975]</th>  \n",
              "</tr>\n",
              "<tr>\n",
              "  <th>const</th>             <td>   -0.4873</td> <td>    0.471</td> <td>   -1.035</td> <td> 0.335</td> <td>   -1.600</td> <td>    0.626</td>\n",
              "</tr>\n",
              "<tr>\n",
              "  <th>Casos_Confirmados</th> <td>    0.3533</td> <td>    0.059</td> <td>    5.987</td> <td> 0.001</td> <td>    0.214</td> <td>    0.493</td>\n",
              "</tr>\n",
              "<tr>\n",
              "  <th>Casos_Suspeitos</th>   <td>    0.1182</td> <td>    0.151</td> <td>    0.784</td> <td> 0.459</td> <td>   -0.238</td> <td>    0.475</td>\n",
              "</tr>\n",
              "</table>\n",
              "<table class=\"simpletable\">\n",
              "<tr>\n",
              "  <th>Omnibus:</th>       <td> 5.812</td> <th>  Durbin-Watson:     </th> <td>   1.752</td>\n",
              "</tr>\n",
              "<tr>\n",
              "  <th>Prob(Omnibus):</th> <td> 0.055</td> <th>  Jarque-Bera (JB):  </th> <td>   1.893</td>\n",
              "</tr>\n",
              "<tr>\n",
              "  <th>Skew:</th>          <td>-0.917</td> <th>  Prob(JB):          </th> <td>   0.388</td>\n",
              "</tr>\n",
              "<tr>\n",
              "  <th>Kurtosis:</th>      <td> 4.085</td> <th>  Cond. No.          </th> <td>    12.5</td>\n",
              "</tr>\n",
              "</table><br/><br/>Warnings:<br/>[1] Standard Errors assume that the covariance matrix of the errors is correctly specified."
            ],
            "text/plain": [
              "<class 'statsmodels.iolib.summary.Summary'>\n",
              "\"\"\"\n",
              "                            OLS Regression Results                            \n",
              "==============================================================================\n",
              "Dep. Variable:     Mortes_Confirmadas   R-squared:                       0.856\n",
              "Model:                            OLS   Adj. R-squared:                  0.815\n",
              "Method:                 Least Squares   F-statistic:                     20.81\n",
              "Date:                Mon, 06 Apr 2020   Prob (F-statistic):            0.00113\n",
              "Time:                        01:11:21   Log-Likelihood:                -12.340\n",
              "No. Observations:                  10   AIC:                             30.68\n",
              "Df Residuals:                       7   BIC:                             31.59\n",
              "Df Model:                           2                                         \n",
              "Covariance Type:            nonrobust                                         \n",
              "=====================================================================================\n",
              "                        coef    std err          t      P>|t|      [0.025      0.975]\n",
              "-------------------------------------------------------------------------------------\n",
              "const                -0.4873      0.471     -1.035      0.335      -1.600       0.626\n",
              "Casos_Confirmados     0.3533      0.059      5.987      0.001       0.214       0.493\n",
              "Casos_Suspeitos       0.1182      0.151      0.784      0.459      -0.238       0.475\n",
              "==============================================================================\n",
              "Omnibus:                        5.812   Durbin-Watson:                   1.752\n",
              "Prob(Omnibus):                  0.055   Jarque-Bera (JB):                1.893\n",
              "Skew:                          -0.917   Prob(JB):                        0.388\n",
              "Kurtosis:                       4.085   Cond. No.                         12.5\n",
              "==============================================================================\n",
              "\n",
              "Warnings:\n",
              "[1] Standard Errors assume that the covariance matrix of the errors is correctly specified.\n",
              "\"\"\""
            ]
          },
          "metadata": {
            "tags": []
          },
          "execution_count": 149
        }
      ]
    },
    {
      "cell_type": "markdown",
      "metadata": {
        "id": "6PqNRS8ZD-1i",
        "colab_type": "text"
      },
      "source": [
        "Acima podemos ver mais detalhes da regessão e mais uma vez confirmar que todo o cálculo esta assertivo. Podemos dizer as variáveis são dependente. "
      ]
    },
    {
      "cell_type": "code",
      "metadata": {
        "id": "59IusrAMD179",
        "colab_type": "code",
        "outputId": "60c2bc1d-9b27-4aec-85da-845549a9e981",
        "colab": {
          "base_uri": "https://localhost:8080/",
          "height": 386
        }
      },
      "source": [
        "sns.lmplot('Casos_Suspeitos' , 'Mortes_Confirmadas' , data=Ebola)"
      ],
      "execution_count": 0,
      "outputs": [
        {
          "output_type": "execute_result",
          "data": {
            "text/plain": [
              "<seaborn.axisgrid.FacetGrid at 0x7ffa23650f98>"
            ]
          },
          "metadata": {
            "tags": []
          },
          "execution_count": 152
        },
        {
          "output_type": "display_data",
          "data": {
            "image/png": "[encoded data removed]",
            "text/plain": [
              "<Figure size 360x360 with 1 Axes>"
            ]
          },
          "metadata": {
            "tags": []
          }
        }
      ]
    },
    {
      "cell_type": "code",
      "metadata": {
        "id": "WrsNvWHLEqPL",
        "colab_type": "code",
        "outputId": "2166c427-9ae7-4107-be15-c9dc21d35785",
        "colab": {
          "base_uri": "https://localhost:8080/",
          "height": 173
        }
      },
      "source": [
        "Ebola.corr()"
      ],
      "execution_count": 0,
      "outputs": [
        {
          "output_type": "execute_result",
          "data": {
            "text/html": [
              "<div>\n",
              "<style scoped>\n",
              "    .dataframe tbody tr th:only-of-type {\n",
              "        vertical-align: middle;\n",
              "    }\n",
              "\n",
              "    .dataframe tbody tr th {\n",
              "        vertical-align: top;\n",
              "    }\n",
              "\n",
              "    .dataframe thead th {\n",
              "        text-align: right;\n",
              "    }\n",
              "</style>\n",
              "<table border=\"1\" class=\"dataframe\">\n",
              "  <thead>\n",
              "    <tr style=\"text-align: right;\">\n",
              "      <th></th>\n",
              "      <th>Ano</th>\n",
              "      <th>Casos_Confirmados</th>\n",
              "      <th>Mortes_Confirmadas</th>\n",
              "      <th>Casos_Suspeitos</th>\n",
              "    </tr>\n",
              "  </thead>\n",
              "  <tbody>\n",
              "    <tr>\n",
              "      <th>Ano</th>\n",
              "      <td>NaN</td>\n",
              "      <td>NaN</td>\n",
              "      <td>NaN</td>\n",
              "      <td>NaN</td>\n",
              "    </tr>\n",
              "    <tr>\n",
              "      <th>Casos_Confirmados</th>\n",
              "      <td>NaN</td>\n",
              "      <td>1.000000</td>\n",
              "      <td>0.918368</td>\n",
              "      <td>0.257277</td>\n",
              "    </tr>\n",
              "    <tr>\n",
              "      <th>Mortes_Confirmadas</th>\n",
              "      <td>NaN</td>\n",
              "      <td>0.918368</td>\n",
              "      <td>1.000000</td>\n",
              "      <td>0.344967</td>\n",
              "    </tr>\n",
              "    <tr>\n",
              "      <th>Casos_Suspeitos</th>\n",
              "      <td>NaN</td>\n",
              "      <td>0.257277</td>\n",
              "      <td>0.344967</td>\n",
              "      <td>1.000000</td>\n",
              "    </tr>\n",
              "  </tbody>\n",
              "</table>\n",
              "</div>"
            ],
            "text/plain": [
              "                    Ano  Casos_Confirmados  Mortes_Confirmadas  Casos_Suspeitos\n",
              "Ano                 NaN                NaN                 NaN              NaN\n",
              "Casos_Confirmados   NaN           1.000000            0.918368         0.257277\n",
              "Mortes_Confirmadas  NaN           0.918368            1.000000         0.344967\n",
              "Casos_Suspeitos     NaN           0.257277            0.344967         1.000000"
            ]
          },
          "metadata": {
            "tags": []
          },
          "execution_count": 156
        }
      ]
    },
    {
      "cell_type": "code",
      "metadata": {
        "id": "RYzvq7M2EzD5",
        "colab_type": "code",
        "outputId": "aafdb947-9fde-4f89-c3a5-376b80872592",
        "colab": {
          "base_uri": "https://localhost:8080/",
          "height": 764
        }
      },
      "source": [
        "sns.pairplot(Ebola)"
      ],
      "execution_count": 0,
      "outputs": [
        {
          "output_type": "execute_result",
          "data": {
            "text/plain": [
              "<seaborn.axisgrid.PairGrid at 0x7ffa2d600160>"
            ]
          },
          "metadata": {
            "tags": []
          },
          "execution_count": 154
        },
        {
          "output_type": "display_data",
          "data": {
            "image/png": "[encoded data removed]",
            "text/plain": [
              "<Figure size 720x720 with 20 Axes>"
            ]
          },
          "metadata": {
            "tags": []
          }
        }
      ]
    }
  ]
}