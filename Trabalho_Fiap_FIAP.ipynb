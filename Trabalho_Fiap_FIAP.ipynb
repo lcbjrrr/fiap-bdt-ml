{
  "nbformat": 4,
  "nbformat_minor": 0,
  "metadata": {
    "colab": {
      "name": "Trabalho_Fiap.ipynb",
      "provenance": [],
      "collapsed_sections": []
    },
    "kernelspec": {
      "name": "python3",
      "display_name": "Python 3"
    }
  },
  "cells": [
    {
      "cell_type": "markdown",
      "metadata": {
        "id": "RH-CRhq5UCs3",
        "colab_type": "text"
      },
      "source": [
        "#COVID-19  \n",
        "\n",
        "\n",
        "---\n",
        "\n",
        "\n",
        "A **COVID-19** é uma doença respiratória causada pelo vírus **SARS-CoV-2** e apresenta como principais sintomas febre, tosse seca e dificuldade respiratória. Essa doença pode iniciar como um simples resfriado, mas pode se agravar e levar à morte. Os primeiros casos surgiram na China, no final de 2019. Em seguida, espalhou-se para diversos outros países, o que levou a Organização Mundial de Saúde a decretar, no dia 11 de março de 2020, estado de pandemia.\n",
        "\n",
        "Essa doença é transmitida, principalmente, de uma pessoa para outra por meio das gotículas respiratórias. Além disso, ao tossir ou espirrar, o doente pode contaminar objetos. Uma pessoa pode infectar-se ao tocar objetos contaminados e levar a mão à boca, nariz e olhos sem antes higienizá-la. Dentre as medidas para prevenir o contágio e evitar a disseminação da doença, podemos citar a importância de se higienizar a mão frequentemente com água e sabão ou álcool em gel 70%, além de evitar aglomerações."
      ]
    },
    {
      "cell_type": "markdown",
      "metadata": {
        "id": "f2qw_LnP80-i",
        "colab_type": "text"
      },
      "source": [
        "#Configuração\n",
        "É configurado o diretorio do dataset e realiza os import das bibiotecas que iremos trabalhar ate o final desse notebook\n",
        "\n",
        "O dataSet original pode ser obtido no [Kaggle](https://www.kaggle.com/c/covid19-global-forecasting-week-2/data)\n",
        "\n",
        "```\n",
        "# Tipos \n",
        "Regressão Linear\n",
        "Classificadores - KNN\n",
        "Classificadores - Bayes e Arv.Decisão\n",
        "Associação - Apriori\n",
        "Clusters - KMeans\n",
        "Redes Neurais\n",
        "```"
      ]
    },
    {
      "cell_type": "code",
      "metadata": {
        "id": "eCVZRdWz8rzW",
        "colab_type": "code",
        "outputId": "83b29b1f-8f3e-41f0-f1e6-2c6096d87bee",
        "colab": {
          "base_uri": "https://localhost:8080/",
          "height": 124
        }
      },
      "source": [
        "from google.colab import drive\n",
        "drive.mount('/content/drive')"
      ],
      "execution_count": 0,
      "outputs": [
        {
          "output_type": "stream",
          "text": [
            "Go to this URL in a browser: https://accounts.google.com/o/oauth2/auth?client_id=947318989803-6bn6qk8qdgf4n4g3pfee6491hc0brc4i.apps.googleusercontent.com&redirect_uri=urn%3aietf%3awg%3aoauth%3a2.0%3aoob&response_type=code&scope=email%20https%3a%2f%2fwww.googleapis.com%2fauth%2fdocs.test%20https%3a%2f%2fwww.googleapis.com%2fauth%2fdrive%20https%3a%2f%2fwww.googleapis.com%2fauth%2fdrive.photos.readonly%20https%3a%2f%2fwww.googleapis.com%2fauth%2fpeopleapi.readonly\n",
            "\n",
            "Enter your authorization code:\n",
            "··········\n",
            "Mounted at /content/drive\n"
          ],
          "name": "stdout"
        }
      ]
    },
    {
      "cell_type": "markdown",
      "metadata": {
        "id": "wPeV2cNg9ZB9",
        "colab_type": "text"
      },
      "source": [
        "#Bibliotecas Utilizadas"
      ]
    },
    {
      "cell_type": "markdown",
      "metadata": {
        "id": "CmktT6pN-M1h",
        "colab_type": "text"
      },
      "source": [
        "**Pandas**\n",
        "> is a software library written for the Python programming language for data manipulation and analysis. In particular, it offers data structures and operations for manipulating numerical tables and time series"
      ]
    },
    {
      "cell_type": "code",
      "metadata": {
        "id": "gIlQ0Fra9d5M",
        "colab_type": "code",
        "colab": {}
      },
      "source": [
        "import pandas as pd"
      ],
      "execution_count": 0,
      "outputs": []
    },
    {
      "cell_type": "markdown",
      "metadata": {
        "id": "mHnwYH-vAcMx",
        "colab_type": "text"
      },
      "source": [
        "**Seaborn**\n",
        "> Seaborn is a Python data visualization library based on matplotlib. It provides a high-level interface for drawing attractive and informative statistical graphics"
      ]
    },
    {
      "cell_type": "code",
      "metadata": {
        "id": "x9iaWbCbAXyg",
        "colab_type": "code",
        "colab": {}
      },
      "source": [
        "import seaborn as sns"
      ],
      "execution_count": 0,
      "outputs": []
    },
    {
      "cell_type": "markdown",
      "metadata": {
        "id": "GdFqt9-w-_6f",
        "colab_type": "text"
      },
      "source": [
        "**Numpy**\n",
        "> is a library for the Python programming language, adding support for large, multi-dimensional arrays and matrices, along with a large collection of high-level mathematical functions to operate on these arrays"
      ]
    },
    {
      "cell_type": "code",
      "metadata": {
        "id": "vuj_hg07-EN3",
        "colab_type": "code",
        "colab": {}
      },
      "source": [
        "import numpy as np"
      ],
      "execution_count": 0,
      "outputs": []
    },
    {
      "cell_type": "markdown",
      "metadata": {
        "id": "VpKh_y8k_EjG",
        "colab_type": "text"
      },
      "source": [
        "**Sklearn**\n",
        ">Scikit-learn (formerly scikits.learn and also known as sklearn) is a free software machine learning library for the Python programming language.*It* features various classification, regression and clustering algorithms including support vector machines, random forests, gradient boosting, k-means and DBSCAN"
      ]
    },
    {
      "cell_type": "code",
      "metadata": {
        "id": "WKgrPYRB-Hvh",
        "colab_type": "code",
        "colab": {}
      },
      "source": [
        "from sklearn.linear_model import LinearRegression\n",
        "from sklearn import metrics\n",
        "from sklearn.cluster import KMeans"
      ],
      "execution_count": 0,
      "outputs": []
    },
    {
      "cell_type": "markdown",
      "metadata": {
        "id": "wzFtkAsv_MIi",
        "colab_type": "text"
      },
      "source": [
        "**TensorFlow**\n",
        ">TensorFlow is a free and open-source software library for dataflow and differentiable programming across a range of tasks. It is a symbolic math library, and is also used for machine learning applications such as neural networks.It is used for both research and production at Google\n",
        "\n",
        "---\n",
        "\n",
        "\n",
        "\n",
        "**Keras**\n",
        "> keras is an open-source neural-network library written in Python. It is capable of running on top of TensorFlow, Microsoft Cognitive Toolkit, R, Theano, or PlaidML. Designed to enable fast experimentation with deep neural networks, it focuses on being user-friendly, modular, and extensible"
      ]
    },
    {
      "cell_type": "code",
      "metadata": {
        "id": "1NKW8IQJ-KAH",
        "colab_type": "code",
        "colab": {}
      },
      "source": [
        "import tensorflow \n",
        "from tensorflow import  keras\n",
        "from datetime import datetime\n",
        "import statsmodels.api as sm"
      ],
      "execution_count": 0,
      "outputs": []
    },
    {
      "cell_type": "markdown",
      "metadata": {
        "id": "Kmr0rys-AMDT",
        "colab_type": "text"
      },
      "source": [
        "#Regressão Linear - OK"
      ]
    },
    {
      "cell_type": "code",
      "metadata": {
        "id": "rrTChsZJFdnZ",
        "colab_type": "code",
        "outputId": "91bdb16d-6f85-4e04-92b7-438b830e720e",
        "colab": {
          "base_uri": "https://localhost:8080/",
          "height": 202
        }
      },
      "source": [
        "treino =pd.read_csv('/content/drive/My Drive/Proj/trabalho/treino.csv')\n",
        "teste =pd.read_csv('/content/drive/My Drive/Proj/trabalho/teste.csv')\n",
        "treino.head(5)"
      ],
      "execution_count": 0,
      "outputs": [
        {
          "output_type": "execute_result",
          "data": {
            "text/html": [
              "<div>\n",
              "<style scoped>\n",
              "    .dataframe tbody tr th:only-of-type {\n",
              "        vertical-align: middle;\n",
              "    }\n",
              "\n",
              "    .dataframe tbody tr th {\n",
              "        vertical-align: top;\n",
              "    }\n",
              "\n",
              "    .dataframe thead th {\n",
              "        text-align: right;\n",
              "    }\n",
              "</style>\n",
              "<table border=\"1\" class=\"dataframe\">\n",
              "  <thead>\n",
              "    <tr style=\"text-align: right;\">\n",
              "      <th></th>\n",
              "      <th>Id</th>\n",
              "      <th>Province_State</th>\n",
              "      <th>Country_Region</th>\n",
              "      <th>Date</th>\n",
              "      <th>ConfirmedCases</th>\n",
              "      <th>Fatalities</th>\n",
              "    </tr>\n",
              "  </thead>\n",
              "  <tbody>\n",
              "    <tr>\n",
              "      <th>0</th>\n",
              "      <td>1</td>\n",
              "      <td>NaN</td>\n",
              "      <td>Afghanistan</td>\n",
              "      <td>2020-01-22</td>\n",
              "      <td>0.0</td>\n",
              "      <td>0.0</td>\n",
              "    </tr>\n",
              "    <tr>\n",
              "      <th>1</th>\n",
              "      <td>2</td>\n",
              "      <td>NaN</td>\n",
              "      <td>Afghanistan</td>\n",
              "      <td>2020-01-23</td>\n",
              "      <td>0.0</td>\n",
              "      <td>0.0</td>\n",
              "    </tr>\n",
              "    <tr>\n",
              "      <th>2</th>\n",
              "      <td>3</td>\n",
              "      <td>NaN</td>\n",
              "      <td>Afghanistan</td>\n",
              "      <td>2020-01-24</td>\n",
              "      <td>0.0</td>\n",
              "      <td>0.0</td>\n",
              "    </tr>\n",
              "    <tr>\n",
              "      <th>3</th>\n",
              "      <td>4</td>\n",
              "      <td>NaN</td>\n",
              "      <td>Afghanistan</td>\n",
              "      <td>2020-01-25</td>\n",
              "      <td>0.0</td>\n",
              "      <td>0.0</td>\n",
              "    </tr>\n",
              "    <tr>\n",
              "      <th>4</th>\n",
              "      <td>5</td>\n",
              "      <td>NaN</td>\n",
              "      <td>Afghanistan</td>\n",
              "      <td>2020-01-26</td>\n",
              "      <td>0.0</td>\n",
              "      <td>0.0</td>\n",
              "    </tr>\n",
              "  </tbody>\n",
              "</table>\n",
              "</div>"
            ],
            "text/plain": [
              "   Id Province_State Country_Region        Date  ConfirmedCases  Fatalities\n",
              "0   1            NaN    Afghanistan  2020-01-22             0.0         0.0\n",
              "1   2            NaN    Afghanistan  2020-01-23             0.0         0.0\n",
              "2   3            NaN    Afghanistan  2020-01-24             0.0         0.0\n",
              "3   4            NaN    Afghanistan  2020-01-25             0.0         0.0\n",
              "4   5            NaN    Afghanistan  2020-01-26             0.0         0.0"
            ]
          },
          "metadata": {
            "tags": []
          },
          "execution_count": 7
        }
      ]
    },
    {
      "cell_type": "markdown",
      "metadata": {
        "id": "YgCuKGdPU_aT",
        "colab_type": "text"
      },
      "source": [
        "Iremos transformar nosso modelo apenas para nivel Brasil"
      ]
    },
    {
      "cell_type": "code",
      "metadata": {
        "id": "TNWHdFwmKDbo",
        "colab_type": "code",
        "outputId": "8d0b8107-ab07-4b8f-ceb9-8ad367b9af8c",
        "colab": {
          "base_uri": "https://localhost:8080/",
          "height": 141
        }
      },
      "source": [
        "treino_br=treino.loc[treino['Country_Region'] == 'Brazil'].copy()\n",
        "teste_br=teste.loc[teste['Country_Region'] == 'Brazil'].copy()\n",
        "treino_br['Date'] = pd.to_datetime(treino_br['Date'])\n",
        "teste_br['Date'] = pd.to_datetime(teste_br['Date'])\n",
        "treino_br.tail(3)"
      ],
      "execution_count": 0,
      "outputs": [
        {
          "output_type": "execute_result",
          "data": {
            "text/html": [
              "<div>\n",
              "<style scoped>\n",
              "    .dataframe tbody tr th:only-of-type {\n",
              "        vertical-align: middle;\n",
              "    }\n",
              "\n",
              "    .dataframe tbody tr th {\n",
              "        vertical-align: top;\n",
              "    }\n",
              "\n",
              "    .dataframe thead th {\n",
              "        text-align: right;\n",
              "    }\n",
              "</style>\n",
              "<table border=\"1\" class=\"dataframe\">\n",
              "  <thead>\n",
              "    <tr style=\"text-align: right;\">\n",
              "      <th></th>\n",
              "      <th>Id</th>\n",
              "      <th>Province_State</th>\n",
              "      <th>Country_Region</th>\n",
              "      <th>Date</th>\n",
              "      <th>ConfirmedCases</th>\n",
              "      <th>Fatalities</th>\n",
              "    </tr>\n",
              "  </thead>\n",
              "  <tbody>\n",
              "    <tr>\n",
              "      <th>2007</th>\n",
              "      <td>2965</td>\n",
              "      <td>NaN</td>\n",
              "      <td>Brazil</td>\n",
              "      <td>2020-03-26</td>\n",
              "      <td>2985.0</td>\n",
              "      <td>77.0</td>\n",
              "    </tr>\n",
              "    <tr>\n",
              "      <th>2008</th>\n",
              "      <td>2966</td>\n",
              "      <td>NaN</td>\n",
              "      <td>Brazil</td>\n",
              "      <td>2020-03-27</td>\n",
              "      <td>3417.0</td>\n",
              "      <td>92.0</td>\n",
              "    </tr>\n",
              "    <tr>\n",
              "      <th>2009</th>\n",
              "      <td>2967</td>\n",
              "      <td>NaN</td>\n",
              "      <td>Brazil</td>\n",
              "      <td>2020-03-28</td>\n",
              "      <td>3904.0</td>\n",
              "      <td>111.0</td>\n",
              "    </tr>\n",
              "  </tbody>\n",
              "</table>\n",
              "</div>"
            ],
            "text/plain": [
              "        Id Province_State Country_Region       Date  ConfirmedCases  Fatalities\n",
              "2007  2965            NaN         Brazil 2020-03-26          2985.0        77.0\n",
              "2008  2966            NaN         Brazil 2020-03-27          3417.0        92.0\n",
              "2009  2967            NaN         Brazil 2020-03-28          3904.0       111.0"
            ]
          },
          "metadata": {
            "tags": []
          },
          "execution_count": 8
        }
      ]
    },
    {
      "cell_type": "markdown",
      "metadata": {
        "id": "ji0qJzzRBaWC",
        "colab_type": "text"
      },
      "source": [
        "Estou utilizando  a variavel \"ConfirmedCases\" para treinar para o numero de fatalidades"
      ]
    },
    {
      "cell_type": "code",
      "metadata": {
        "id": "xTEFdU6YwIRH",
        "colab_type": "code",
        "outputId": "2e39cac7-ad21-4963-e37e-54824340c6e7",
        "colab": {
          "base_uri": "https://localhost:8080/",
          "height": 34
        }
      },
      "source": [
        "reglin = LinearRegression ()\n",
        "reglin.fit(treino_br[['ConfirmedCases']], treino_br ['Fatalities'])\n",
        "print(reglin.coef_ ,  reglin.intercept_)"
      ],
      "execution_count": 0,
      "outputs": [
        {
          "output_type": "stream",
          "text": [
            "[0.02490991] -1.23083329561977\n"
          ],
          "name": "stdout"
        }
      ]
    },
    {
      "cell_type": "markdown",
      "metadata": {
        "id": "6KOzFOP0Bq_5",
        "colab_type": "text"
      },
      "source": [
        "Irei Criar um novo dataFrame com uma quantidade mais alta de casos confirmados, sendo assim auxiliaria a medição e a correlação entre as variaveis acompanhando o crescimento da fatalidade"
      ]
    },
    {
      "cell_type": "code",
      "metadata": {
        "id": "zewmwcGj3Pkc",
        "colab_type": "code",
        "outputId": "f20304bc-02f1-4147-ac3e-fe0b68f83eb7",
        "colab": {
          "base_uri": "https://localhost:8080/",
          "height": 34
        }
      },
      "source": [
        "fatalidades = pd.DataFrame ({\n",
        "    'ConfirmedCases' : [4000,10000,50000],\n",
        "})\n",
        "predict = reglin.predict(fatalidades)\n",
        "predict"
      ],
      "execution_count": 0,
      "outputs": [
        {
          "output_type": "execute_result",
          "data": {
            "text/plain": [
              "array([  98.40881787,  247.86829461, 1244.26480622])"
            ]
          },
          "metadata": {
            "tags": []
          },
          "execution_count": 10
        }
      ]
    },
    {
      "cell_type": "code",
      "metadata": {
        "id": "XZ-EV2Wl35A7",
        "colab_type": "code",
        "colab": {}
      },
      "source": [
        "r2 =  reglin.score(treino_br[['ConfirmedCases']],treino_br['Fatalities'])\n",
        "r2"
      ],
      "execution_count": 0,
      "outputs": []
    },
    {
      "cell_type": "markdown",
      "metadata": {
        "id": "lPcKFrISCVgT",
        "colab_type": "text"
      },
      "source": [
        "Obtenho o coeficiente de determinação **(R2²)**  "
      ]
    },
    {
      "cell_type": "code",
      "metadata": {
        "id": "8V20imQr4Sl_",
        "colab_type": "code",
        "outputId": "cfea6da3-95cc-4cc4-efa4-a41444b0e841",
        "colab": {
          "base_uri": "https://localhost:8080/",
          "height": 34
        }
      },
      "source": [
        "fat_prev = reglin.predict( treino_br[['ConfirmedCases']])\n",
        "rr = metrics.r2_score(treino_br['Fatalities'], fat_prev)\n",
        "rr "
      ],
      "execution_count": 0,
      "outputs": [
        {
          "output_type": "execute_result",
          "data": {
            "text/plain": [
              "0.9653390109110631"
            ]
          },
          "metadata": {
            "tags": []
          },
          "execution_count": 12
        }
      ]
    },
    {
      "cell_type": "code",
      "metadata": {
        "id": "VFyhvKql4qOE",
        "colab_type": "code",
        "outputId": "dae72c5a-1f62-4d1a-a0a3-0604332536ab",
        "colab": {
          "base_uri": "https://localhost:8080/",
          "height": 34
        }
      },
      "source": [
        "err_quad =  metrics.mean_squared_error (treino_br['Fatalities'], fat_prev)\n",
        "err_quad"
      ],
      "execution_count": 0,
      "outputs": [
        {
          "output_type": "execute_result",
          "data": {
            "text/plain": [
              "16.06055420197888"
            ]
          },
          "metadata": {
            "tags": []
          },
          "execution_count": 13
        }
      ]
    },
    {
      "cell_type": "markdown",
      "metadata": {
        "id": "K7V6zybGC-kO",
        "colab_type": "text"
      },
      "source": [
        "Perda de regressão ao erro quadrático médio"
      ]
    },
    {
      "cell_type": "code",
      "metadata": {
        "id": "AW--iAQG4zsz",
        "colab_type": "code",
        "outputId": "92948bdb-1396-4c08-dfd9-701c4dfefdd3",
        "colab": {
          "base_uri": "https://localhost:8080/",
          "height": 34
        }
      },
      "source": [
        "err = np.sqrt(err_quad)\n",
        "err"
      ],
      "execution_count": 0,
      "outputs": [
        {
          "output_type": "execute_result",
          "data": {
            "text/plain": [
              "4.0075621270267145"
            ]
          },
          "metadata": {
            "tags": []
          },
          "execution_count": 14
        }
      ]
    },
    {
      "cell_type": "code",
      "metadata": {
        "id": "r3LztSYJ44MX",
        "colab_type": "code",
        "outputId": "9c7b654b-6905-4c35-d6d0-0b213d9cf8ba",
        "colab": {
          "base_uri": "https://localhost:8080/",
          "height": 52
        }
      },
      "source": [
        "consolid = sm.add_constant(treino_br[['ConfirmedCases']])"
      ],
      "execution_count": 0,
      "outputs": [
        {
          "output_type": "stream",
          "text": [
            "/usr/local/lib/python3.6/dist-packages/numpy/core/fromnumeric.py:2542: FutureWarning: Method .ptp is deprecated and will be removed in a future version. Use numpy.ptp instead.\n",
            "  return ptp(axis=axis, out=out, **kwargs)\n"
          ],
          "name": "stderr"
        }
      ]
    },
    {
      "cell_type": "code",
      "metadata": {
        "id": "yf2-7Rr15Duy",
        "colab_type": "code",
        "outputId": "096cc29c-1878-4129-a6b5-b85fc379e6b7",
        "colab": {
          "base_uri": "https://localhost:8080/",
          "height": 406
        }
      },
      "source": [
        "rl = sm.OLS(treino_br['Fatalities'], consolid).fit()\n",
        "rl.summary()"
      ],
      "execution_count": 0,
      "outputs": [
        {
          "output_type": "execute_result",
          "data": {
            "text/html": [
              "<table class=\"simpletable\">\n",
              "<caption>OLS Regression Results</caption>\n",
              "<tr>\n",
              "  <th>Dep. Variable:</th>       <td>Fatalities</td>    <th>  R-squared:         </th> <td>   0.965</td>\n",
              "</tr>\n",
              "<tr>\n",
              "  <th>Model:</th>                   <td>OLS</td>       <th>  Adj. R-squared:    </th> <td>   0.965</td>\n",
              "</tr>\n",
              "<tr>\n",
              "  <th>Method:</th>             <td>Least Squares</td>  <th>  F-statistic:       </th> <td>   1810.</td>\n",
              "</tr>\n",
              "<tr>\n",
              "  <th>Date:</th>             <td>Tue, 31 Mar 2020</td> <th>  Prob (F-statistic):</th> <td>3.52e-49</td>\n",
              "</tr>\n",
              "<tr>\n",
              "  <th>Time:</th>                 <td>12:08:47</td>     <th>  Log-Likelihood:    </th> <td> -188.08</td>\n",
              "</tr>\n",
              "<tr>\n",
              "  <th>No. Observations:</th>      <td>    67</td>      <th>  AIC:               </th> <td>   380.2</td>\n",
              "</tr>\n",
              "<tr>\n",
              "  <th>Df Residuals:</th>          <td>    65</td>      <th>  BIC:               </th> <td>   384.6</td>\n",
              "</tr>\n",
              "<tr>\n",
              "  <th>Df Model:</th>              <td>     1</td>      <th>                     </th>     <td> </td>   \n",
              "</tr>\n",
              "<tr>\n",
              "  <th>Covariance Type:</th>      <td>nonrobust</td>    <th>                     </th>     <td> </td>   \n",
              "</tr>\n",
              "</table>\n",
              "<table class=\"simpletable\">\n",
              "<tr>\n",
              "         <td></td>           <th>coef</th>     <th>std err</th>      <th>t</th>      <th>P>|t|</th>  <th>[0.025</th>    <th>0.975]</th>  \n",
              "</tr>\n",
              "<tr>\n",
              "  <th>const</th>          <td>   -1.2308</td> <td>    0.535</td> <td>   -2.301</td> <td> 0.025</td> <td>   -2.299</td> <td>   -0.163</td>\n",
              "</tr>\n",
              "<tr>\n",
              "  <th>ConfirmedCases</th> <td>    0.0249</td> <td>    0.001</td> <td>   42.548</td> <td> 0.000</td> <td>    0.024</td> <td>    0.026</td>\n",
              "</tr>\n",
              "</table>\n",
              "<table class=\"simpletable\">\n",
              "<tr>\n",
              "  <th>Omnibus:</th>       <td>18.275</td> <th>  Durbin-Watson:     </th> <td>   0.183</td>\n",
              "</tr>\n",
              "<tr>\n",
              "  <th>Prob(Omnibus):</th> <td> 0.000</td> <th>  Jarque-Bera (JB):  </th> <td>  57.092</td>\n",
              "</tr>\n",
              "<tr>\n",
              "  <th>Skew:</th>          <td>-0.640</td> <th>  Prob(JB):          </th> <td>4.01e-13</td>\n",
              "</tr>\n",
              "<tr>\n",
              "  <th>Kurtosis:</th>      <td> 7.338</td> <th>  Cond. No.          </th> <td>    983.</td>\n",
              "</tr>\n",
              "</table><br/><br/>Warnings:<br/>[1] Standard Errors assume that the covariance matrix of the errors is correctly specified."
            ],
            "text/plain": [
              "<class 'statsmodels.iolib.summary.Summary'>\n",
              "\"\"\"\n",
              "                            OLS Regression Results                            \n",
              "==============================================================================\n",
              "Dep. Variable:             Fatalities   R-squared:                       0.965\n",
              "Model:                            OLS   Adj. R-squared:                  0.965\n",
              "Method:                 Least Squares   F-statistic:                     1810.\n",
              "Date:                Tue, 31 Mar 2020   Prob (F-statistic):           3.52e-49\n",
              "Time:                        12:08:47   Log-Likelihood:                -188.08\n",
              "No. Observations:                  67   AIC:                             380.2\n",
              "Df Residuals:                      65   BIC:                             384.6\n",
              "Df Model:                           1                                         \n",
              "Covariance Type:            nonrobust                                         \n",
              "==================================================================================\n",
              "                     coef    std err          t      P>|t|      [0.025      0.975]\n",
              "----------------------------------------------------------------------------------\n",
              "const             -1.2308      0.535     -2.301      0.025      -2.299      -0.163\n",
              "ConfirmedCases     0.0249      0.001     42.548      0.000       0.024       0.026\n",
              "==============================================================================\n",
              "Omnibus:                       18.275   Durbin-Watson:                   0.183\n",
              "Prob(Omnibus):                  0.000   Jarque-Bera (JB):               57.092\n",
              "Skew:                          -0.640   Prob(JB):                     4.01e-13\n",
              "Kurtosis:                       7.338   Cond. No.                         983.\n",
              "==============================================================================\n",
              "\n",
              "Warnings:\n",
              "[1] Standard Errors assume that the covariance matrix of the errors is correctly specified.\n",
              "\"\"\""
            ]
          },
          "metadata": {
            "tags": []
          },
          "execution_count": 16
        }
      ]
    },
    {
      "cell_type": "markdown",
      "metadata": {
        "id": "3HtxH66yD2WD",
        "colab_type": "text"
      },
      "source": [
        "Iremos gerar um sumario contendo algumas  informações como R², Variavel utilizada, numero de observações e residuo."
      ]
    },
    {
      "cell_type": "code",
      "metadata": {
        "id": "ZJTiXtTA5NkS",
        "colab_type": "code",
        "outputId": "8e9d942f-b2b4-4cfc-8d4d-5dca5d8f24e6",
        "colab": {
          "base_uri": "https://localhost:8080/",
          "height": 386
        }
      },
      "source": [
        "sns.lmplot('ConfirmedCases', 'Fatalities', data= treino_br)"
      ],
      "execution_count": 0,
      "outputs": [
        {
          "output_type": "execute_result",
          "data": {
            "text/plain": [
              "<seaborn.axisgrid.FacetGrid at 0x7f5f2d028be0>"
            ]
          },
          "metadata": {
            "tags": []
          },
          "execution_count": 17
        },
        {
          "output_type": "display_data",
          "data": {
            "image/png": "[encoded data removed]",
            "text/plain": [
              "<Figure size 360x360 with 1 Axes>"
            ]
          },
          "metadata": {
            "tags": []
          }
        }
      ]
    },
    {
      "cell_type": "markdown",
      "metadata": {
        "id": "WDIYIYYZMBjb",
        "colab_type": "text"
      },
      "source": [
        "AO analizar vemos os dados se aproximando da reta depois superando  e saindo do nivel considerado."
      ]
    },
    {
      "cell_type": "code",
      "metadata": {
        "id": "aZGE5MDeEjR6",
        "colab_type": "code",
        "colab": {
          "base_uri": "https://localhost:8080/",
          "height": 141
        },
        "outputId": "e3752bc7-b6f5-4da3-e09a-2a2b7568688e"
      },
      "source": [
        "treino_br.corr()"
      ],
      "execution_count": 351,
      "outputs": [
        {
          "output_type": "execute_result",
          "data": {
            "text/html": [
              "<div>\n",
              "<style scoped>\n",
              "    .dataframe tbody tr th:only-of-type {\n",
              "        vertical-align: middle;\n",
              "    }\n",
              "\n",
              "    .dataframe tbody tr th {\n",
              "        vertical-align: top;\n",
              "    }\n",
              "\n",
              "    .dataframe thead th {\n",
              "        text-align: right;\n",
              "    }\n",
              "</style>\n",
              "<table border=\"1\" class=\"dataframe\">\n",
              "  <thead>\n",
              "    <tr style=\"text-align: right;\">\n",
              "      <th></th>\n",
              "      <th>Id</th>\n",
              "      <th>ConfirmedCases</th>\n",
              "      <th>Fatalities</th>\n",
              "    </tr>\n",
              "  </thead>\n",
              "  <tbody>\n",
              "    <tr>\n",
              "      <th>Id</th>\n",
              "      <td>1.000000</td>\n",
              "      <td>0.600874</td>\n",
              "      <td>0.524355</td>\n",
              "    </tr>\n",
              "    <tr>\n",
              "      <th>ConfirmedCases</th>\n",
              "      <td>0.600874</td>\n",
              "      <td>1.000000</td>\n",
              "      <td>0.982517</td>\n",
              "    </tr>\n",
              "    <tr>\n",
              "      <th>Fatalities</th>\n",
              "      <td>0.524355</td>\n",
              "      <td>0.982517</td>\n",
              "      <td>1.000000</td>\n",
              "    </tr>\n",
              "  </tbody>\n",
              "</table>\n",
              "</div>"
            ],
            "text/plain": [
              "                      Id  ConfirmedCases  Fatalities\n",
              "Id              1.000000        0.600874    0.524355\n",
              "ConfirmedCases  0.600874        1.000000    0.982517\n",
              "Fatalities      0.524355        0.982517    1.000000"
            ]
          },
          "metadata": {
            "tags": []
          },
          "execution_count": 351
        }
      ]
    },
    {
      "cell_type": "markdown",
      "metadata": {
        "id": "AfOPhbVwEwn8",
        "colab_type": "text"
      },
      "source": [
        "Podemos ver que as variaveis são fortemente correlacionadas"
      ]
    },
    {
      "cell_type": "code",
      "metadata": {
        "id": "AhzH332ZEoKG",
        "colab_type": "code",
        "colab": {
          "base_uri": "https://localhost:8080/",
          "height": 768
        },
        "outputId": "1ad24af1-63ff-4437-879b-9085585fe0d9"
      },
      "source": [
        "sns.pairplot(treino_br)"
      ],
      "execution_count": 352,
      "outputs": [
        {
          "output_type": "execute_result",
          "data": {
            "text/plain": [
              "<seaborn.axisgrid.PairGrid at 0x7f5f25bc2e48>"
            ]
          },
          "metadata": {
            "tags": []
          },
          "execution_count": 352
        },
        {
          "output_type": "display_data",
          "data": {
            "image/png": "[encoded data removed]",
            "text/plain": [
              "<Figure size 720x720 with 20 Axes>"
            ]
          },
          "metadata": {
            "tags": []
          }
        }
      ]
    },
    {
      "cell_type": "markdown",
      "metadata": {
        "id": "w7NooR-IgT4k",
        "colab_type": "text"
      },
      "source": [
        "#KNN - OK\n"
      ]
    },
    {
      "cell_type": "code",
      "metadata": {
        "id": "z34CeGAggWlF",
        "colab_type": "code",
        "colab": {
          "base_uri": "https://localhost:8080/",
          "height": 202
        },
        "outputId": "c39abc55-69e6-4513-b96d-7d79c1e32ede"
      },
      "source": [
        "from sklearn.neighbors import KNeighborsClassifier\n",
        "series = read_csv('/content/drive/My Drive/Proj/trabalho/treino.csv')\n",
        "base= series[series['Country_Region'] == 'Italy'].copy()\n",
        "treino= base\n",
        "teste= base\n",
        "teste=teste.drop(columns=['Fatalities'],axis=1)\n",
        "treino.head(5)"
      ],
      "execution_count": 289,
      "outputs": [
        {
          "output_type": "execute_result",
          "data": {
            "text/html": [
              "<div>\n",
              "<style scoped>\n",
              "    .dataframe tbody tr th:only-of-type {\n",
              "        vertical-align: middle;\n",
              "    }\n",
              "\n",
              "    .dataframe tbody tr th {\n",
              "        vertical-align: top;\n",
              "    }\n",
              "\n",
              "    .dataframe thead th {\n",
              "        text-align: right;\n",
              "    }\n",
              "</style>\n",
              "<table border=\"1\" class=\"dataframe\">\n",
              "  <thead>\n",
              "    <tr style=\"text-align: right;\">\n",
              "      <th></th>\n",
              "      <th>Id</th>\n",
              "      <th>Province_State</th>\n",
              "      <th>Country_Region</th>\n",
              "      <th>Date</th>\n",
              "      <th>ConfirmedCases</th>\n",
              "      <th>Fatalities</th>\n",
              "    </tr>\n",
              "  </thead>\n",
              "  <tbody>\n",
              "    <tr>\n",
              "      <th>9380</th>\n",
              "      <td>14001</td>\n",
              "      <td>NaN</td>\n",
              "      <td>Italy</td>\n",
              "      <td>2020-01-22</td>\n",
              "      <td>0.0</td>\n",
              "      <td>0.0</td>\n",
              "    </tr>\n",
              "    <tr>\n",
              "      <th>9381</th>\n",
              "      <td>14002</td>\n",
              "      <td>NaN</td>\n",
              "      <td>Italy</td>\n",
              "      <td>2020-01-23</td>\n",
              "      <td>0.0</td>\n",
              "      <td>0.0</td>\n",
              "    </tr>\n",
              "    <tr>\n",
              "      <th>9382</th>\n",
              "      <td>14003</td>\n",
              "      <td>NaN</td>\n",
              "      <td>Italy</td>\n",
              "      <td>2020-01-24</td>\n",
              "      <td>0.0</td>\n",
              "      <td>0.0</td>\n",
              "    </tr>\n",
              "    <tr>\n",
              "      <th>9383</th>\n",
              "      <td>14004</td>\n",
              "      <td>NaN</td>\n",
              "      <td>Italy</td>\n",
              "      <td>2020-01-25</td>\n",
              "      <td>0.0</td>\n",
              "      <td>0.0</td>\n",
              "    </tr>\n",
              "    <tr>\n",
              "      <th>9384</th>\n",
              "      <td>14005</td>\n",
              "      <td>NaN</td>\n",
              "      <td>Italy</td>\n",
              "      <td>2020-01-26</td>\n",
              "      <td>0.0</td>\n",
              "      <td>0.0</td>\n",
              "    </tr>\n",
              "  </tbody>\n",
              "</table>\n",
              "</div>"
            ],
            "text/plain": [
              "         Id Province_State  ... ConfirmedCases Fatalities\n",
              "9380  14001            NaN  ...            0.0        0.0\n",
              "9381  14002            NaN  ...            0.0        0.0\n",
              "9382  14003            NaN  ...            0.0        0.0\n",
              "9383  14004            NaN  ...            0.0        0.0\n",
              "9384  14005            NaN  ...            0.0        0.0\n",
              "\n",
              "[5 rows x 6 columns]"
            ]
          },
          "metadata": {
            "tags": []
          },
          "execution_count": 289
        }
      ]
    },
    {
      "cell_type": "markdown",
      "metadata": {
        "id": "IYhA-p88NJOx",
        "colab_type": "text"
      },
      "source": [
        "Realizado a importação da Base da Italia, utilizei a mema base de treino e teste para poder fazer uma medição aproximada de utilizando a variavel ConfirmedCases iria apresentar uma taxa interessante "
      ]
    },
    {
      "cell_type": "code",
      "metadata": {
        "id": "XTNzVxRCgeQk",
        "colab_type": "code",
        "colab": {
          "base_uri": "https://localhost:8080/",
          "height": 208
        },
        "outputId": "89545ca2-70b5-4393-a95b-f0df6f46d275"
      },
      "source": [
        "kviz = KNeighborsClassifier(n_neighbors=2)\n",
        "kviz.fit(treino[['ConfirmedCases']],treino['Fatalities'] )\n",
        "previsao = kviz.predict(teste[['ConfirmedCases']])\n",
        "print('Previsão: ')\n",
        "print(previsao)"
      ],
      "execution_count": 290,
      "outputs": [
        {
          "output_type": "stream",
          "text": [
            "Previsão: \n",
            "[0.000e+00 0.000e+00 0.000e+00 0.000e+00 0.000e+00 0.000e+00 0.000e+00\n",
            " 0.000e+00 0.000e+00 0.000e+00 0.000e+00 0.000e+00 0.000e+00 0.000e+00\n",
            " 0.000e+00 0.000e+00 0.000e+00 0.000e+00 0.000e+00 0.000e+00 0.000e+00\n",
            " 0.000e+00 0.000e+00 0.000e+00 0.000e+00 0.000e+00 0.000e+00 0.000e+00\n",
            " 0.000e+00 0.000e+00 0.000e+00 1.000e+00 3.000e+00 3.000e+00 7.000e+00\n",
            " 1.000e+01 1.200e+01 1.700e+01 2.100e+01 3.400e+01 3.400e+01 5.200e+01\n",
            " 7.900e+01 1.070e+02 1.480e+02 1.970e+02 2.330e+02 4.630e+02 4.630e+02\n",
            " 8.270e+02 8.270e+02 1.266e+03 1.266e+03 1.809e+03 1.809e+03 2.158e+03\n",
            " 2.503e+03 2.978e+03 3.405e+03 4.825e+03 5.476e+03 5.476e+03 6.820e+03\n",
            " 6.820e+03 8.215e+03 8.215e+03 9.134e+03]\n"
          ],
          "name": "stdout"
        }
      ]
    },
    {
      "cell_type": "markdown",
      "metadata": {
        "id": "tOq1ghVJN1h_",
        "colab_type": "text"
      },
      "source": [
        "Criando uma função simples de acuracia, depois verificarei se existe maneira automatica de realizar essa apuração"
      ]
    },
    {
      "cell_type": "code",
      "metadata": {
        "id": "MCEiTuBi1nmI",
        "colab_type": "code",
        "colab": {}
      },
      "source": [
        "def acuracia(a,b):\n",
        "    x = (b * 100)/a    \n",
        "    if x > 0: \n",
        "      return x \n",
        "    else: \n",
        "      return 0.0"
      ],
      "execution_count": 0,
      "outputs": []
    },
    {
      "cell_type": "markdown",
      "metadata": {
        "id": "q4-R01xOOAef",
        "colab_type": "text"
      },
      "source": [
        "Irei um  array para trabalhar e calcular a porcentagem de acerto exato e total para a base de teste. Futuramente daria para retreinar o modelo e gerar uma base sample e verificar a sua acertividades. Mas devido a analise realizados pela microsoft e por outras empresas de analises, esta muito dificil apenas isolar os dados de covid ja que ainda muitas pessoas acabam morrendo em suas casas e esses dados pode mexer na curva do dia nao deixando o modelo refinado."
      ]
    },
    {
      "cell_type": "code",
      "metadata": {
        "id": "35itUTACuIYm",
        "colab_type": "code",
        "colab": {
          "base_uri": "https://localhost:8080/",
          "height": 693
        },
        "outputId": "dc4657af-8579-4784-e421-207683388635"
      },
      "source": [
        "arr = treino.to_numpy()\n",
        "cur_total = 0\n",
        "qtd_dia = 0\n",
        "for t in range(len(treino)):\n",
        "  \n",
        "  previsto = previsao[t]\n",
        "  esperado = arr[t][5] \n",
        "  acur = acuracia(esperado,previsto)\n",
        "  if esperado >  0 :\n",
        "    qtd_dia= qtd_dia + 1\n",
        "    cur_total = cur_total + acur \n",
        "    print('Previsto=%.2f, esperado=%.2f  , Accuracia=%.2f' % (previsto, esperado, acur))\n",
        "  "
      ],
      "execution_count": 348,
      "outputs": [
        {
          "output_type": "stream",
          "text": [
            "Previsto=0.00, esperado=1.00  , Accuracia=0.00\n",
            "Previsto=1.00, esperado=2.00  , Accuracia=50.00\n",
            "Previsto=3.00, esperado=3.00  , Accuracia=100.00\n",
            "Previsto=3.00, esperado=7.00  , Accuracia=42.86\n",
            "Previsto=7.00, esperado=10.00  , Accuracia=70.00\n",
            "Previsto=10.00, esperado=12.00  , Accuracia=83.33\n",
            "Previsto=12.00, esperado=17.00  , Accuracia=70.59\n",
            "Previsto=17.00, esperado=21.00  , Accuracia=80.95\n",
            "Previsto=21.00, esperado=29.00  , Accuracia=72.41\n",
            "Previsto=34.00, esperado=34.00  , Accuracia=100.00\n",
            "Previsto=34.00, esperado=52.00  , Accuracia=65.38\n",
            "Previsto=52.00, esperado=79.00  , Accuracia=65.82\n",
            "Previsto=79.00, esperado=107.00  , Accuracia=73.83\n",
            "Previsto=107.00, esperado=148.00  , Accuracia=72.30\n",
            "Previsto=148.00, esperado=197.00  , Accuracia=75.13\n",
            "Previsto=197.00, esperado=233.00  , Accuracia=84.55\n",
            "Previsto=233.00, esperado=366.00  , Accuracia=63.66\n",
            "Previsto=463.00, esperado=463.00  , Accuracia=100.00\n",
            "Previsto=463.00, esperado=631.00  , Accuracia=73.38\n",
            "Previsto=827.00, esperado=827.00  , Accuracia=100.00\n",
            "Previsto=827.00, esperado=827.00  , Accuracia=100.00\n",
            "Previsto=1266.00, esperado=1266.00  , Accuracia=100.00\n",
            "Previsto=1266.00, esperado=1441.00  , Accuracia=87.86\n",
            "Previsto=1809.00, esperado=1809.00  , Accuracia=100.00\n",
            "Previsto=1809.00, esperado=2158.00  , Accuracia=83.83\n",
            "Previsto=2158.00, esperado=2503.00  , Accuracia=86.22\n",
            "Previsto=2503.00, esperado=2978.00  , Accuracia=84.05\n",
            "Previsto=2978.00, esperado=3405.00  , Accuracia=87.46\n",
            "Previsto=3405.00, esperado=4032.00  , Accuracia=84.45\n",
            "Previsto=4825.00, esperado=4825.00  , Accuracia=100.00\n",
            "Previsto=5476.00, esperado=5476.00  , Accuracia=100.00\n",
            "Previsto=5476.00, esperado=6077.00  , Accuracia=90.11\n",
            "Previsto=6820.00, esperado=6820.00  , Accuracia=100.00\n",
            "Previsto=6820.00, esperado=7503.00  , Accuracia=90.90\n",
            "Previsto=8215.00, esperado=8215.00  , Accuracia=100.00\n",
            "Previsto=8215.00, esperado=9134.00  , Accuracia=89.94\n",
            "Previsto=9134.00, esperado=10023.00  , Accuracia=91.13\n"
          ],
          "name": "stdout"
        },
        {
          "output_type": "stream",
          "text": [
            "/usr/local/lib/python3.6/dist-packages/ipykernel_launcher.py:2: RuntimeWarning: invalid value encountered in double_scalars\n",
            "  \n"
          ],
          "name": "stderr"
        }
      ]
    },
    {
      "cell_type": "code",
      "metadata": {
        "id": "JM7jzrR39V6l",
        "colab_type": "code",
        "colab": {
          "base_uri": "https://localhost:8080/",
          "height": 34
        },
        "outputId": "f8fdacd0-1f69-4ec6-e0dd-8c8630cf5149"
      },
      "source": [
        "print('A acuracia total cosiderando todos os dias com dados %.2f' % (cur_total/qtd_dia) + '%')"
      ],
      "execution_count": 350,
      "outputs": [
        {
          "output_type": "stream",
          "text": [
            "A acuracia total cosiderando todos os dias com dados 81.63%\n"
          ],
          "name": "stdout"
        }
      ]
    },
    {
      "cell_type": "code",
      "metadata": {
        "id": "RGzSHCPt-i-g",
        "colab_type": "code",
        "colab": {
          "base_uri": "https://localhost:8080/",
          "height": 34
        },
        "outputId": "c3843806-6cc0-4ef9-fd9d-fd88824711fa"
      },
      "source": [
        "print(acuracia(37,11))"
      ],
      "execution_count": 349,
      "outputs": [
        {
          "output_type": "stream",
          "text": [
            "29.72972972972973\n"
          ],
          "name": "stdout"
        }
      ]
    },
    {
      "cell_type": "markdown",
      "metadata": {
        "id": "IOVn1gSl-wPB",
        "colab_type": "text"
      },
      "source": [
        "##Analise\n",
        "Acuracia com 100% de acerto =  29.72% </br>\n",
        "Acuracia total cosiderando todos os dias com dados 81.63%\n",
        ">  Precision = True Positives / (True Positives + False Positives) = **81.63%** </br>\n",
        "   Recall = True Positives / (True Positives + False Negatives) =  **29.72%** "
      ]
    },
    {
      "cell_type": "markdown",
      "metadata": {
        "id": "TQRC2iouKYnn",
        "colab_type": "text"
      },
      "source": [
        "#ARIMA (autoregressive integrated moving average) - OK\n"
      ]
    },
    {
      "cell_type": "code",
      "metadata": {
        "id": "-eo5kELnKc9F",
        "colab_type": "code",
        "outputId": "71087ea3-4fb0-467f-9bb9-6f31cae53438",
        "colab": {
          "base_uri": "https://localhost:8080/",
          "height": 365
        }
      },
      "source": [
        "from matplotlib import pyplot\n",
        "                           \n",
        "series = read_csv('/content/drive/My Drive/Proj/trabalho/treino.csv', header=0, index_col=3, squeeze=True)\n",
        "series = series[series['Country_Region'] == 'Brazil']\n",
        "series = series.drop(columns=['Id','Province_State','Country_Region'], axis=1)\n",
        "print(series.tail(3))\n",
        "series.plot()\n",
        "pyplot.show()"
      ],
      "execution_count": 362,
      "outputs": [
        {
          "output_type": "stream",
          "text": [
            "            ConfirmedCases  Fatalities\n",
            "Date                                  \n",
            "2020-03-26          2985.0        77.0\n",
            "2020-03-27          3417.0        92.0\n",
            "2020-03-28          3904.0       111.0\n"
          ],
          "name": "stdout"
        },
        {
          "output_type": "display_data",
          "data": {
            "image/png": "[encoded data removed]",
            "text/plain": [
              "<Figure size 432x288 with 1 Axes>"
            ]
          },
          "metadata": {
            "tags": []
          }
        }
      ]
    },
    {
      "cell_type": "markdown",
      "metadata": {
        "id": "gn863zRR6m8Q",
        "colab_type": "text"
      },
      "source": [
        "Devido a grande volumes com dados zerados estava alterando o grafico e o modelo. Assim removi o periodo zerado para não afetar a base teste e treino no final do modelo"
      ]
    },
    {
      "cell_type": "code",
      "metadata": {
        "id": "Xz8dSFCo6Vt0",
        "colab_type": "code",
        "outputId": "60967e30-4582-416d-9331-4b000e52dc84",
        "colab": {
          "base_uri": "https://localhost:8080/",
          "height": 278
        }
      },
      "source": [
        "series = series['2020-03-17':'2020-03-28']\n",
        "series = series.drop(columns=['ConfirmedCases'],axis=1)\n",
        "series.plot()\n",
        "pyplot.show()"
      ],
      "execution_count": 363,
      "outputs": [
        {
          "output_type": "display_data",
          "data": {
            "image/png": "[encoded data removed]",
            "text/plain": [
              "<Figure size 432x288 with 1 Axes>"
            ]
          },
          "metadata": {
            "tags": []
          }
        }
      ]
    },
    {
      "cell_type": "code",
      "metadata": {
        "id": "4RFycs12i1G_",
        "colab_type": "code",
        "outputId": "b27edfdb-7b0a-496d-d7b7-d8ff45bacfae",
        "colab": {
          "base_uri": "https://localhost:8080/",
          "height": 282
        }
      },
      "source": [
        "from pandas.plotting import autocorrelation_plot\n",
        "autocorrelation_plot(series)\n",
        "pyplot.show()"
      ],
      "execution_count": 364,
      "outputs": [
        {
          "output_type": "display_data",
          "data": {
            "image/png": "[encoded data removed]",
            "text/plain": [
              "<Figure size 432x288 with 1 Axes>"
            ]
          },
          "metadata": {
            "tags": []
          }
        }
      ]
    },
    {
      "cell_type": "code",
      "metadata": {
        "id": "4ILNODnti8xy",
        "colab_type": "code",
        "outputId": "0ec1376d-28a5-4250-e941-fc50a4aa6b6a",
        "colab": {
          "base_uri": "https://localhost:8080/",
          "height": 1000
        }
      },
      "source": [
        "from statsmodels.tsa.arima_model import ARIMA\n",
        "s_arima = series\n",
        "# fit model\n",
        "model = ARIMA(s_arima, order=(3,1,0))\n",
        "model_fit = model.fit(disp=0)\n",
        "print(model_fit.summary())\n",
        "# plot residual errors\n",
        "residuals = DataFrame(model_fit.resid)\n",
        "residuals.plot()\n",
        "pyplot.show()\n",
        "residuals.plot(kind='kde')\n",
        "pyplot.show()\n",
        "print(residuals.describe())"
      ],
      "execution_count": 365,
      "outputs": [
        {
          "output_type": "stream",
          "text": [
            "/usr/local/lib/python3.6/dist-packages/statsmodels/tsa/base/tsa_model.py:165: ValueWarning: No frequency information was provided, so inferred frequency D will be used.\n",
            "  % freq, ValueWarning)\n",
            "/usr/local/lib/python3.6/dist-packages/statsmodels/tsa/base/tsa_model.py:165: ValueWarning: No frequency information was provided, so inferred frequency D will be used.\n",
            "  % freq, ValueWarning)\n"
          ],
          "name": "stderr"
        },
        {
          "output_type": "stream",
          "text": [
            "                             ARIMA Model Results                              \n",
            "==============================================================================\n",
            "Dep. Variable:           D.Fatalities   No. Observations:                   11\n",
            "Model:                 ARIMA(3, 1, 0)   Log Likelihood                 -49.378\n",
            "Method:                       css-mle   S.D. of innovations     1585872024.059\n",
            "Date:                Tue, 31 Mar 2020   AIC                            108.755\n",
            "Time:                        20:28:31   BIC                            110.745\n",
            "Sample:                    03-18-2020   HQIC                           107.501\n",
            "                         - 03-28-2020                                         \n",
            "======================================================================================\n",
            "                         coef    std err          z      P>|z|      [0.025      0.975]\n",
            "--------------------------------------------------------------------------------------\n",
            "const                 45.0875        nan        nan        nan         nan         nan\n",
            "ar.L1.D.Fatalities    -0.0694        nan        nan        nan         nan         nan\n",
            "ar.L2.D.Fatalities     0.9526        nan        nan        nan         nan         nan\n",
            "ar.L3.D.Fatalities     0.0220   7.34e-07   2.99e+04      0.000       0.022       0.022\n",
            "                                    Roots                                    \n",
            "=============================================================================\n",
            "                  Real          Imaginary           Modulus         Frequency\n",
            "-----------------------------------------------------------------------------\n",
            "AR.1           -1.0000           +0.0000j            1.0000            0.5000\n",
            "AR.2            1.0486           +0.0000j            1.0486            0.0000\n",
            "AR.3          -43.4415           +0.0000j           43.4415            0.5000\n",
            "-----------------------------------------------------------------------------\n"
          ],
          "name": "stdout"
        },
        {
          "output_type": "stream",
          "text": [
            "/usr/local/lib/python3.6/dist-packages/statsmodels/base/model.py:492: HessianInversionWarning: Inverting hessian failed, no bse or cov_params available\n",
            "  'available', HessianInversionWarning)\n",
            "/usr/local/lib/python3.6/dist-packages/statsmodels/base/model.py:512: ConvergenceWarning: Maximum Likelihood optimization failed to converge. Check mle_retvals\n",
            "  \"Check mle_retvals\", ConvergenceWarning)\n",
            "/usr/local/lib/python3.6/dist-packages/statsmodels/tsa/arima_model.py:1441: RuntimeWarning: invalid value encountered in sqrt\n",
            "  return np.sqrt(np.diag(-inv(hess)))\n",
            "/usr/local/lib/python3.6/dist-packages/scipy/stats/_distn_infrastructure.py:903: RuntimeWarning: invalid value encountered in greater\n",
            "  return (a < x) & (x < b)\n",
            "/usr/local/lib/python3.6/dist-packages/scipy/stats/_distn_infrastructure.py:903: RuntimeWarning: invalid value encountered in less\n",
            "  return (a < x) & (x < b)\n",
            "/usr/local/lib/python3.6/dist-packages/scipy/stats/_distn_infrastructure.py:1912: RuntimeWarning: invalid value encountered in less_equal\n",
            "  cond2 = cond0 & (x <= _a)\n"
          ],
          "name": "stderr"
        },
        {
          "output_type": "display_data",
          "data": {
            "image/png": "[encoded data removed]",
            "text/plain": [
              "<Figure size 432x288 with 1 Axes>"
            ]
          },
          "metadata": {
            "tags": []
          }
        },
        {
          "output_type": "display_data",
          "data": {
            "image/png": "[encoded data removed]",
            "text/plain": [
              "<Figure size 432x288 with 1 Axes>"
            ]
          },
          "metadata": {
            "tags": []
          }
        },
        {
          "output_type": "stream",
          "text": [
            "               0\n",
            "count  11.000000\n",
            "mean  -11.762832\n",
            "std    27.598231\n",
            "min   -85.175042\n",
            "25%    -2.248250\n",
            "50%    -1.128585\n",
            "75%     0.969055\n",
            "max     2.998014\n"
          ],
          "name": "stdout"
        }
      ]
    },
    {
      "cell_type": "markdown",
      "metadata": {
        "id": "KjSFvhVxSIIq",
        "colab_type": "text"
      },
      "source": [
        "Claramente nao temos dados bons o suficiente a nivel brasil, para utilizar a variavel de fatalidades geram apenas 11 registros."
      ]
    },
    {
      "cell_type": "code",
      "metadata": {
        "id": "ANIfO4l7lkPo",
        "colab_type": "code",
        "colab": {}
      },
      "source": [
        "from sklearn.metrics import mean_squared_error\n",
        "X = s_arima.values\n",
        "size = int(len(X) * 0.66)\n",
        "train, test = X[0:size], X[size:len(X)]"
      ],
      "execution_count": 0,
      "outputs": []
    },
    {
      "cell_type": "markdown",
      "metadata": {
        "id": "7H4QoDFWS3b0",
        "colab_type": "text"
      },
      "source": [
        " **Forecast** criar previsões observando uma série histórica de dados conhecido como dados de séries temporais.\n",
        " </br>\n",
        " Uma série temporal nada mais é do que uma série de observações registradas sequencialmente no decorrer do tempo\n"
      ]
    },
    {
      "cell_type": "code",
      "metadata": {
        "id": "PYFMUe1v3N4I",
        "colab_type": "code",
        "outputId": "1dbf7329-c018-46d2-a20e-088fe3f190a5",
        "colab": {
          "base_uri": "https://localhost:8080/",
          "height": 634
        }
      },
      "source": [
        "#baseReferencia\n",
        "series = read_csv('/content/drive/My Drive/Proj/trabalho/treino.csv')\n",
        "series = series[series['Country_Region'] == 'Brazil']\n",
        "series = series[series['Date'] >= \"2020-02-28\"]\n",
        "series = series.drop(columns=['Id','Province_State','Country_Region'],axis=1)\n",
        "\n",
        "history = [x for x in train]\n",
        "predictions = list()\n",
        "for t in range(len(test)):\n",
        "  model = ARIMA(history, order=(2,1,0))\n",
        "  model_fit = model.fit(disp=0)\n",
        "  output = model_fit.forecast()\n",
        "  yhat = output[0]\n",
        "  obs = test[t]\n",
        "  predictions.append(yhat)\n",
        "  history.append(yhat)\n",
        "  print('predicted=%f, expected=%f' % (yhat, obs))\n",
        "\n",
        "error = mean_squared_error(test, predictions)\n",
        "print('Test MSE: %.3f' % error)\n",
        "pyplot.plot(pd.to_datetime(series['Date']),series['Fatalities'])\n",
        "pyplot.show()\n",
        "pyplot.plot(predictions, color='red')"
      ],
      "execution_count": 358,
      "outputs": [
        {
          "output_type": "stream",
          "text": [
            "predicted=40.922003, expected=46.000000\n",
            "predicted=46.836140, expected=59.000000\n",
            "predicted=52.395393, expected=77.000000\n",
            "predicted=57.852826, expected=92.000000\n",
            "predicted=63.285830, expected=111.000000\n",
            "Test MSE: 844.361\n"
          ],
          "name": "stdout"
        },
        {
          "output_type": "display_data",
          "data": {
            "image/png": "[encoded data removed]",
            "text/plain": [
              "<Figure size 432x288 with 1 Axes>"
            ]
          },
          "metadata": {
            "tags": []
          }
        },
        {
          "output_type": "execute_result",
          "data": {
            "text/plain": [
              "[<matplotlib.lines.Line2D at 0x7f5f25208470>]"
            ]
          },
          "metadata": {
            "tags": []
          },
          "execution_count": 358
        },
        {
          "output_type": "display_data",
          "data": {
            "image/png": "[encoded data removed]",
            "text/plain": [
              "<Figure size 432x288 with 1 Axes>"
            ]
          },
          "metadata": {
            "tags": []
          }
        }
      ]
    },
    {
      "cell_type": "markdown",
      "metadata": {
        "id": "uTdqb4cORa1v",
        "colab_type": "text"
      },
      "source": [
        "utilizando esse modelo preditivo a acuracia do modelo ficou muito abaixo não consguindo nenhuma predição 100%, precisaria rever o modelo e os dados para conseguir utilizar mais variaveis  de correlação para só assim conseguir corrigir essa curva."
      ]
    },
    {
      "cell_type": "markdown",
      "metadata": {
        "id": "VVUSo4h_6CZ0",
        "colab_type": "text"
      },
      "source": [
        "#Series Temporais  (não Concluido)"
      ]
    },
    {
      "cell_type": "code",
      "metadata": {
        "id": "ejCOpNZ4aIZ5",
        "colab_type": "code",
        "colab": {}
      },
      "source": [
        "baseBr=treino[treino['Country_Region'] == 'Brazil'].copy()\n",
        "#baseBr= baseBr[baseBr['Date'] > \"2020-03-15\"].copy()\n",
        "baseBr['Date'] = pd.to_datetime(baseBr['Date'])"
      ],
      "execution_count": 0,
      "outputs": []
    },
    {
      "cell_type": "markdown",
      "metadata": {
        "id": "Bb6WbSaSwu3p",
        "colab_type": "text"
      },
      "source": [
        "##Validação"
      ]
    },
    {
      "cell_type": "code",
      "metadata": {
        "id": "UN0UD1hKiBOU",
        "colab_type": "code",
        "outputId": "ff4706a7-34eb-47c5-f1e1-71b282a3833f",
        "colab": {
          "base_uri": "https://localhost:8080/",
          "height": 34
        }
      },
      "source": [
        "treino_brasil = baseBr[baseBr['Date'] <  \"2020-03-19\"]\n",
        "valid_brasil= baseBr[baseBr['Date'] >=  \"2020-03-19\"]\n",
        "#baseBr.tail()\n",
        "treino_brasil.shape,valid_brasil.shape"
      ],
      "execution_count": 0,
      "outputs": [
        {
          "output_type": "execute_result",
          "data": {
            "text/plain": [
              "((57, 6), (10, 6))"
            ]
          },
          "metadata": {
            "tags": []
          },
          "execution_count": 19
        }
      ]
    },
    {
      "cell_type": "markdown",
      "metadata": {
        "id": "hEYQAKlMw6R9",
        "colab_type": "text"
      },
      "source": [
        "##Baseline"
      ]
    },
    {
      "cell_type": "code",
      "metadata": {
        "id": "A61yOK7ew9Es",
        "colab_type": "code",
        "colab": {}
      },
      "source": [
        "y_treino = treino_brasil['ConfirmedCases']\n",
        "y_valid = valid_brasil['ConfirmedCases']\n",
        "\n",
        "baseline_treino = treino_brasil.groupby(['Country_Region'])['ConfirmedCases'].shift(1)\n",
        "baseline_valid = valid_brasil.groupby(['Country_Region'])['ConfirmedCases'].shift(1)"
      ],
      "execution_count": 0,
      "outputs": []
    },
    {
      "cell_type": "code",
      "metadata": {
        "id": "DuSFRbInyCsY",
        "colab_type": "code",
        "outputId": "99e59fb2-1c91-4942-b96c-e07c2b4e4be9",
        "colab": {
          "base_uri": "https://localhost:8080/",
          "height": 34
        }
      },
      "source": [
        "from sklearn.metrics import mean_squared_log_error\n",
        "np.sqrt(mean_squared_log_error(y_valid[baseline_valid.notnull()], \n",
        "                               baseline_valid[baseline_valid.notnull()]))"
      ],
      "execution_count": 0,
      "outputs": [
        {
          "output_type": "execute_result",
          "data": {
            "text/plain": [
              "0.22204161342475348"
            ]
          },
          "metadata": {
            "tags": []
          },
          "execution_count": 21
        }
      ]
    },
    {
      "cell_type": "code",
      "metadata": {
        "id": "6bwuVGEYyoBh",
        "colab_type": "code",
        "outputId": "6e7cd5bc-f23d-4d9d-a6fe-ee9a9152a382",
        "colab": {
          "base_uri": "https://localhost:8080/",
          "height": 34
        }
      },
      "source": [
        "0.22204161342475348 * 100"
      ],
      "execution_count": 0,
      "outputs": [
        {
          "output_type": "execute_result",
          "data": {
            "text/plain": [
              "22.20416134247535"
            ]
          },
          "metadata": {
            "tags": []
          },
          "execution_count": 22
        }
      ]
    },
    {
      "cell_type": "markdown",
      "metadata": {
        "id": "EDPM2FxWzF94",
        "colab_type": "text"
      },
      "source": [
        "##Machine Learning"
      ]
    },
    {
      "cell_type": "code",
      "metadata": {
        "id": "dhJoaAOTzJtN",
        "colab_type": "code",
        "colab": {}
      },
      "source": [
        "df_X_treino = pd.DataFrame(index=treino_brasil.index)\n",
        "df_X_valid = pd.DataFrame(index=valid_brasil.index)"
      ],
      "execution_count": 0,
      "outputs": []
    },
    {
      "cell_type": "markdown",
      "metadata": {
        "id": "_qZGFB9uzlIC",
        "colab_type": "text"
      },
      "source": [
        "##Target"
      ]
    },
    {
      "cell_type": "code",
      "metadata": {
        "id": "koyWbeLtziXR",
        "colab_type": "code",
        "outputId": "a66e8f38-cd41-463e-843f-3aa1dddbcf3d",
        "colab": {
          "base_uri": "https://localhost:8080/",
          "height": 617
        }
      },
      "source": [
        "treino_brasil.plot(x='Date', y='Fatalities')\n",
        "valid_brasil.plot(x='Date', y='Fatalities')"
      ],
      "execution_count": 0,
      "outputs": [
        {
          "output_type": "execute_result",
          "data": {
            "text/plain": [
              "<matplotlib.axes._subplots.AxesSubplot at 0x7f5f28f1afd0>"
            ]
          },
          "metadata": {
            "tags": []
          },
          "execution_count": 24
        },
        {
          "output_type": "display_data",
          "data": {
            "image/png": "[encoded data removed]",
            "text/plain": [
              "<Figure size 432x288 with 1 Axes>"
            ]
          },
          "metadata": {
            "tags": []
          }
        },
        {
          "output_type": "display_data",
          "data": {
            "image/png": "[encoded data removed]",
            "text/plain": [
              "<Figure size 432x288 with 1 Axes>"
            ]
          },
          "metadata": {
            "tags": []
          }
        }
      ]
    }
  ]
}