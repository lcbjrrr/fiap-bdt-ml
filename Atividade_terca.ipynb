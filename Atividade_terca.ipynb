{
  "nbformat": 4,
  "nbformat_minor": 0,
  "metadata": {
    "colab": {
      "name": "Atividade_terca.ipynb",
      "provenance": [],
      "include_colab_link": true
    },
    "kernelspec": {
      "name": "python3",
      "display_name": "Python 3"
    }
  },
  "cells": [
    {
      "cell_type": "markdown",
      "metadata": {
        "id": "view-in-github",
        "colab_type": "text"
      },
      "source": [
        "<a href=\"https://colab.research.google.com/github/lcbjrrr/fiap-bdt-ml/blob/master/Atividade_terca.ipynb\" target=\"_parent\"><img src=\"https://colab.research.google.com/assets/colab-badge.svg\" alt=\"Open In Colab\"/></a>"
      ]
    },
    {
      "cell_type": "code",
      "metadata": {
        "id": "9qnE4999jaCH",
        "colab_type": "code",
        "outputId": "9f4cf8ec-c864-4d47-d95c-0be19db58981",
        "colab": {
          "base_uri": "https://localhost:8080/",
          "height": 359
        }
      },
      "source": [
        "$import pandas as pd\n",
        "\n",
        "bras = pd.read_excel(\"/content/tabela_brasileirao_results2.xlsx\")\n",
        "bras.head(10)  "
      ],
      "execution_count": 0,
      "outputs": [
        {
          "output_type": "execute_result",
          "data": {
            "text/html": [
              "<div>\n",
              "<style scoped>\n",
              "    .dataframe tbody tr th:only-of-type {\n",
              "        vertical-align: middle;\n",
              "    }\n",
              "\n",
              "    .dataframe tbody tr th {\n",
              "        vertical-align: top;\n",
              "    }\n",
              "\n",
              "    .dataframe thead th {\n",
              "        text-align: right;\n",
              "    }\n",
              "</style>\n",
              "<table border=\"1\" class=\"dataframe\">\n",
              "  <thead>\n",
              "    <tr style=\"text-align: right;\">\n",
              "      <th></th>\n",
              "      <th>Pos.</th>\n",
              "      <th>Gols Pro</th>\n",
              "      <th>Gols Sofridos</th>\n",
              "      <th>Saldo</th>\n",
              "      <th>Qtd_Jogadores</th>\n",
              "      <th>Idade_Media</th>\n",
              "      <th>Estrangeiros</th>\n",
              "      <th>Valor_total</th>\n",
              "      <th>Media_Valor</th>\n",
              "    </tr>\n",
              "  </thead>\n",
              "  <tbody>\n",
              "    <tr>\n",
              "      <th>0</th>\n",
              "      <td>18</td>\n",
              "      <td>30</td>\n",
              "      <td>47</td>\n",
              "      <td>-17</td>\n",
              "      <td>51</td>\n",
              "      <td>24.8</td>\n",
              "      <td>0</td>\n",
              "      <td>27350000</td>\n",
              "      <td>536000</td>\n",
              "    </tr>\n",
              "    <tr>\n",
              "      <th>1</th>\n",
              "      <td>7</td>\n",
              "      <td>54</td>\n",
              "      <td>37</td>\n",
              "      <td>17</td>\n",
              "      <td>52</td>\n",
              "      <td>24.0</td>\n",
              "      <td>3</td>\n",
              "      <td>37650000</td>\n",
              "      <td>724000</td>\n",
              "    </tr>\n",
              "    <tr>\n",
              "      <th>2</th>\n",
              "      <td>6</td>\n",
              "      <td>56</td>\n",
              "      <td>43</td>\n",
              "      <td>13</td>\n",
              "      <td>50</td>\n",
              "      <td>23.4</td>\n",
              "      <td>6</td>\n",
              "      <td>61350000</td>\n",
              "      <td>1230000</td>\n",
              "    </tr>\n",
              "    <tr>\n",
              "      <th>3</th>\n",
              "      <td>11</td>\n",
              "      <td>39</td>\n",
              "      <td>41</td>\n",
              "      <td>-2</td>\n",
              "      <td>48</td>\n",
              "      <td>23.2</td>\n",
              "      <td>2</td>\n",
              "      <td>34900000</td>\n",
              "      <td>727000</td>\n",
              "    </tr>\n",
              "    <tr>\n",
              "      <th>4</th>\n",
              "      <td>9</td>\n",
              "      <td>38</td>\n",
              "      <td>46</td>\n",
              "      <td>-8</td>\n",
              "      <td>45</td>\n",
              "      <td>23.1</td>\n",
              "      <td>4</td>\n",
              "      <td>25550000</td>\n",
              "      <td>568000</td>\n",
              "    </tr>\n",
              "    <tr>\n",
              "      <th>5</th>\n",
              "      <td>15</td>\n",
              "      <td>32</td>\n",
              "      <td>38</td>\n",
              "      <td>-6</td>\n",
              "      <td>54</td>\n",
              "      <td>26.0</td>\n",
              "      <td>2</td>\n",
              "      <td>26950000</td>\n",
              "      <td>499000</td>\n",
              "    </tr>\n",
              "    <tr>\n",
              "      <th>6</th>\n",
              "      <td>14</td>\n",
              "      <td>34</td>\n",
              "      <td>50</td>\n",
              "      <td>-16</td>\n",
              "      <td>52</td>\n",
              "      <td>24.8</td>\n",
              "      <td>5</td>\n",
              "      <td>32030000</td>\n",
              "      <td>616000</td>\n",
              "    </tr>\n",
              "    <tr>\n",
              "      <th>7</th>\n",
              "      <td>13</td>\n",
              "      <td>34</td>\n",
              "      <td>35</td>\n",
              "      <td>-1</td>\n",
              "      <td>54</td>\n",
              "      <td>24.3</td>\n",
              "      <td>6</td>\n",
              "      <td>61400000</td>\n",
              "      <td>1140000</td>\n",
              "    </tr>\n",
              "    <tr>\n",
              "      <th>8</th>\n",
              "      <td>8</td>\n",
              "      <td>34</td>\n",
              "      <td>34</td>\n",
              "      <td>0</td>\n",
              "      <td>51</td>\n",
              "      <td>24.0</td>\n",
              "      <td>5</td>\n",
              "      <td>62250000</td>\n",
              "      <td>1220000</td>\n",
              "    </tr>\n",
              "    <tr>\n",
              "      <th>9</th>\n",
              "      <td>2</td>\n",
              "      <td>59</td>\n",
              "      <td>29</td>\n",
              "      <td>30</td>\n",
              "      <td>48</td>\n",
              "      <td>23.8</td>\n",
              "      <td>7</td>\n",
              "      <td>67380000</td>\n",
              "      <td>1400000</td>\n",
              "    </tr>\n",
              "  </tbody>\n",
              "</table>\n",
              "</div>"
            ],
            "text/plain": [
              "   Pos.  Gols Pro   Gols Sofridos   ...  Estrangeiros  Valor_total  Media_Valor\n",
              "0    18         30              47  ...             0     27350000       536000\n",
              "1     7         54              37  ...             3     37650000       724000\n",
              "2     6         56              43  ...             6     61350000      1230000\n",
              "3    11         39              41  ...             2     34900000       727000\n",
              "4     9         38              46  ...             4     25550000       568000\n",
              "5    15         32              38  ...             2     26950000       499000\n",
              "6    14         34              50  ...             5     32030000       616000\n",
              "7    13         34              35  ...             6     61400000      1140000\n",
              "8     8         34              34  ...             5     62250000      1220000\n",
              "9     2         59              29  ...             7     67380000      1400000\n",
              "\n",
              "[10 rows x 9 columns]"
            ]
          },
          "metadata": {
            "tags": []
          },
          "execution_count": 23
        }
      ]
    },
    {
      "cell_type": "markdown",
      "metadata": {
        "id": "ij3MEVUTjPp2",
        "colab_type": "text"
      },
      "source": [
        "##KMEANS\n",
        "#Iniciamos a analise observando quais as métricas que tínhamos em nossa base, e quais seriam de importante valor.\n",
        "\n",
        "#Treinamos a base usando 2 clusters, essa escolha foi para diferenciar a 1ª e 2ª parte da tabela do campeonato"
      ]
    },
    {
      "cell_type": "code",
      "metadata": {
        "id": "HC_6PefUmHoP",
        "colab_type": "code",
        "outputId": "98082162-76df-4176-b9f0-278cd276517c",
        "colab": {
          "base_uri": "https://localhost:8080/",
          "height": 68
        }
      },
      "source": [
        "from sklearn.cluster import KMeans\n",
        "k = KMeans(n_clusters=2)\n",
        "\n",
        "\n",
        "k.fit(bras)"
      ],
      "execution_count": 0,
      "outputs": [
        {
          "output_type": "execute_result",
          "data": {
            "text/plain": [
              "KMeans(algorithm='auto', copy_x=True, init='k-means++', max_iter=300,\n",
              "       n_clusters=2, n_init=10, n_jobs=None, precompute_distances='auto',\n",
              "       random_state=None, tol=0.0001, verbose=0)"
            ]
          },
          "metadata": {
            "tags": []
          },
          "execution_count": 24
        }
      ]
    },
    {
      "cell_type": "markdown",
      "metadata": {
        "colab_type": "text",
        "id": "2HgsnjT7-iqp"
      },
      "source": [
        "#Queríamos saber se, na pratica, há uma relação com relação ao Valor Médio do Time em sua Posição no Campeonato. Para visualizarmos, usamos o seaborn, plotando as informações de Media_Valor, que corresponde à média do valor do time naquela temporada, e a Posição no campeonato. Identificamos que os times que tem os mais altos valores sempre estão nas 16ª posições para cima. Salvo alguns casos, que podem explicar clubes que gastaram muito na temporada, elevaram seu Valor Médio, mas não conseguiram bons resultados no campeonato."
      ]
    },
    {
      "cell_type": "code",
      "metadata": {
        "id": "bLn4ZEWfoWu8",
        "colab_type": "code",
        "outputId": "908a4830-dfce-4b59-fffa-121561cfed7e",
        "colab": {
          "base_uri": "https://localhost:8080/",
          "height": 307
        }
      },
      "source": [
        "import seaborn as sns \n",
        "sns.scatterplot(bras['Pos.'], bras['Media_Valor'], hue=k.labels_, palette=sns.color_palette('Set2',2))"
      ],
      "execution_count": 0,
      "outputs": [
        {
          "output_type": "execute_result",
          "data": {
            "text/plain": [
              "<matplotlib.axes._subplots.AxesSubplot at 0x7f18d6af4940>"
            ]
          },
          "metadata": {
            "tags": []
          },
          "execution_count": 25
        },
        {
          "output_type": "display_data",
          "data": {
            "image/png": "[encoded data removed]",
            "text/plain": [
              "<Figure size 432x288 with 1 Axes>"
            ]
          },
          "metadata": {
            "tags": []
          }
        }
      ]
    },
    {
      "cell_type": "code",
      "metadata": {
        "id": "MZZ6buERsX-4",
        "colab_type": "code",
        "outputId": "9e549019-9bfa-4ea9-880c-25743401bfe4",
        "colab": {
          "base_uri": "https://localhost:8080/",
          "height": 34
        }
      },
      "source": [
        "!pwd"
      ],
      "execution_count": 0,
      "outputs": [
        {
          "output_type": "stream",
          "text": [
            "/content\n"
          ],
          "name": "stdout"
        }
      ]
    },
    {
      "cell_type": "code",
      "metadata": {
        "id": "wtakUaNZsmk-",
        "colab_type": "code",
        "outputId": "ebe90e10-8937-4f29-d135-2557a88c0435",
        "colab": {
          "base_uri": "https://localhost:8080/",
          "height": 34
        }
      },
      "source": [
        " !whoami"
      ],
      "execution_count": 0,
      "outputs": [
        {
          "output_type": "stream",
          "text": [
            "root\n"
          ],
          "name": "stdout"
        }
      ]
    },
    {
      "cell_type": "code",
      "metadata": {
        "id": "G1w5cikYspbd",
        "colab_type": "code",
        "outputId": "64983068-eed8-4433-9b9d-918060ba766e",
        "colab": {
          "base_uri": "https://localhost:8080/",
          "height": 34
        }
      },
      "source": [
        "! ls"
      ],
      "execution_count": 0,
      "outputs": [
        {
          "output_type": "stream",
          "text": [
            "drive  sample_data\n"
          ],
          "name": "stdout"
        }
      ]
    },
    {
      "cell_type": "code",
      "metadata": {
        "id": "OUX3PHfHssCB",
        "colab_type": "code",
        "outputId": "d1b003ec-06f5-48b3-8d2d-c060ee2b908d",
        "colab": {
          "base_uri": "https://localhost:8080/",
          "height": 34
        }
      },
      "source": [
        "!pip install graphviz"
      ],
      "execution_count": 0,
      "outputs": [
        {
          "output_type": "stream",
          "text": [
            "Requirement already satisfied: graphviz in /usr/local/lib/python3.6/dist-packages (0.10.1)\n"
          ],
          "name": "stdout"
        }
      ]
    },
    {
      "cell_type": "code",
      "metadata": {
        "id": "A0-RHfJOsw57",
        "colab_type": "code",
        "outputId": "5481e346-9054-4585-c2fe-a6378afcb32a",
        "colab": {
          "base_uri": "https://localhost:8080/",
          "height": 102
        }
      },
      "source": [
        "!apt-get install graphviz"
      ],
      "execution_count": 0,
      "outputs": [
        {
          "output_type": "stream",
          "text": [
            "Reading package lists... Done\n",
            "Building dependency tree       \n",
            "Reading state information... Done\n",
            "graphviz is already the newest version (2.40.1-2).\n",
            "0 upgraded, 0 newly installed, 0 to remove and 25 not upgraded.\n"
          ],
          "name": "stdout"
        }
      ]
    },
    {
      "cell_type": "code",
      "metadata": {
        "id": "BFrQcwIisyr_",
        "colab_type": "code",
        "outputId": "a428c706-328b-4af0-e32a-c1a76913cb90",
        "colab": {
          "base_uri": "https://localhost:8080/",
          "height": 419
        }
      },
      "source": [
        "bras"
      ],
      "execution_count": 0,
      "outputs": [
        {
          "output_type": "execute_result",
          "data": {
            "text/html": [
              "<div>\n",
              "<style scoped>\n",
              "    .dataframe tbody tr th:only-of-type {\n",
              "        vertical-align: middle;\n",
              "    }\n",
              "\n",
              "    .dataframe tbody tr th {\n",
              "        vertical-align: top;\n",
              "    }\n",
              "\n",
              "    .dataframe thead th {\n",
              "        text-align: right;\n",
              "    }\n",
              "</style>\n",
              "<table border=\"1\" class=\"dataframe\">\n",
              "  <thead>\n",
              "    <tr style=\"text-align: right;\">\n",
              "      <th></th>\n",
              "      <th>Pos.</th>\n",
              "      <th>Gols Pro</th>\n",
              "      <th>Gols Sofridos</th>\n",
              "      <th>Saldo</th>\n",
              "      <th>Qtd_Jogadores</th>\n",
              "      <th>Idade_Media</th>\n",
              "      <th>Estrangeiros</th>\n",
              "      <th>Valor_total</th>\n",
              "      <th>Media_Valor</th>\n",
              "    </tr>\n",
              "  </thead>\n",
              "  <tbody>\n",
              "    <tr>\n",
              "      <th>0</th>\n",
              "      <td>18</td>\n",
              "      <td>30</td>\n",
              "      <td>47</td>\n",
              "      <td>-17</td>\n",
              "      <td>51</td>\n",
              "      <td>24.8</td>\n",
              "      <td>0</td>\n",
              "      <td>27350000</td>\n",
              "      <td>536000</td>\n",
              "    </tr>\n",
              "    <tr>\n",
              "      <th>1</th>\n",
              "      <td>7</td>\n",
              "      <td>54</td>\n",
              "      <td>37</td>\n",
              "      <td>17</td>\n",
              "      <td>52</td>\n",
              "      <td>24.0</td>\n",
              "      <td>3</td>\n",
              "      <td>37650000</td>\n",
              "      <td>724000</td>\n",
              "    </tr>\n",
              "    <tr>\n",
              "      <th>2</th>\n",
              "      <td>6</td>\n",
              "      <td>56</td>\n",
              "      <td>43</td>\n",
              "      <td>13</td>\n",
              "      <td>50</td>\n",
              "      <td>23.4</td>\n",
              "      <td>6</td>\n",
              "      <td>61350000</td>\n",
              "      <td>1230000</td>\n",
              "    </tr>\n",
              "    <tr>\n",
              "      <th>3</th>\n",
              "      <td>11</td>\n",
              "      <td>39</td>\n",
              "      <td>41</td>\n",
              "      <td>-2</td>\n",
              "      <td>48</td>\n",
              "      <td>23.2</td>\n",
              "      <td>2</td>\n",
              "      <td>34900000</td>\n",
              "      <td>727000</td>\n",
              "    </tr>\n",
              "    <tr>\n",
              "      <th>4</th>\n",
              "      <td>9</td>\n",
              "      <td>38</td>\n",
              "      <td>46</td>\n",
              "      <td>-8</td>\n",
              "      <td>45</td>\n",
              "      <td>23.1</td>\n",
              "      <td>4</td>\n",
              "      <td>25550000</td>\n",
              "      <td>568000</td>\n",
              "    </tr>\n",
              "    <tr>\n",
              "      <th>...</th>\n",
              "      <td>...</td>\n",
              "      <td>...</td>\n",
              "      <td>...</td>\n",
              "      <td>...</td>\n",
              "      <td>...</td>\n",
              "      <td>...</td>\n",
              "      <td>...</td>\n",
              "      <td>...</td>\n",
              "      <td>...</td>\n",
              "    </tr>\n",
              "    <tr>\n",
              "      <th>195</th>\n",
              "      <td>18</td>\n",
              "      <td>46</td>\n",
              "      <td>61</td>\n",
              "      <td>-15</td>\n",
              "      <td>43</td>\n",
              "      <td>25.1</td>\n",
              "      <td>3</td>\n",
              "      <td>6230000</td>\n",
              "      <td>145000</td>\n",
              "    </tr>\n",
              "    <tr>\n",
              "      <th>196</th>\n",
              "      <td>12</td>\n",
              "      <td>58</td>\n",
              "      <td>58</td>\n",
              "      <td>0</td>\n",
              "      <td>33</td>\n",
              "      <td>23.9</td>\n",
              "      <td>1</td>\n",
              "      <td>27850000</td>\n",
              "      <td>844000</td>\n",
              "    </tr>\n",
              "    <tr>\n",
              "      <th>197</th>\n",
              "      <td>3</td>\n",
              "      <td>57</td>\n",
              "      <td>42</td>\n",
              "      <td>15</td>\n",
              "      <td>30</td>\n",
              "      <td>23.9</td>\n",
              "      <td>1</td>\n",
              "      <td>46650000</td>\n",
              "      <td>1560000</td>\n",
              "    </tr>\n",
              "    <tr>\n",
              "      <th>198</th>\n",
              "      <td>20</td>\n",
              "      <td>48</td>\n",
              "      <td>71</td>\n",
              "      <td>-23</td>\n",
              "      <td>30</td>\n",
              "      <td>25.0</td>\n",
              "      <td>1</td>\n",
              "      <td>15600000</td>\n",
              "      <td>520000</td>\n",
              "    </tr>\n",
              "    <tr>\n",
              "      <th>199</th>\n",
              "      <td>13</td>\n",
              "      <td>51</td>\n",
              "      <td>57</td>\n",
              "      <td>-6</td>\n",
              "      <td>38</td>\n",
              "      <td>24.1</td>\n",
              "      <td>2</td>\n",
              "      <td>13450000</td>\n",
              "      <td>354000</td>\n",
              "    </tr>\n",
              "  </tbody>\n",
              "</table>\n",
              "<p>200 rows × 9 columns</p>\n",
              "</div>"
            ],
            "text/plain": [
              "     Pos.  Gols Pro   Gols Sofridos   ...  Estrangeiros  Valor_total  Media_Valor\n",
              "0      18         30              47  ...             0     27350000       536000\n",
              "1       7         54              37  ...             3     37650000       724000\n",
              "2       6         56              43  ...             6     61350000      1230000\n",
              "3      11         39              41  ...             2     34900000       727000\n",
              "4       9         38              46  ...             4     25550000       568000\n",
              "..    ...        ...             ...  ...           ...          ...          ...\n",
              "195    18         46              61  ...             3      6230000       145000\n",
              "196    12         58              58  ...             1     27850000       844000\n",
              "197     3         57              42  ...             1     46650000      1560000\n",
              "198    20         48              71  ...             1     15600000       520000\n",
              "199    13         51              57  ...             2     13450000       354000\n",
              "\n",
              "[200 rows x 9 columns]"
            ]
          },
          "metadata": {
            "tags": []
          },
          "execution_count": 26
        }
      ]
    },
    {
      "cell_type": "markdown",
      "metadata": {
        "id": "rXMEWy_wjIQe",
        "colab_type": "text"
      },
      "source": [
        "##Regressão Linear\n",
        "#A outra analise que temos através do nosso Dataset foi a Regressão Linear, onde pretendíamos prever qual a Posição na tabela do Time com base em seu histórico de Saldo, que é a qtd de gols que o time sofreu, menos a qtd de gols pro, ou seja, gols a favor."
      ]
    },
    {
      "cell_type": "code",
      "metadata": {
        "id": "F28-jVqqkINm",
        "colab_type": "code",
        "outputId": "fa02c2eb-56db-43f8-89b8-ffa0e20bc0c4",
        "colab": {
          "base_uri": "https://localhost:8080/",
          "height": 359
        }
      },
      "source": [
        "import pandas as pd\n",
        "\n",
        "bras = pd.read_excel(\"/content/tabela_brasileirao_results2.xlsx\")\n",
        "bras.head(10)  "
      ],
      "execution_count": 0,
      "outputs": [
        {
          "output_type": "execute_result",
          "data": {
            "text/html": [
              "<div>\n",
              "<style scoped>\n",
              "    .dataframe tbody tr th:only-of-type {\n",
              "        vertical-align: middle;\n",
              "    }\n",
              "\n",
              "    .dataframe tbody tr th {\n",
              "        vertical-align: top;\n",
              "    }\n",
              "\n",
              "    .dataframe thead th {\n",
              "        text-align: right;\n",
              "    }\n",
              "</style>\n",
              "<table border=\"1\" class=\"dataframe\">\n",
              "  <thead>\n",
              "    <tr style=\"text-align: right;\">\n",
              "      <th></th>\n",
              "      <th>Pos.</th>\n",
              "      <th>Gols Pro</th>\n",
              "      <th>Gols Sofridos</th>\n",
              "      <th>Saldo</th>\n",
              "      <th>Qtd_Jogadores</th>\n",
              "      <th>Idade_Media</th>\n",
              "      <th>Estrangeiros</th>\n",
              "      <th>Valor_total</th>\n",
              "      <th>Media_Valor</th>\n",
              "    </tr>\n",
              "  </thead>\n",
              "  <tbody>\n",
              "    <tr>\n",
              "      <th>0</th>\n",
              "      <td>18</td>\n",
              "      <td>30</td>\n",
              "      <td>47</td>\n",
              "      <td>-17</td>\n",
              "      <td>51</td>\n",
              "      <td>24.8</td>\n",
              "      <td>0</td>\n",
              "      <td>27350000</td>\n",
              "      <td>536000</td>\n",
              "    </tr>\n",
              "    <tr>\n",
              "      <th>1</th>\n",
              "      <td>7</td>\n",
              "      <td>54</td>\n",
              "      <td>37</td>\n",
              "      <td>17</td>\n",
              "      <td>52</td>\n",
              "      <td>24.0</td>\n",
              "      <td>3</td>\n",
              "      <td>37650000</td>\n",
              "      <td>724000</td>\n",
              "    </tr>\n",
              "    <tr>\n",
              "      <th>2</th>\n",
              "      <td>6</td>\n",
              "      <td>56</td>\n",
              "      <td>43</td>\n",
              "      <td>13</td>\n",
              "      <td>50</td>\n",
              "      <td>23.4</td>\n",
              "      <td>6</td>\n",
              "      <td>61350000</td>\n",
              "      <td>1230000</td>\n",
              "    </tr>\n",
              "    <tr>\n",
              "      <th>3</th>\n",
              "      <td>11</td>\n",
              "      <td>39</td>\n",
              "      <td>41</td>\n",
              "      <td>-2</td>\n",
              "      <td>48</td>\n",
              "      <td>23.2</td>\n",
              "      <td>2</td>\n",
              "      <td>34900000</td>\n",
              "      <td>727000</td>\n",
              "    </tr>\n",
              "    <tr>\n",
              "      <th>4</th>\n",
              "      <td>9</td>\n",
              "      <td>38</td>\n",
              "      <td>46</td>\n",
              "      <td>-8</td>\n",
              "      <td>45</td>\n",
              "      <td>23.1</td>\n",
              "      <td>4</td>\n",
              "      <td>25550000</td>\n",
              "      <td>568000</td>\n",
              "    </tr>\n",
              "    <tr>\n",
              "      <th>5</th>\n",
              "      <td>15</td>\n",
              "      <td>32</td>\n",
              "      <td>38</td>\n",
              "      <td>-6</td>\n",
              "      <td>54</td>\n",
              "      <td>26.0</td>\n",
              "      <td>2</td>\n",
              "      <td>26950000</td>\n",
              "      <td>499000</td>\n",
              "    </tr>\n",
              "    <tr>\n",
              "      <th>6</th>\n",
              "      <td>14</td>\n",
              "      <td>34</td>\n",
              "      <td>50</td>\n",
              "      <td>-16</td>\n",
              "      <td>52</td>\n",
              "      <td>24.8</td>\n",
              "      <td>5</td>\n",
              "      <td>32030000</td>\n",
              "      <td>616000</td>\n",
              "    </tr>\n",
              "    <tr>\n",
              "      <th>7</th>\n",
              "      <td>13</td>\n",
              "      <td>34</td>\n",
              "      <td>35</td>\n",
              "      <td>-1</td>\n",
              "      <td>54</td>\n",
              "      <td>24.3</td>\n",
              "      <td>6</td>\n",
              "      <td>61400000</td>\n",
              "      <td>1140000</td>\n",
              "    </tr>\n",
              "    <tr>\n",
              "      <th>8</th>\n",
              "      <td>8</td>\n",
              "      <td>34</td>\n",
              "      <td>34</td>\n",
              "      <td>0</td>\n",
              "      <td>51</td>\n",
              "      <td>24.0</td>\n",
              "      <td>5</td>\n",
              "      <td>62250000</td>\n",
              "      <td>1220000</td>\n",
              "    </tr>\n",
              "    <tr>\n",
              "      <th>9</th>\n",
              "      <td>2</td>\n",
              "      <td>59</td>\n",
              "      <td>29</td>\n",
              "      <td>30</td>\n",
              "      <td>48</td>\n",
              "      <td>23.8</td>\n",
              "      <td>7</td>\n",
              "      <td>67380000</td>\n",
              "      <td>1400000</td>\n",
              "    </tr>\n",
              "  </tbody>\n",
              "</table>\n",
              "</div>"
            ],
            "text/plain": [
              "   Pos.  Gols Pro   Gols Sofridos   ...  Estrangeiros  Valor_total  Media_Valor\n",
              "0    18         30              47  ...             0     27350000       536000\n",
              "1     7         54              37  ...             3     37650000       724000\n",
              "2     6         56              43  ...             6     61350000      1230000\n",
              "3    11         39              41  ...             2     34900000       727000\n",
              "4     9         38              46  ...             4     25550000       568000\n",
              "5    15         32              38  ...             2     26950000       499000\n",
              "6    14         34              50  ...             5     32030000       616000\n",
              "7    13         34              35  ...             6     61400000      1140000\n",
              "8     8         34              34  ...             5     62250000      1220000\n",
              "9     2         59              29  ...             7     67380000      1400000\n",
              "\n",
              "[10 rows x 9 columns]"
            ]
          },
          "metadata": {
            "tags": []
          },
          "execution_count": 28
        }
      ]
    },
    {
      "cell_type": "code",
      "metadata": {
        "id": "IqHb1FReeto-",
        "colab_type": "code",
        "outputId": "166f8e3b-9572-41e1-cf3d-b2dbcdbc627b",
        "colab": {
          "base_uri": "https://localhost:8080/",
          "height": 34
        }
      },
      "source": [
        "from sklearn.linear_model import LinearRegression\n",
        "regfut = LinearRegression()\n",
        "regfut.fit(bras[['Saldo','Qtd_Jogadores']] , bras['Pos.'] ) \n",
        "print(regfut.coef_,regfut.intercept_)"
      ],
      "execution_count": 0,
      "outputs": [
        {
          "output_type": "stream",
          "text": [
            "[-0.33264163 -0.00941172] 10.90686881543235\n"
          ],
          "name": "stdout"
        }
      ]
    },
    {
      "cell_type": "markdown",
      "metadata": {
        "colab_type": "text",
        "id": "AjXcU2yu-13K"
      },
      "source": [
        "##Usamos a biblioteca do sklearn, onde definimos nossas variáveis Saldo e Qtd_Jogadores, para criar uma previsão de qual será a posição do Time na próxima temporada.\n",
        "#Testamos com outras variáveis, mas com Saldo e Qtd_Jogadores tivemos melhores resultados, conforme demonstramos abaixo."
      ]
    },
    {
      "cell_type": "code",
      "metadata": {
        "id": "pdNppLa3kY-I",
        "colab_type": "code",
        "colab": {}
      },
      "source": [
        "def prever_pos (Saldo, Qtd_Jogadores):\n",
        "  PrevisaoPos = Saldo* -0.3326 * Qtd_Jogadores * -0.0094 - 10.9068\n",
        "  return PrevisaoPos\n",
        "\n"
      ],
      "execution_count": 0,
      "outputs": []
    },
    {
      "cell_type": "code",
      "metadata": {
        "id": "pPBkKzaMlI7A",
        "colab_type": "code",
        "outputId": "9e8d3c7c-8b71-43fc-c2c8-69687b8cb764",
        "colab": {
          "base_uri": "https://localhost:8080/",
          "height": 68
        }
      },
      "source": [
        "  print(prever_pos(41,50))\n",
        "  print(prever_pos(0,33))\n",
        "  print(prever_pos(-6,24))\n"
      ],
      "execution_count": 0,
      "outputs": [
        {
          "output_type": "stream",
          "text": [
            "-4.497598000000001\n",
            "-10.9068\n",
            "-11.35700736\n"
          ],
          "name": "stdout"
        }
      ]
    },
    {
      "cell_type": "markdown",
      "metadata": {
        "colab_type": "text",
        "id": "wgiSU2-n_AF7"
      },
      "source": [
        "##O Time que tiver um saldo de 41 gols e 50 Jogadores disponíveis na próxima temporada poderá ficar em 4º Lugar.\n",
        "#Já o Time que tiver -6 de Saldo de Gols e apenas 24 jogadores no elenco ficará em 11º no Campeonato."
      ]
    },
    {
      "cell_type": "code",
      "metadata": {
        "id": "bQ0QQRpc91XH",
        "colab_type": "code",
        "colab": {}
      },
      "source": [
        "import seaborn as sns"
      ],
      "execution_count": 0,
      "outputs": []
    },
    {
      "cell_type": "code",
      "metadata": {
        "id": "uuNpP96295XB",
        "colab_type": "code",
        "outputId": "c8719c0c-8877-444d-caeb-304bb5fe643c",
        "colab": {
          "base_uri": "https://localhost:8080/",
          "height": 386
        }
      },
      "source": [
        "sns.lmplot(\"Saldo\", \"Qtd_Jogadores\", data = bras)"
      ],
      "execution_count": 0,
      "outputs": [
        {
          "output_type": "execute_result",
          "data": {
            "text/plain": [
              "<seaborn.axisgrid.FacetGrid at 0x7f18d6adc978>"
            ]
          },
          "metadata": {
            "tags": []
          },
          "execution_count": 32
        },
        {
          "output_type": "display_data",
          "data": {
            "image/png": "[encoded data removed]",
            "text/plain": [
              "<Figure size 360x360 with 1 Axes>"
            ]
          },
          "metadata": {
            "tags": []
          }
        }
      ]
    }
  ]
}