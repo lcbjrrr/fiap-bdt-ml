{
  "nbformat": 4,
  "nbformat_minor": 0,
  "metadata": {
    "colab": {
      "name": "Kalman.ipynb",
      "provenance": [],
      "collapsed_sections": [],
      "authorship_tag": "ABX9TyMcq0HlI/C9z/WDWHdnAEkK",
      "include_colab_link": true
    },
    "kernelspec": {
      "name": "python3",
      "display_name": "Python 3"
    }
  },
  "cells": [
    {
      "cell_type": "markdown",
      "metadata": {
        "id": "view-in-github",
        "colab_type": "text"
      },
      "source": [
        "<a href=\"https://colab.research.google.com/github/lcbjrrr/fiap-bdt-ml/blob/master/Kalman.ipynb\" target=\"_parent\"><img src=\"https://colab.research.google.com/assets/colab-badge.svg\" alt=\"Open In Colab\"/></a>"
      ]
    },
    {
      "cell_type": "code",
      "metadata": {
        "id": "X4GGpc9afDha",
        "colab_type": "code",
        "colab": {}
      },
      "source": [
        ""
      ],
      "execution_count": 0,
      "outputs": []
    },
    {
      "cell_type": "code",
      "metadata": {
        "id": "QtzYmq60rA6Z",
        "colab_type": "code",
        "outputId": "52b76ddf-d87c-4569-841a-0f22e9ee4d52",
        "colab": {
          "base_uri": "https://localhost:8080/",
          "height": 105
        }
      },
      "source": [
        "%load_ext rpy2.ipython\n"
      ],
      "execution_count": 0,
      "outputs": [
        {
          "output_type": "stream",
          "text": [
            "/usr/local/lib/python3.6/dist-packages/rpy2/robjects/pandas2ri.py:14: FutureWarning: pandas.core.index is deprecated and will be removed in a future version.  The public classes are available in the top-level namespace.\n",
            "  from pandas.core.index import Index as PandasIndex\n",
            "/usr/local/lib/python3.6/dist-packages/rpy2/robjects/pandas2ri.py:34: UserWarning: pandas >= 1.0 is not supported.\n",
            "  warnings.warn('pandas >= 1.0 is not supported.')\n"
          ],
          "name": "stderr"
        }
      ]
    },
    {
      "cell_type": "code",
      "metadata": {
        "id": "B8JqAk0ZrM_g",
        "colab_type": "code",
        "colab": {}
      },
      "source": [
        "%%R\n",
        "# SS Data Generation Function\n",
        "\n",
        "\n",
        "SS = function(Model,T) {\n",
        "  \n",
        "  # Number of Observation T\n",
        "  # Model with 4 matrices H(pxm), F(mxm), R(pxp) and Q(mxm)\n",
        "  \n",
        "  # Creating the Output Vectors and Matrices\n",
        "  p = dim(Model$H)[1]\n",
        "  print(p)\n",
        "  m = dim(Model$F)[1]\n",
        "  y = matrix(0,p,T)\n",
        "  x = matrix(0,m,T+1)\n",
        "  \n",
        "  sqrtR = Model$R^0.5\n",
        "  sqrtQ = Model$Q^0.5  \n",
        "\n",
        "  set.seed(10)  \n",
        "  for (t in 1:T) {\n",
        "    rnorm_p = rnorm(p) \n",
        "    rnorm_m = rnorm(m)\n",
        "    print('h')\n",
        "    print(Model$H)\n",
        "    print('xt')\n",
        "    print(x[,t])\n",
        "    print('r')\n",
        "    print( sqrtR)\n",
        "    print('p')\n",
        "    print(rnorm_p)\n",
        "    #print('I')\n",
        "    #print((Model$H %*% x[,t]) )\n",
        "    #print('II')\n",
        "    #print((sqrtR %*% rnorm_p ))\n",
        "    #print('I + II')\n",
        "    #print((Model$H %*% x[,t]) + (sqrtR %*% rnorm_p ))\n",
        "\n",
        "    print('f')\n",
        "    print(Model$F)\n",
        "    print('xt')\n",
        "    print(x[,t])\n",
        "    print('q')\n",
        "    print(sqrtQ)\n",
        "    print('m')\n",
        "    print(rnorm_m )\n",
        "\n",
        "\n",
        "    #print(Model$H %*% x[,t] + sqrtR %*% rnorm(p))\n",
        "    #print(Model$F %*% x[,t] + sqrtQ %*% rnorm(m))\n",
        "\n",
        "    y[,t] = (Model$H %*% x[,t]) + (sqrtR %*% rnorm_p )\n",
        "    x[,t+1] = (Model$F %*% x[,t]) + (sqrtQ %*% rnorm_m )\n",
        "    print('# Y')\n",
        "    print(y)\n",
        "    print('# X')\n",
        "    print(x)\n",
        "  } \n",
        "  return(y)\n",
        "}\n",
        "\n"
      ],
      "execution_count": 0,
      "outputs": []
    },
    {
      "cell_type": "code",
      "metadata": {
        "id": "2PbhCQAXrUJR",
        "colab_type": "code",
        "outputId": "972076d3-9549-4a9c-c3c4-7cfcde2b04f9",
        "colab": {
          "base_uri": "https://localhost:8080/",
          "height": 323
        }
      },
      "source": [
        "%%R\n",
        "# Local Linear Trend Model\n",
        "\n",
        "LLTM = list(H = matrix(c(1,0),1,2),\n",
        "            R = matrix(1),\n",
        "            F = matrix(c(1,0,1,1),2,2),\n",
        "            Q = diag(c(0.5,0.001))\n",
        ")\n",
        "\n",
        "LLTM"
      ],
      "execution_count": 0,
      "outputs": [
        {
          "output_type": "stream",
          "text": [
            "$H\n",
            "     [,1] [,2]\n",
            "[1,]    1    0\n",
            "\n",
            "$R\n",
            "     [,1]\n",
            "[1,]    1\n",
            "\n",
            "$F\n",
            "     [,1] [,2]\n",
            "[1,]    1    1\n",
            "[2,]    0    1\n",
            "\n",
            "$Q\n",
            "     [,1]  [,2]\n",
            "[1,]  0.5 0.000\n",
            "[2,]  0.0 0.001\n",
            "\n"
          ],
          "name": "stdout"
        }
      ]
    },
    {
      "cell_type": "code",
      "metadata": {
        "id": "1Uo5xvUKrclw",
        "colab_type": "code",
        "outputId": "4a0a1229-8b89-413e-d680-4e9dc7b3c35c",
        "colab": {
          "base_uri": "https://localhost:8080/",
          "height": 1000
        }
      },
      "source": [
        "%%R\n",
        "T = 4\n",
        "Data = SS(LLTM,T)\n",
        "\n",
        "# Plotting\n",
        "library(ggplot2)\n",
        "library(repr)\n",
        "options(repr.plot.width=5, repr.plot.height=4)\n",
        " \n",
        "qplot(1:T,c(Data),geom = \"line\")"
      ],
      "execution_count": 0,
      "outputs": [
        {
          "output_type": "stream",
          "text": [
            "[1] 1\n",
            "[1] \"h\"\n",
            "     [,1] [,2]\n",
            "[1,]    1    0\n",
            "[1] \"xt\"\n",
            "[1] 0 0\n",
            "[1] \"r\"\n",
            "     [,1]\n",
            "[1,]    1\n",
            "[1] \"p\"\n",
            "[1] 0.01874617\n",
            "[1] \"f\"\n",
            "     [,1] [,2]\n",
            "[1,]    1    1\n",
            "[2,]    0    1\n",
            "[1] \"xt\"\n",
            "[1] 0 0\n",
            "[1] \"q\"\n",
            "          [,1]       [,2]\n",
            "[1,] 0.7071068 0.00000000\n",
            "[2,] 0.0000000 0.03162278\n",
            "[1] \"m\"\n",
            "[1] -0.1842525 -1.3713305\n",
            "[1] \"# Y\"\n",
            "           [,1] [,2] [,3] [,4]\n",
            "[1,] 0.01874617    0    0    0\n",
            "[1] \"# X\"\n",
            "     [,1]        [,2] [,3] [,4] [,5]\n",
            "[1,]    0 -0.13028622    0    0    0\n",
            "[2,]    0 -0.04336528    0    0    0\n",
            "[1] \"h\"\n",
            "     [,1] [,2]\n",
            "[1,]    1    0\n",
            "[1] \"xt\"\n",
            "[1] -0.13028622 -0.04336528\n",
            "[1] \"r\"\n",
            "     [,1]\n",
            "[1,]    1\n",
            "[1] \"p\"\n",
            "[1] -0.5991677\n",
            "[1] \"f\"\n",
            "     [,1] [,2]\n",
            "[1,]    1    1\n",
            "[2,]    0    1\n",
            "[1] \"xt\"\n",
            "[1] -0.13028622 -0.04336528\n",
            "[1] \"q\"\n",
            "          [,1]       [,2]\n",
            "[1,] 0.7071068 0.00000000\n",
            "[2,] 0.0000000 0.03162278\n",
            "[1] \"m\"\n",
            "[1] 0.2945451 0.3897943\n",
            "[1] \"# Y\"\n",
            "           [,1]       [,2] [,3] [,4]\n",
            "[1,] 0.01874617 -0.7294539    0    0\n",
            "[1] \"# X\"\n",
            "     [,1]        [,2]        [,3] [,4] [,5]\n",
            "[1,]    0 -0.13028622  0.03462335    0    0\n",
            "[2,]    0 -0.04336528 -0.03103890    0    0\n",
            "[1] \"h\"\n",
            "     [,1] [,2]\n",
            "[1,]    1    0\n",
            "[1] \"xt\"\n",
            "[1]  0.03462335 -0.03103890\n",
            "[1] \"r\"\n",
            "     [,1]\n",
            "[1,]    1\n",
            "[1] \"p\"\n",
            "[1] -1.208076\n",
            "[1] \"f\"\n",
            "     [,1] [,2]\n",
            "[1,]    1    1\n",
            "[2,]    0    1\n",
            "[1] \"xt\"\n",
            "[1]  0.03462335 -0.03103890\n",
            "[1] \"q\"\n",
            "          [,1]       [,2]\n",
            "[1,] 0.7071068 0.00000000\n",
            "[2,] 0.0000000 0.03162278\n",
            "[1] \"m\"\n",
            "[1] -0.363676 -1.626673\n",
            "[1] \"# Y\"\n",
            "           [,1]       [,2]      [,3] [,4]\n",
            "[1,] 0.01874617 -0.7294539 -1.173453    0\n",
            "[1] \"# X\"\n",
            "     [,1]        [,2]        [,3]        [,4] [,5]\n",
            "[1,]    0 -0.13028622  0.03462335 -0.25357332    0\n",
            "[2,]    0 -0.04336528 -0.03103890 -0.08247881    0\n",
            "[1] \"h\"\n",
            "     [,1] [,2]\n",
            "[1,]    1    0\n",
            "[1] \"xt\"\n",
            "[1] -0.25357332 -0.08247881\n",
            "[1] \"r\"\n",
            "     [,1]\n",
            "[1,]    1\n",
            "[1] \"p\"\n",
            "[1] -0.2564784\n",
            "[1] \"f\"\n",
            "     [,1] [,2]\n",
            "[1,]    1    1\n",
            "[2,]    0    1\n",
            "[1] \"xt\"\n",
            "[1] -0.25357332 -0.08247881\n",
            "[1] \"q\"\n",
            "          [,1]       [,2]\n",
            "[1,] 0.7071068 0.00000000\n",
            "[2,] 0.0000000 0.03162278\n",
            "[1] \"m\"\n",
            "[1] 1.1017795 0.7557815\n",
            "[1] \"# Y\"\n",
            "           [,1]       [,2]      [,3]       [,4]\n",
            "[1,] 0.01874617 -0.7294539 -1.173453 -0.5100517\n",
            "[1] \"# X\"\n",
            "     [,1]        [,2]        [,3]        [,4]       [,5]\n",
            "[1,]    0 -0.13028622  0.03462335 -0.25357332  0.4430236\n",
            "[2,]    0 -0.04336528 -0.03103890 -0.08247881 -0.0585789\n"
          ],
          "name": "stdout"
        },
        {
          "output_type": "display_data",
          "data": {
            "image/png": "[encoded data removed]"
          },
          "metadata": {
            "tags": []
          }
        }
      ]
    },
    {
      "cell_type": "code",
      "metadata": {
        "id": "yGJ8RAAZrUQD",
        "colab_type": "code",
        "colab": {}
      },
      "source": [
        "%%R\n",
        "# Kalman Filter Implementaion\n",
        "\n",
        "KF = function(Data, Model) {\n",
        "  \n",
        "  # Data as matrix (pxT)\n",
        "  # Model has 4 matrices H(pxm), F(mxm), R(pxp) and Q(mxm)\n",
        "  \n",
        "  # Creating the Output Vectors and Matrices\n",
        "  p = dim(Data)[1]\n",
        "  T = dim(Data)[2]\n",
        "  m = dim(Model$F)[1]\n",
        "  v = y_hat = matrix(0,p,T) # estimation error\n",
        "  a = matrix(0,m,T)         # estimate for states\n",
        "  a_minus = matrix(0,m,T+1) \n",
        "  S = array(0,dim = c(p,p,T))\n",
        "  V = array(0,dim = c(m,m,T))\n",
        "  V_minus = array(0,dim = c(m,m,T+1))\n",
        "  K = array(0,dim = c(m,p,T))  \n",
        "  \n",
        "  for (t in 1:T) {\n",
        "    i=!is.na(Data[,t])                  # Find the non-missing  \n",
        "    y_hat[,t] = Model$H %*% a_minus[,t] # Filtered Values\n",
        "    H = Model$H[i,,drop = FALSE]\n",
        "    R = Model$R[i,i,drop=FALSE]  \n",
        "    \n",
        "    # Update Equations\n",
        "    v[i,t] = Data[i,t] - H %*% a_minus[,t,drop = FALSE]\n",
        "    S[i,i,t] = H %*% V_minus[,,t] %*% t(H) + R # estimation error + measurement error\n",
        "    \n",
        "    # below the kalman gain\n",
        "    # kalman gain = Eest / (Eest + Emed)\n",
        "    print('S')\n",
        "    print(S[i,i,t])\n",
        "    if (any(i)) K[,i,t] = V_minus[,,t] %*% t(H) %*% solve(S[i,i,t]) \n",
        "    a[,t] = a_minus[,t] + K[,i,t] %*% v[i,t,drop=FALSE]\n",
        "    print('K[,i,t]')\n",
        "    print(K[,i,t])\n",
        "    print('H')\n",
        "    print(H)\n",
        "    print('@')\n",
        "    print(K[,i,t] %*% H)\n",
        "    V[,,t] = (diag(m) - K[,i,t] %*% H) %*% V_minus[,,t]\n",
        "    \n",
        "    # Forecast Equations\n",
        "    a_minus[,t+1] = Model$F %*% a[,t]\n",
        "    V_minus[,,t+1] = Model$F %*% V[,,t] %*%  t(Model$F) + Model$Q\n",
        "  }\n",
        "  \n",
        "  return(list(v=v,S=S,K=K,a=a,a_minus=a_minus[,-(T+1)],V=V,V_minus=V_minus[,,-(T+1)],y_hat=y_hat))  \n",
        "}\n"
      ],
      "execution_count": 0,
      "outputs": []
    },
    {
      "cell_type": "code",
      "metadata": {
        "id": "mI5CXJqlriZq",
        "colab_type": "code",
        "outputId": "2f7ebf28-2042-43ab-8444-5c7e572d60ee",
        "colab": {
          "base_uri": "https://localhost:8080/",
          "height": 1000
        }
      },
      "source": [
        "%%R\n",
        "\n",
        "\n",
        "\n",
        "# Applying the KF in the LLTM\n",
        "\n",
        "Out = KF(Data,LLTM)\n",
        "\n",
        "options(repr.plot.width=6.5, repr.plot.height=4)\n",
        "\n",
        "plot_data = data.frame(time = 1:T,\n",
        "                       true = c(Data),\n",
        "                       filtered = c(Out$y_hat),\n",
        "                       sd = sqrt(c(Out$S)))\n",
        "\n",
        "nsd = 2\n",
        "\n",
        "ggplot(plot_data, aes(x = time)) + \n",
        "  geom_line(aes(y = true, colour = \"Data\")) +\n",
        "  geom_line(aes(y = filtered, colour = \"Filtered\")) +\n",
        "  # geom_line(aes(y = filtered + nsd*sd, colour = \"UB\")) +\n",
        "  # geom_line(aes(y = filtered - nsd*sd, colour = \"LB\")) +\n",
        "  # theme(legend.position = c(0.8, 0.8)) +\n",
        "  theme(legend.title=element_blank()) +\n",
        "  ggtitle(\"Filtered Local Linear Trend Model\") +\n",
        "  xlab(\"Time\") +\n",
        "  ylab(\"\")\n"
      ],
      "execution_count": 0,
      "outputs": [
        {
          "output_type": "stream",
          "text": [
            "[1] \"S\"\n",
            "[1] 1\n",
            "[1] \"K[,i,t]\"\n",
            "[1] 0 0\n",
            "[1] \"H\"\n",
            "     [,1] [,2]\n",
            "[1,]    1    0\n",
            "[1] \"@\"\n",
            "     [,1] [,2]\n",
            "[1,]    0    0\n",
            "[2,]    0    0\n",
            "[1] \"S\"\n",
            "[1] 1.5\n",
            "[1] \"K[,i,t]\"\n",
            "[1] 0.3333333 0.0000000\n",
            "[1] \"H\"\n",
            "     [,1] [,2]\n",
            "[1,]    1    0\n",
            "[1] \"@\"\n",
            "          [,1] [,2]\n",
            "[1,] 0.3333333    0\n",
            "[2,] 0.0000000    0\n",
            "[1] \"S\"\n",
            "[1] 1.834333\n",
            "[1] \"K[,i,t]\"\n",
            "[1] 0.4548428130 0.0005451572\n",
            "[1] \"H\"\n",
            "     [,1] [,2]\n",
            "[1,]    1    0\n",
            "[1] \"@\"\n",
            "             [,1] [,2]\n",
            "[1,] 0.4548428130    0\n",
            "[2,] 0.0005451572    0\n",
            "[1] \"S\"\n",
            "[1] 1.957933\n",
            "[1] \"K[,i,t]\"\n",
            "[1] 0.489257184 0.001299642\n",
            "[1] \"H\"\n",
            "     [,1] [,2]\n",
            "[1,]    1    0\n",
            "[1] \"@\"\n",
            "            [,1] [,2]\n",
            "[1,] 0.489257184    0\n",
            "[2,] 0.001299642    0\n"
          ],
          "name": "stdout"
        },
        {
          "output_type": "display_data",
          "data": {
            "image/png": "[encoded data removed]"
          },
          "metadata": {
            "tags": []
          }
        }
      ]
    }
  ]
}